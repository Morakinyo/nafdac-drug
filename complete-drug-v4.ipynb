{
 "cells": [
  {
   "cell_type": "code",
   "execution_count": 5,
   "metadata": {},
   "outputs": [],
   "source": [
    "import pandas as pd\n",
    "import numpy as np"
   ]
  },
  {
   "cell_type": "code",
   "execution_count": 6,
   "metadata": {},
   "outputs": [],
   "source": [
    "drug = pd.read_excel('new-drug-v3.xlsx', index_col=0)"
   ]
  },
  {
   "cell_type": "code",
   "execution_count": 135,
   "metadata": {},
   "outputs": [
    {
     "name": "stdout",
     "output_type": "stream",
     "text": [
      "<class 'pandas.core.frame.DataFrame'>\n",
      "Int64Index: 5854 entries, 0 to 5853\n",
      "Data columns (total 24 columns):\n",
      " #   Column                   Non-Null Count  Dtype         \n",
      "---  ------                   --------------  -----         \n",
      " 0   PRODUCT NAME             5854 non-null   object        \n",
      " 1   NAFDAC                   5854 non-null   object        \n",
      " 2   BRAND                    5854 non-null   object        \n",
      " 3   GENERICS                 5854 non-null   object        \n",
      " 4   PRODUCT CATEGORY         5854 non-null   object        \n",
      " 5   PHARM CLASS              5854 non-null   object        \n",
      " 6   ROUTE OF ADMINISTRATION  5854 non-null   object        \n",
      " 7   GROUP                    5854 non-null   object        \n",
      " 8   ACTIVE ING               5854 non-null   object        \n",
      " 9   STRENGTH                 5724 non-null   object        \n",
      " 10  PRESENTATION             5828 non-null   object        \n",
      " 11  DOSAGE FORM              5854 non-null   object        \n",
      " 12  PACK SIZE                5842 non-null   object        \n",
      " 13  MARKETING CATEGORY       5854 non-null   object        \n",
      " 14  APPROVED INDICATION      5853 non-null   object        \n",
      " 15  NAME OF APPLICANT        5831 non-null   object        \n",
      " 16  APPLICANT ADDRESS        5852 non-null   object        \n",
      " 17  COUNTRY                  5854 non-null   object        \n",
      " 18  NAME OF MANUFACTURER     5854 non-null   object        \n",
      " 19  MANUFACTURER ADDRESS     5854 non-null   object        \n",
      " 20  COUNTRY.1                5854 non-null   object        \n",
      " 21  APPROVAL DATE            5854 non-null   object        \n",
      " 22  EXPIRY DATE              5854 non-null   datetime64[ns]\n",
      " 23  date_time                5847 non-null   datetime64[ns]\n",
      "dtypes: datetime64[ns](2), object(22)\n",
      "memory usage: 1.1+ MB\n"
     ]
    }
   ],
   "source": [
    "drug.info()"
   ]
  },
  {
   "cell_type": "code",
   "execution_count": 7,
   "metadata": {},
   "outputs": [
    {
     "data": {
      "text/plain": [
       "PRODUCT NAME                                      OSWORTH PARACETAMOL TABLET\n",
       "NAFDAC                                                               A4-4053\n",
       "BRAND                                                                OSWORTH\n",
       "GENERICS                                                         PARACETAMOL\n",
       "PRODUCT CATEGORY                                                  HUMAN DRUG\n",
       "PHARM CLASS                                          ANALGESIC & ANTIPYRETIC\n",
       "ROUTE OF ADMINISTRATION                                                 ORAL\n",
       "GROUP                                                                   DRUG\n",
       "ACTIVE ING                                                       PARACETAMOL\n",
       "STRENGTH                                                               500MG\n",
       "PRESENTATION                                                TABLET, 1 X 1000\n",
       "DOSAGE FORM                                                           TABLET\n",
       "PACK SIZE                                                           1 X 1000\n",
       "MARKETING CATEGORY                                    OVER THE COUNTER (OTC)\n",
       "APPROVED INDICATION                                                      NaN\n",
       "NAME OF APPLICANT                                    OSWORTH NIGERIA LIMITED\n",
       "APPLICANT ADDRESS          3/5, SAPARA STREET, IKEJA INDUSTRIAL ESTATE, L...\n",
       "COUNTRY                                                              NIGERIA\n",
       "NAME OF MANUFACTURER                                     MAY & BAKER NIGERIA\n",
       "MANUFACTURER ADDRESS       1, MAY & BAKER AVENUE, OFF IDIROKO ROAD, OPPOS...\n",
       "COUNTRY.1                                                            NIGERIA\n",
       "APPROVAL DATE                                            2019-02-27 00:00:00\n",
       "EXPIRY DATE                                              2023-02-26 00:00:00\n",
       "date_time                                                2019-02-27 00:00:00\n",
       "Name: 3172, dtype: object"
      ]
     },
     "execution_count": 7,
     "metadata": {},
     "output_type": "execute_result"
    }
   ],
   "source": [
    "drug.iloc[3172]"
   ]
  },
  {
   "cell_type": "code",
   "execution_count": 136,
   "metadata": {},
   "outputs": [
    {
     "data": {
      "text/html": [
       "<div>\n",
       "<style scoped>\n",
       "    .dataframe tbody tr th:only-of-type {\n",
       "        vertical-align: middle;\n",
       "    }\n",
       "\n",
       "    .dataframe tbody tr th {\n",
       "        vertical-align: top;\n",
       "    }\n",
       "\n",
       "    .dataframe thead th {\n",
       "        text-align: right;\n",
       "    }\n",
       "</style>\n",
       "<table border=\"1\" class=\"dataframe\">\n",
       "  <thead>\n",
       "    <tr style=\"text-align: right;\">\n",
       "      <th></th>\n",
       "      <th>PRODUCT NAME</th>\n",
       "      <th>NAFDAC</th>\n",
       "      <th>BRAND</th>\n",
       "      <th>GENERICS</th>\n",
       "      <th>PRODUCT CATEGORY</th>\n",
       "      <th>PHARM CLASS</th>\n",
       "      <th>ROUTE OF ADMINISTRATION</th>\n",
       "      <th>GROUP</th>\n",
       "      <th>ACTIVE ING</th>\n",
       "      <th>STRENGTH</th>\n",
       "      <th>...</th>\n",
       "      <th>APPROVED INDICATION</th>\n",
       "      <th>NAME OF APPLICANT</th>\n",
       "      <th>APPLICANT ADDRESS</th>\n",
       "      <th>COUNTRY</th>\n",
       "      <th>NAME OF MANUFACTURER</th>\n",
       "      <th>MANUFACTURER ADDRESS</th>\n",
       "      <th>COUNTRY.1</th>\n",
       "      <th>APPROVAL DATE</th>\n",
       "      <th>EXPIRY DATE</th>\n",
       "      <th>date_time</th>\n",
       "    </tr>\n",
       "  </thead>\n",
       "  <tbody>\n",
       "    <tr>\n",
       "      <th>241</th>\n",
       "      <td>LISTERINE TARTAR CONTROL MOUTHWASH</td>\n",
       "      <td>A4--3866</td>\n",
       "      <td>LISTERINE</td>\n",
       "      <td>THYMOL, ALCOHOL, ZINC CHLORIDE</td>\n",
       "      <td>HUMAN DRUG</td>\n",
       "      <td>ANTIBACTERIAL</td>\n",
       "      <td>ORAL</td>\n",
       "      <td>DRUG</td>\n",
       "      <td>THYMOL 12.78MG, ALCOHOL(95%V/V) 4.54ML, ZINC CHLORIDE 18.00MG</td>\n",
       "      <td>12.78MG, (95%V/V) 4.54ML, 18.00MG</td>\n",
       "      <td>...</td>\n",
       "      <td>PREVENTION OF BAD BREATH, GINGIVITIS , PLAQUE &amp; TARTAR BUILD-UP</td>\n",
       "      <td>BOLAR PHARMACEUTICALS LIMITED,</td>\n",
       "      <td>72A ADENIYI JONES AVENUE, IKEJA, LAGOS STATE</td>\n",
       "      <td>NIGERIA</td>\n",
       "      <td>JOHNSON &amp; JOHNSON (PTY) LTD,</td>\n",
       "      <td>241, MAIN ROAD, RETREAT, 7945, SOUTH AFRICA</td>\n",
       "      <td>SOUTH AFRICA</td>\n",
       "      <td>2016-07-28 00:00:00</td>\n",
       "      <td>2021-07-27</td>\n",
       "      <td>2016-07-28</td>\n",
       "    </tr>\n",
       "    <tr>\n",
       "      <th>1044</th>\n",
       "      <td>PARAKRIS -500 TABLET</td>\n",
       "      <td>A4--5653</td>\n",
       "      <td>PARAKRIS</td>\n",
       "      <td>PARACETAMOL</td>\n",
       "      <td>HUMAN DRUG</td>\n",
       "      <td>ANALGESIC</td>\n",
       "      <td>ORAL</td>\n",
       "      <td>DRUG</td>\n",
       "      <td>PARACETAMOL 500MG</td>\n",
       "      <td>500MG</td>\n",
       "      <td>...</td>\n",
       "      <td>RELIEF OF PAIN AND FEVERISH CONDITIONS</td>\n",
       "      <td>KRISHAT PHARMA IND. LTD</td>\n",
       "      <td>9 KILOMETER, OLD LAGOS ROAD, PODO, IBADAN, OYO STATE</td>\n",
       "      <td>NIGERIA</td>\n",
       "      <td>KRISHAT PHARMA IND. LTD</td>\n",
       "      <td>9 KILOMETER, OLD LAGOS ROAD, PODO, IBADAN, OYO STATE</td>\n",
       "      <td>NIGERIA</td>\n",
       "      <td>2017-03-31 00:00:00</td>\n",
       "      <td>2022-03-30</td>\n",
       "      <td>2017-03-31</td>\n",
       "    </tr>\n",
       "    <tr>\n",
       "      <th>1642</th>\n",
       "      <td>GAVISCON TABLETS</td>\n",
       "      <td>A4--7008</td>\n",
       "      <td>GAVISCON</td>\n",
       "      <td>SODIUM ALGINATE, SODIUM HYDROGEN CARBONATE, CALCIUM CARBONATE</td>\n",
       "      <td>HUMAN DRUG</td>\n",
       "      <td>ANTACID</td>\n",
       "      <td>ORAL</td>\n",
       "      <td>DRUG</td>\n",
       "      <td>SODIUM ALGINATE 250MG, SODIUM HYDROGEN CARBONATE 133.5MG, CALCIUM CARBONATE 80MG</td>\n",
       "      <td>250MG, 133,5MG, 80MG</td>\n",
       "      <td>...</td>\n",
       "      <td>HEART BURN, INDIGESTION</td>\n",
       "      <td>RECKITT BENCKISER NIG LTD. .</td>\n",
       "      <td>PLOT C 2/3, INDUSTRIAL ESTATE, OGUN STATE.</td>\n",
       "      <td>NIGERIA</td>\n",
       "      <td>RECKITT BENCKISER HEALTHCARE (UK) LTD.</td>\n",
       "      <td>DANSON LANE, HULL EAST, YORKSHIRE HU8, 7DS.</td>\n",
       "      <td>DS</td>\n",
       "      <td>2017-01-11 00:00:00</td>\n",
       "      <td>2022-01-10</td>\n",
       "      <td>2017-01-11</td>\n",
       "    </tr>\n",
       "    <tr>\n",
       "      <th>1643</th>\n",
       "      <td>FEROGLOBIN B12 CAPSULES</td>\n",
       "      <td>04--6433</td>\n",
       "      <td>FEROGLOBIN B12</td>\n",
       "      <td>IRON (AS FUMARATE), ZINC, COPPER, FOLACIN (AS FOLIC ACID), VIT B12, VIT B6</td>\n",
       "      <td>HUMAN DRUG</td>\n",
       "      <td>SUPPLEMENT</td>\n",
       "      <td>ORAL</td>\n",
       "      <td>DRUG</td>\n",
       "      <td>IRON (AS FUMARATE) 24MG, ZINC 12 MG, COPPER 2MG, FOLACIN (AS FOLIC ACID) 500MCG, VIT B12 10MCG, VIT B6 5MG</td>\n",
       "      <td>24MG, 12MG, 500MCG, 10MCG, 5MG</td>\n",
       "      <td>...</td>\n",
       "      <td>VITAMIN &amp; MINERAL DEFICIENCIES</td>\n",
       "      <td>ADLER PRODUCTS LTD.</td>\n",
       "      <td>32, ODUYEMI STREET, IKEJA, LAGOS</td>\n",
       "      <td>NIGERIA</td>\n",
       "      <td>VITABIOTICS LTD.</td>\n",
       "      <td>1, APSLEY WAY, LONDON NW2 7HF,ENGLAND.</td>\n",
       "      <td>ENGLAND</td>\n",
       "      <td>2017-01-11 00:00:00</td>\n",
       "      <td>2022-01-10</td>\n",
       "      <td>2017-01-11</td>\n",
       "    </tr>\n",
       "    <tr>\n",
       "      <th>5649</th>\n",
       "      <td>TAVANIC TABLETS</td>\n",
       "      <td>04--3143</td>\n",
       "      <td>TAVANIC</td>\n",
       "      <td>LEVOFLOXAXIN 500MG</td>\n",
       "      <td>HUMAN DRUG</td>\n",
       "      <td>ANTIBIOTICS</td>\n",
       "      <td>ORAL</td>\n",
       "      <td>DRUG</td>\n",
       "      <td>LEVOFLOXAXIN</td>\n",
       "      <td>500MG</td>\n",
       "      <td>...</td>\n",
       "      <td>SUSCEPTIBLE BACTERIAL INFECTION</td>\n",
       "      <td>SANOFI AVENTIS NIG LTD</td>\n",
       "      <td>PLOT NO. 8 NURUDEEN OLOWOPOPO AVENUE IKEJA CBD AGIDINGBI LAGOS STATE</td>\n",
       "      <td>NIGERIA</td>\n",
       "      <td>SANOFI WINTHROP INDUSTRIES</td>\n",
       "      <td>1, RUE DE LA VIERGE- AMBARES ET LAGRAVE 33565 CARBON BLANC CEDEX- FRANCE</td>\n",
       "      <td>FRANCE</td>\n",
       "      <td>2020-12-21 00:00:00</td>\n",
       "      <td>2025-12-20</td>\n",
       "      <td>2020-12-21</td>\n",
       "    </tr>\n",
       "  </tbody>\n",
       "</table>\n",
       "<p>5 rows × 24 columns</p>\n",
       "</div>"
      ],
      "text/plain": [
       "                            PRODUCT NAME    NAFDAC           BRAND  \\\n",
       "241   LISTERINE TARTAR CONTROL MOUTHWASH  A4--3866       LISTERINE   \n",
       "1044                PARAKRIS -500 TABLET  A4--5653        PARAKRIS   \n",
       "1642                    GAVISCON TABLETS  A4--7008        GAVISCON   \n",
       "1643             FEROGLOBIN B12 CAPSULES  04--6433  FEROGLOBIN B12   \n",
       "5649                     TAVANIC TABLETS  04--3143         TAVANIC   \n",
       "\n",
       "                                                                        GENERICS  \\\n",
       "241                                               THYMOL, ALCOHOL, ZINC CHLORIDE   \n",
       "1044                                                                 PARACETAMOL   \n",
       "1642               SODIUM ALGINATE, SODIUM HYDROGEN CARBONATE, CALCIUM CARBONATE   \n",
       "1643  IRON (AS FUMARATE), ZINC, COPPER, FOLACIN (AS FOLIC ACID), VIT B12, VIT B6   \n",
       "5649                                                          LEVOFLOXAXIN 500MG   \n",
       "\n",
       "     PRODUCT CATEGORY    PHARM CLASS ROUTE OF ADMINISTRATION GROUP  \\\n",
       "241        HUMAN DRUG  ANTIBACTERIAL                    ORAL  DRUG   \n",
       "1044       HUMAN DRUG      ANALGESIC                    ORAL  DRUG   \n",
       "1642       HUMAN DRUG        ANTACID                    ORAL  DRUG   \n",
       "1643       HUMAN DRUG     SUPPLEMENT                    ORAL  DRUG   \n",
       "5649       HUMAN DRUG    ANTIBIOTICS                    ORAL  DRUG   \n",
       "\n",
       "                                                                                                      ACTIVE ING  \\\n",
       "241                                                THYMOL 12.78MG, ALCOHOL(95%V/V) 4.54ML, ZINC CHLORIDE 18.00MG   \n",
       "1044                                                                                           PARACETAMOL 500MG   \n",
       "1642                            SODIUM ALGINATE 250MG, SODIUM HYDROGEN CARBONATE 133.5MG, CALCIUM CARBONATE 80MG   \n",
       "1643  IRON (AS FUMARATE) 24MG, ZINC 12 MG, COPPER 2MG, FOLACIN (AS FOLIC ACID) 500MCG, VIT B12 10MCG, VIT B6 5MG   \n",
       "5649                                                                                                LEVOFLOXAXIN   \n",
       "\n",
       "                               STRENGTH  ...  \\\n",
       "241   12.78MG, (95%V/V) 4.54ML, 18.00MG  ...   \n",
       "1044                              500MG  ...   \n",
       "1642               250MG, 133,5MG, 80MG  ...   \n",
       "1643     24MG, 12MG, 500MCG, 10MCG, 5MG  ...   \n",
       "5649                              500MG  ...   \n",
       "\n",
       "                                                  APPROVED INDICATION  \\\n",
       "241   PREVENTION OF BAD BREATH, GINGIVITIS , PLAQUE & TARTAR BUILD-UP   \n",
       "1044                           RELIEF OF PAIN AND FEVERISH CONDITIONS   \n",
       "1642                                          HEART BURN, INDIGESTION   \n",
       "1643                                   VITAMIN & MINERAL DEFICIENCIES   \n",
       "5649                                  SUSCEPTIBLE BACTERIAL INFECTION   \n",
       "\n",
       "                   NAME OF APPLICANT  \\\n",
       "241   BOLAR PHARMACEUTICALS LIMITED,   \n",
       "1044         KRISHAT PHARMA IND. LTD   \n",
       "1642    RECKITT BENCKISER NIG LTD. .   \n",
       "1643             ADLER PRODUCTS LTD.   \n",
       "5649          SANOFI AVENTIS NIG LTD   \n",
       "\n",
       "                                                         APPLICANT ADDRESS  \\\n",
       "241                           72A ADENIYI JONES AVENUE, IKEJA, LAGOS STATE   \n",
       "1044                  9 KILOMETER, OLD LAGOS ROAD, PODO, IBADAN, OYO STATE   \n",
       "1642                            PLOT C 2/3, INDUSTRIAL ESTATE, OGUN STATE.   \n",
       "1643                                      32, ODUYEMI STREET, IKEJA, LAGOS   \n",
       "5649  PLOT NO. 8 NURUDEEN OLOWOPOPO AVENUE IKEJA CBD AGIDINGBI LAGOS STATE   \n",
       "\n",
       "      COUNTRY                    NAME OF MANUFACTURER  \\\n",
       "241   NIGERIA            JOHNSON & JOHNSON (PTY) LTD,   \n",
       "1044  NIGERIA                 KRISHAT PHARMA IND. LTD   \n",
       "1642  NIGERIA  RECKITT BENCKISER HEALTHCARE (UK) LTD.   \n",
       "1643  NIGERIA                        VITABIOTICS LTD.   \n",
       "5649  NIGERIA              SANOFI WINTHROP INDUSTRIES   \n",
       "\n",
       "                                                          MANUFACTURER ADDRESS  \\\n",
       "241                                241, MAIN ROAD, RETREAT, 7945, SOUTH AFRICA   \n",
       "1044                      9 KILOMETER, OLD LAGOS ROAD, PODO, IBADAN, OYO STATE   \n",
       "1642                               DANSON LANE, HULL EAST, YORKSHIRE HU8, 7DS.   \n",
       "1643                                    1, APSLEY WAY, LONDON NW2 7HF,ENGLAND.   \n",
       "5649  1, RUE DE LA VIERGE- AMBARES ET LAGRAVE 33565 CARBON BLANC CEDEX- FRANCE   \n",
       "\n",
       "         COUNTRY.1        APPROVAL DATE EXPIRY DATE  date_time  \n",
       "241   SOUTH AFRICA  2016-07-28 00:00:00  2021-07-27 2016-07-28  \n",
       "1044       NIGERIA  2017-03-31 00:00:00  2022-03-30 2017-03-31  \n",
       "1642            DS  2017-01-11 00:00:00  2022-01-10 2017-01-11  \n",
       "1643       ENGLAND  2017-01-11 00:00:00  2022-01-10 2017-01-11  \n",
       "5649        FRANCE  2020-12-21 00:00:00  2025-12-20 2020-12-21  \n",
       "\n",
       "[5 rows x 24 columns]"
      ]
     },
     "execution_count": 136,
     "metadata": {},
     "output_type": "execute_result"
    }
   ],
   "source": [
    "drug[drug['NAFDAC'].str.contains('--')]"
   ]
  },
  {
   "cell_type": "code",
   "execution_count": 131,
   "metadata": {},
   "outputs": [],
   "source": [
    "#drug['NAFDAC'] = np.where(drug['NAFDAC'].str.contains('--'), '-',drug['NAFDAC'])can be fatal"
   ]
  },
  {
   "cell_type": "code",
   "execution_count": 140,
   "metadata": {},
   "outputs": [
    {
     "data": {
      "text/plain": [
       "0        04-1194\n",
       "1        04-7927\n",
       "2        04-2037\n",
       "3        A4-5661\n",
       "4       A11-0251\n",
       "          ...   \n",
       "5849     A4-5163\n",
       "5850     A4-4282\n",
       "5851     A4-4281\n",
       "5852     B4-5007\n",
       "5853     B4-7896\n",
       "Name: NAFDAC, Length: 5854, dtype: object"
      ]
     },
     "execution_count": 140,
     "metadata": {},
     "output_type": "execute_result"
    }
   ],
   "source": [
    "drug['NAFDAC'].str.replace('--','-',case=False)"
   ]
  },
  {
   "cell_type": "code",
   "execution_count": 143,
   "metadata": {},
   "outputs": [
    {
     "data": {
      "text/plain": [
       "PRODUCT NAME               FEROGLOBIN B12 C...\n",
       "NAFDAC                                04--6433\n",
       "BRAND                           FEROGLOBIN B12\n",
       "GENERICS                   IRON (AS FUMARAT...\n",
       "PRODUCT CATEGORY                    HUMAN DRUG\n",
       "PHARM CLASS                         SUPPLEMENT\n",
       "ROUTE OF ADMINISTRATION                   ORAL\n",
       "GROUP                                     DRUG\n",
       "ACTIVE ING                 IRON (AS FUMARAT...\n",
       "STRENGTH                   24MG, 12MG, 500M...\n",
       "PRESENTATION               CAPSULES , 2 X 15'S\n",
       "DOSAGE FORM                           CAPSULES\n",
       "PACK SIZE                             2 X 15'S\n",
       "MARKETING CATEGORY         OVER THE COUNTER...\n",
       "APPROVED INDICATION        VITAMIN & MINERA...\n",
       "NAME OF APPLICANT          ADLER PRODUCTS LTD.\n",
       "APPLICANT ADDRESS          32, ODUYEMI STRE...\n",
       "COUNTRY                                NIGERIA\n",
       "NAME OF MANUFACTURER          VITABIOTICS LTD.\n",
       "MANUFACTURER ADDRESS       1, APSLEY WAY, L...\n",
       "COUNTRY.1                              ENGLAND\n",
       "APPROVAL DATE              2017-01-11 00:00:00\n",
       "EXPIRY DATE                2022-01-10 00:00:00\n",
       "date_time                  2017-01-11 00:00:00\n",
       "Name: 1643, dtype: object"
      ]
     },
     "execution_count": 143,
     "metadata": {},
     "output_type": "execute_result"
    }
   ],
   "source": [
    "pd.set_option('display.max_colwidth',20)\n",
    "drug.iloc[1643,:]"
   ]
  },
  {
   "cell_type": "code",
   "execution_count": 103,
   "metadata": {},
   "outputs": [],
   "source": [
    "drug.iat[241,1] = 'A4-3866'"
   ]
  },
  {
   "cell_type": "code",
   "execution_count": 104,
   "metadata": {},
   "outputs": [],
   "source": [
    "expCountry = drug['COUNTRY.1']\n"
   ]
  },
  {
   "cell_type": "code",
   "execution_count": 105,
   "metadata": {},
   "outputs": [
    {
     "data": {
      "text/plain": [
       "array(['NIGERIA', 'SOUTH AFRICA', 'CHINA', 'PAKISTAN', 'UNITED KINGDOM',\n",
       "       'ITALY', 'INDIA', 'INIDA', 'IRAN', 'VIETNAM', 'RUSSIA', 'EGYPT',\n",
       "       'PORTUGAL', 'SPAIN', 'BANGLADESH', 'KENYA', 'INDONESIA',\n",
       "       'THAILAND', 'FRANCE', 'AUSTRIA', 'IRELAND', 'GERMANY', 'KINGDOM',\n",
       "       'AFRICA', 'SWEDEN', 'SWITZERLAND', 'MALAYSIA', 'THE NETHERLANDS',\n",
       "       'JORDAN', 'USA', 'HOLLAND', 'GHANA', 'POTENZA (PZ)', 'TANZANIA',\n",
       "       'U.K', 'PAKISTAN.', 'KOREA', 'UNITED STATES OF AMERICA', 'ENGLAND',\n",
       "       'DS', 'CANADA', 'JORDAN.', 'CHINA.', 'BERLIN', 'GERMANY.',\n",
       "       'UNITED KINGDOM.', 'CYPRUS', 'BELGIUM', 'FRANCE.', 'POLAND',\n",
       "       'AUSTRIA.', 'GREECE', 'RAHMAN', 'E', 'EU', 'RICO', 'BULGARIA',\n",
       "       'BANGLADESH.', 'LEBANON', 'EGYPT.', 'KENYA.', 'PERU.', 'AUSTRALIA',\n",
       "       'ENGLAND.', 'MALTA', 'INDONESIA.', 'TURKEY', 'P.R.C', 'ISREAL',\n",
       "       'UAE', 'UK', 'NETHERLANDS', 'CZECH REPUBLIC', 'CHIAN', 'ISREAL.',\n",
       "       'DEUTSCHLAND', 'SYRIA', 'MACEDONIA', 'ABU-GHABI', 'ROAD',\n",
       "       'ROMANIA', 'MAHARASHTR', 'FINLAND', 'UKRAINE', 'SLOVENIA',\n",
       "       'LABANON', 'UGANDA',\n",
       "       'NO. 18, JINGUANG STREET, ECONOMIC AND TECHNOLOGICAL DEVELOPMENT ZONE, CANGZHOU, HEBEI PROVINCE, CHINA.'],\n",
       "      dtype=object)"
      ]
     },
     "execution_count": 105,
     "metadata": {},
     "output_type": "execute_result"
    }
   ],
   "source": [
    "expCountry.unique()"
   ]
  },
  {
   "cell_type": "code",
   "execution_count": 106,
   "metadata": {},
   "outputs": [
    {
     "data": {
      "text/plain": [
       "88"
      ]
     },
     "execution_count": 106,
     "metadata": {},
     "output_type": "execute_result"
    }
   ],
   "source": [
    "expCountry.nunique()"
   ]
  },
  {
   "cell_type": "code",
   "execution_count": 63,
   "metadata": {},
   "outputs": [
    {
     "data": {
      "text/html": [
       "<div>\n",
       "<style scoped>\n",
       "    .dataframe tbody tr th:only-of-type {\n",
       "        vertical-align: middle;\n",
       "    }\n",
       "\n",
       "    .dataframe tbody tr th {\n",
       "        vertical-align: top;\n",
       "    }\n",
       "\n",
       "    .dataframe thead th {\n",
       "        text-align: right;\n",
       "    }\n",
       "</style>\n",
       "<table border=\"1\" class=\"dataframe\">\n",
       "  <thead>\n",
       "    <tr style=\"text-align: right;\">\n",
       "      <th></th>\n",
       "      <th>PRODUCT NAME</th>\n",
       "      <th>NAFDAC</th>\n",
       "      <th>BRAND</th>\n",
       "      <th>GENERICS</th>\n",
       "      <th>PRODUCT CATEGORY</th>\n",
       "      <th>PHARM CLASS</th>\n",
       "      <th>ROUTE OF ADMINISTRATION</th>\n",
       "      <th>GROUP</th>\n",
       "      <th>ACTIVE ING</th>\n",
       "      <th>STRENGTH</th>\n",
       "      <th>...</th>\n",
       "      <th>APPROVED INDICATION</th>\n",
       "      <th>NAME OF APPLICANT</th>\n",
       "      <th>APPLICANT ADDRESS</th>\n",
       "      <th>COUNTRY</th>\n",
       "      <th>NAME OF MANUFACTURER</th>\n",
       "      <th>MANUFACTURER ADDRESS</th>\n",
       "      <th>COUNTRY.1</th>\n",
       "      <th>APPROVAL DATE</th>\n",
       "      <th>EXPIRY DATE</th>\n",
       "      <th>date_time</th>\n",
       "    </tr>\n",
       "  </thead>\n",
       "  <tbody>\n",
       "    <tr>\n",
       "      <th>2516</th>\n",
       "      <td>DAFLON 500 TABLETS</td>\n",
       "      <td>04-6857</td>\n",
       "      <td>DAFLON</td>\n",
       "      <td>DIOSMIN+ FLAVONOIDS</td>\n",
       "      <td>HUMAN DRUG</td>\n",
       "      <td>VENOTONIC/VASCULOPROTECTOR</td>\n",
       "      <td>ORAL</td>\n",
       "      <td>DRUG</td>\n",
       "      <td>DIOSMIN, FLAVONOIDS</td>\n",
       "      <td>90%, 10%</td>\n",
       "      <td>...</td>\n",
       "      <td>TREATMENTS OF HEMORRHOIDS</td>\n",
       "      <td>CHI PHARMA LIMITED.</td>\n",
       "      <td>14 CHIVITA AVENUE APAKUN EST, OSHODI. LAGOS STATE.</td>\n",
       "      <td>NIGERIA</td>\n",
       "      <td>SERVIER EGYPT INDUSTRIES LIMITED,</td>\n",
       "      <td>6TH OCTOBER CITY, 1ST IND. ZONE PLOT 37, GUIZA A.R.E</td>\n",
       "      <td>E</td>\n",
       "      <td>2018-12-20 00:00:00</td>\n",
       "      <td>2023-12-19</td>\n",
       "      <td>2018-12-20</td>\n",
       "    </tr>\n",
       "  </tbody>\n",
       "</table>\n",
       "<p>1 rows × 24 columns</p>\n",
       "</div>"
      ],
      "text/plain": [
       "            PRODUCT NAME   NAFDAC   BRAND             GENERICS  \\\n",
       "2516  DAFLON 500 TABLETS  04-6857  DAFLON  DIOSMIN+ FLAVONOIDS   \n",
       "\n",
       "     PRODUCT CATEGORY                 PHARM CLASS ROUTE OF ADMINISTRATION  \\\n",
       "2516       HUMAN DRUG  VENOTONIC/VASCULOPROTECTOR                    ORAL   \n",
       "\n",
       "     GROUP           ACTIVE ING  STRENGTH  ...        APPROVED INDICATION  \\\n",
       "2516  DRUG  DIOSMIN, FLAVONOIDS  90%, 10%  ...  TREATMENTS OF HEMORRHOIDS   \n",
       "\n",
       "        NAME OF APPLICANT                                   APPLICANT ADDRESS  \\\n",
       "2516  CHI PHARMA LIMITED.  14 CHIVITA AVENUE APAKUN EST, OSHODI. LAGOS STATE.   \n",
       "\n",
       "      COUNTRY               NAME OF MANUFACTURER  \\\n",
       "2516  NIGERIA  SERVIER EGYPT INDUSTRIES LIMITED,   \n",
       "\n",
       "                                      MANUFACTURER ADDRESS COUNTRY.1  \\\n",
       "2516  6TH OCTOBER CITY, 1ST IND. ZONE PLOT 37, GUIZA A.R.E         E   \n",
       "\n",
       "            APPROVAL DATE EXPIRY DATE  date_time  \n",
       "2516  2018-12-20 00:00:00  2023-12-19 2018-12-20  \n",
       "\n",
       "[1 rows x 24 columns]"
      ]
     },
     "execution_count": 63,
     "metadata": {},
     "output_type": "execute_result"
    }
   ],
   "source": [
    "pd.set_option('display.max_colwidth', None)\n",
    "drug[drug['COUNTRY.1'].isin(['E'])]"
   ]
  },
  {
   "cell_type": "code",
   "execution_count": 11,
   "metadata": {},
   "outputs": [],
   "source": [
    "#index = drug.index"
   ]
  },
  {
   "cell_type": "code",
   "execution_count": 12,
   "metadata": {},
   "outputs": [],
   "source": [
    "#condition = drug['COUNTRY.1'] == \"INDONESIA.\""
   ]
  },
  {
   "cell_type": "code",
   "execution_count": 13,
   "metadata": {},
   "outputs": [],
   "source": [
    "#condition2 = drug['COUNTRY.1'].isin(['ISREAL','ISREAL.'])"
   ]
  },
  {
   "cell_type": "code",
   "execution_count": 14,
   "metadata": {},
   "outputs": [],
   "source": [
    "#isreal_indices = index[condition2]"
   ]
  },
  {
   "cell_type": "code",
   "execution_count": 15,
   "metadata": {},
   "outputs": [],
   "source": [
    "#isreal_indices_list = isreal_indices.tolist() #df.index[df['column'] ==/isin].tolist()"
   ]
  },
  {
   "cell_type": "code",
   "execution_count": 50,
   "metadata": {},
   "outputs": [],
   "source": [
    "#print(isreal_indices_list)"
   ]
  },
  {
   "cell_type": "code",
   "execution_count": 51,
   "metadata": {},
   "outputs": [],
   "source": [
    "#len(isreal_indices_list)"
   ]
  },
  {
   "cell_type": "code",
   "execution_count": 107,
   "metadata": {
    "scrolled": true
   },
   "outputs": [
    {
     "data": {
      "text/plain": [
       "[261, 5141]"
      ]
     },
     "execution_count": 107,
     "metadata": {},
     "output_type": "execute_result"
    }
   ],
   "source": [
    "drug.index[drug['COUNTRY.1'].isin(['INIDA','MAHARASHTR'])].tolist()"
   ]
  },
  {
   "cell_type": "code",
   "execution_count": 108,
   "metadata": {},
   "outputs": [],
   "source": [
    "drug.iloc[[261,5141],20] = 'INDIA'"
   ]
  },
  {
   "cell_type": "code",
   "execution_count": 110,
   "metadata": {},
   "outputs": [
    {
     "data": {
      "text/plain": [
       "INDIA           3025\n",
       "NIGERIA         1506\n",
       "CHINA            553\n",
       "GERMANY           77\n",
       "PAKISTAN          72\n",
       "                ... \n",
       "IRAN               1\n",
       "POTENZA (PZ)       1\n",
       "EU                 1\n",
       "ROAD               1\n",
       "FINLAND            1\n",
       "Name: COUNTRY.1, Length: 86, dtype: int64"
      ]
     },
     "execution_count": 110,
     "metadata": {},
     "output_type": "execute_result"
    }
   ],
   "source": [
    "expCountry.value_counts()"
   ]
  },
  {
   "cell_type": "code",
   "execution_count": 114,
   "metadata": {},
   "outputs": [],
   "source": [
    "india = drug[drug['COUNTRY.1'] == 'INDIA']"
   ]
  },
  {
   "cell_type": "code",
   "execution_count": 99,
   "metadata": {},
   "outputs": [],
   "source": [
    "drug.to_excel('new-drug-v4.xlsx')"
   ]
  },
  {
   "cell_type": "code",
   "execution_count": 22,
   "metadata": {},
   "outputs": [
    {
     "data": {
      "text/html": [
       "<div>\n",
       "<style scoped>\n",
       "    .dataframe tbody tr th:only-of-type {\n",
       "        vertical-align: middle;\n",
       "    }\n",
       "\n",
       "    .dataframe tbody tr th {\n",
       "        vertical-align: top;\n",
       "    }\n",
       "\n",
       "    .dataframe thead th {\n",
       "        text-align: right;\n",
       "    }\n",
       "</style>\n",
       "<table border=\"1\" class=\"dataframe\">\n",
       "  <thead>\n",
       "    <tr style=\"text-align: right;\">\n",
       "      <th></th>\n",
       "      <th>PRODUCT NAME</th>\n",
       "      <th>NAFDAC</th>\n",
       "      <th>BRAND</th>\n",
       "      <th>GENERICS</th>\n",
       "      <th>PRODUCT CATEGORY</th>\n",
       "      <th>PHARM CLASS</th>\n",
       "      <th>ROUTE OF ADMINISTRATION</th>\n",
       "      <th>GROUP</th>\n",
       "      <th>ACTIVE ING</th>\n",
       "      <th>STRENGTH</th>\n",
       "      <th>...</th>\n",
       "      <th>APPROVED INDICATION</th>\n",
       "      <th>NAME OF APPLICANT</th>\n",
       "      <th>APPLICANT ADDRESS</th>\n",
       "      <th>COUNTRY</th>\n",
       "      <th>NAME OF MANUFACTURER</th>\n",
       "      <th>MANUFACTURER ADDRESS</th>\n",
       "      <th>COUNTRY.1</th>\n",
       "      <th>APPROVAL DATE</th>\n",
       "      <th>EXPIRY DATE</th>\n",
       "      <th>date_time</th>\n",
       "    </tr>\n",
       "  </thead>\n",
       "  <tbody>\n",
       "    <tr>\n",
       "      <th>256</th>\n",
       "      <td>LARIACT DISPERSIBLE TABLETS</td>\n",
       "      <td>B4-6517</td>\n",
       "      <td>LARIACT</td>\n",
       "      <td>ARTEMETHER + LUMEFANTRINE</td>\n",
       "      <td>HUMAN DRUG</td>\n",
       "      <td>ANTIMALARIA</td>\n",
       "      <td>ORAL</td>\n",
       "      <td>DRUG</td>\n",
       "      <td>ARTEMETHER 20MG, LUMEFANTRINE 120MG</td>\n",
       "      <td>20MG, 120MG</td>\n",
       "      <td>...</td>\n",
       "      <td>ANTIMALARIA</td>\n",
       "      <td>OLPHARM NIGERIA LTD</td>\n",
       "      <td>13, AGBAOKU STREET OPEBI LAGOS</td>\n",
       "      <td>NIGERIA</td>\n",
       "      <td>S. KANT HEALTHCARE LTD</td>\n",
       "      <td>1802-1805 GIDC PHASE-III VAPI-396195 GUJARAT INDIA</td>\n",
       "      <td>INDIA</td>\n",
       "      <td>2016-07-28 00:00:00</td>\n",
       "      <td>2021-07-27</td>\n",
       "      <td>2016-07-28</td>\n",
       "    </tr>\n",
       "    <tr>\n",
       "      <th>257</th>\n",
       "      <td>GLOATEM FORTE TABLETS</td>\n",
       "      <td>A4-4515</td>\n",
       "      <td>GLOATEM FORTE</td>\n",
       "      <td>ARTEMETHER +LUMEFA</td>\n",
       "      <td>HUMAN DRUG</td>\n",
       "      <td>ANTIMALARIA</td>\n",
       "      <td>ORAL</td>\n",
       "      <td>DRUG</td>\n",
       "      <td>ARTEMETHER 80MG, LUMEFANTRINE 480MG</td>\n",
       "      <td>80MG, 480MG</td>\n",
       "      <td>...</td>\n",
       "      <td>MALARIA</td>\n",
       "      <td>GLOBAL HEALTHCARE LTD</td>\n",
       "      <td>NO. 3, ADE-AKINSANYA STREET OFF TOWN PLANNING WAY ILUPEJU LAGOS STATE</td>\n",
       "      <td>NIGERIA</td>\n",
       "      <td>BHARAT PARENTERALS LTD</td>\n",
       "      <td>VILL. HARIPURA, TAL. SAVLI DIST: VADODARA-391520, GUJARAT INDIA</td>\n",
       "      <td>INDIA</td>\n",
       "      <td>2016-07-28 00:00:00</td>\n",
       "      <td>2021-07-27</td>\n",
       "      <td>2016-07-28</td>\n",
       "    </tr>\n",
       "    <tr>\n",
       "      <th>258</th>\n",
       "      <td>GLOATEM DS TABLETS</td>\n",
       "      <td>A4-4514</td>\n",
       "      <td>GLOATEM DS</td>\n",
       "      <td>ARTEMETHER +LUMEFANTRINE</td>\n",
       "      <td>HUMAN DRUG</td>\n",
       "      <td>ANTIMALARIA</td>\n",
       "      <td>ORAL</td>\n",
       "      <td>DRUG</td>\n",
       "      <td>ARTEMETHER 40MG, LUMEFANTRINE 240MG</td>\n",
       "      <td>40MG, 240MG</td>\n",
       "      <td>...</td>\n",
       "      <td>MALARIA</td>\n",
       "      <td>GLOBAL HEALTHCARE LTD</td>\n",
       "      <td>NO. 3, ADE-AKINSANYA STREET OFF TOWN PLANNING WAY ILUPEJU LAGOS STATE</td>\n",
       "      <td>NIGERIA</td>\n",
       "      <td>BHARAT PARENTERALS LTD</td>\n",
       "      <td>VILL. HARIPURA, TAL. SAVLI DIST: VADODARA-391520, GUJARAT INDIA</td>\n",
       "      <td>INDIA</td>\n",
       "      <td>2016-07-28 00:00:00</td>\n",
       "      <td>2021-07-27</td>\n",
       "      <td>2016-07-28</td>\n",
       "    </tr>\n",
       "    <tr>\n",
       "      <th>259</th>\n",
       "      <td>ANNTIFAA TABLETS</td>\n",
       "      <td>B4-6534</td>\n",
       "      <td>ANNTIFAA</td>\n",
       "      <td>ARTEMETHER + LUMEFANTRINE</td>\n",
       "      <td>HUMAN DRUG</td>\n",
       "      <td>ANTIMALARIA</td>\n",
       "      <td>ORAL</td>\n",
       "      <td>DRUG</td>\n",
       "      <td>ARTEMETHER 20MG &amp; LUMEFANTRINE 120MG</td>\n",
       "      <td>20MG, 120MG</td>\n",
       "      <td>...</td>\n",
       "      <td>TREATMENT OF UNCOMPLICATED MALARIA INFECTION</td>\n",
       "      <td>PART-ONE PHARMACY LTD</td>\n",
       "      <td>160 ARODIEZUOGU RD, AKOKWA, IMO</td>\n",
       "      <td>NIGERIA</td>\n",
       "      <td>FREDUN PHARM LTD</td>\n",
       "      <td>14,15, 16. ZORABIAN INDUSTRIAL COMPLEX, VEOOR, PALGAR-401404, INDIA</td>\n",
       "      <td>INDIA</td>\n",
       "      <td>2016-08-25 00:00:00</td>\n",
       "      <td>2021-08-24</td>\n",
       "      <td>2016-08-25</td>\n",
       "    </tr>\n",
       "    <tr>\n",
       "      <th>260</th>\n",
       "      <td>ANNTIFAA FORTE TABLETS</td>\n",
       "      <td>B4-6535</td>\n",
       "      <td>ANNTIFAA FORTE</td>\n",
       "      <td>ARTEMETHER + LUMEFANTRINE</td>\n",
       "      <td>HUMAN DRUG</td>\n",
       "      <td>ANTIMALARIA</td>\n",
       "      <td>ORAL</td>\n",
       "      <td>DRUG</td>\n",
       "      <td>ARTEMETHER 80MG &amp; LUMEFANTRINE 480MG</td>\n",
       "      <td>80MG, 480MG</td>\n",
       "      <td>...</td>\n",
       "      <td>TREATMENT OF UNCOMPLICATED MALARIA</td>\n",
       "      <td>PART-ONE PHARMACY LTD</td>\n",
       "      <td>160 ARODIEZUOGU RD, AKOKWA, IMO</td>\n",
       "      <td>NIGERIA</td>\n",
       "      <td>FREDUN PHARM LTD</td>\n",
       "      <td>14,15, 16. ZORABIAN INDUSTRIAL COMPLEX, VEOOR, PALGAR-401404, INDIA</td>\n",
       "      <td>INDIA</td>\n",
       "      <td>2016-08-25 00:00:00</td>\n",
       "      <td>2021-08-24</td>\n",
       "      <td>2016-08-25</td>\n",
       "    </tr>\n",
       "  </tbody>\n",
       "</table>\n",
       "<p>5 rows × 24 columns</p>\n",
       "</div>"
      ],
      "text/plain": [
       "                    PRODUCT NAME   NAFDAC           BRAND  \\\n",
       "256  LARIACT DISPERSIBLE TABLETS  B4-6517         LARIACT   \n",
       "257        GLOATEM FORTE TABLETS  A4-4515   GLOATEM FORTE   \n",
       "258           GLOATEM DS TABLETS  A4-4514      GLOATEM DS   \n",
       "259             ANNTIFAA TABLETS  B4-6534        ANNTIFAA   \n",
       "260       ANNTIFAA FORTE TABLETS  B4-6535  ANNTIFAA FORTE   \n",
       "\n",
       "                      GENERICS PRODUCT CATEGORY  PHARM CLASS  \\\n",
       "256  ARTEMETHER + LUMEFANTRINE       HUMAN DRUG  ANTIMALARIA   \n",
       "257         ARTEMETHER +LUMEFA       HUMAN DRUG  ANTIMALARIA   \n",
       "258   ARTEMETHER +LUMEFANTRINE       HUMAN DRUG  ANTIMALARIA   \n",
       "259  ARTEMETHER + LUMEFANTRINE       HUMAN DRUG  ANTIMALARIA   \n",
       "260  ARTEMETHER + LUMEFANTRINE       HUMAN DRUG  ANTIMALARIA   \n",
       "\n",
       "    ROUTE OF ADMINISTRATION GROUP                            ACTIVE ING  \\\n",
       "256                    ORAL  DRUG   ARTEMETHER 20MG, LUMEFANTRINE 120MG   \n",
       "257                    ORAL  DRUG   ARTEMETHER 80MG, LUMEFANTRINE 480MG   \n",
       "258                    ORAL  DRUG   ARTEMETHER 40MG, LUMEFANTRINE 240MG   \n",
       "259                    ORAL  DRUG  ARTEMETHER 20MG & LUMEFANTRINE 120MG   \n",
       "260                    ORAL  DRUG  ARTEMETHER 80MG & LUMEFANTRINE 480MG   \n",
       "\n",
       "        STRENGTH  ...                           APPROVED INDICATION  \\\n",
       "256  20MG, 120MG  ...                                   ANTIMALARIA   \n",
       "257  80MG, 480MG  ...                                       MALARIA   \n",
       "258  40MG, 240MG  ...                                       MALARIA   \n",
       "259  20MG, 120MG  ...  TREATMENT OF UNCOMPLICATED MALARIA INFECTION   \n",
       "260  80MG, 480MG  ...            TREATMENT OF UNCOMPLICATED MALARIA   \n",
       "\n",
       "         NAME OF APPLICANT  \\\n",
       "256    OLPHARM NIGERIA LTD   \n",
       "257  GLOBAL HEALTHCARE LTD   \n",
       "258  GLOBAL HEALTHCARE LTD   \n",
       "259  PART-ONE PHARMACY LTD   \n",
       "260  PART-ONE PHARMACY LTD   \n",
       "\n",
       "                                                         APPLICANT ADDRESS  \\\n",
       "256                                         13, AGBAOKU STREET OPEBI LAGOS   \n",
       "257  NO. 3, ADE-AKINSANYA STREET OFF TOWN PLANNING WAY ILUPEJU LAGOS STATE   \n",
       "258  NO. 3, ADE-AKINSANYA STREET OFF TOWN PLANNING WAY ILUPEJU LAGOS STATE   \n",
       "259                                        160 ARODIEZUOGU RD, AKOKWA, IMO   \n",
       "260                                        160 ARODIEZUOGU RD, AKOKWA, IMO   \n",
       "\n",
       "     COUNTRY    NAME OF MANUFACTURER  \\\n",
       "256  NIGERIA  S. KANT HEALTHCARE LTD   \n",
       "257  NIGERIA  BHARAT PARENTERALS LTD   \n",
       "258  NIGERIA  BHARAT PARENTERALS LTD   \n",
       "259  NIGERIA        FREDUN PHARM LTD   \n",
       "260  NIGERIA        FREDUN PHARM LTD   \n",
       "\n",
       "                                                    MANUFACTURER ADDRESS  \\\n",
       "256                   1802-1805 GIDC PHASE-III VAPI-396195 GUJARAT INDIA   \n",
       "257      VILL. HARIPURA, TAL. SAVLI DIST: VADODARA-391520, GUJARAT INDIA   \n",
       "258      VILL. HARIPURA, TAL. SAVLI DIST: VADODARA-391520, GUJARAT INDIA   \n",
       "259  14,15, 16. ZORABIAN INDUSTRIAL COMPLEX, VEOOR, PALGAR-401404, INDIA   \n",
       "260  14,15, 16. ZORABIAN INDUSTRIAL COMPLEX, VEOOR, PALGAR-401404, INDIA   \n",
       "\n",
       "    COUNTRY.1        APPROVAL DATE EXPIRY DATE  date_time  \n",
       "256     INDIA  2016-07-28 00:00:00  2021-07-27 2016-07-28  \n",
       "257     INDIA  2016-07-28 00:00:00  2021-07-27 2016-07-28  \n",
       "258     INDIA  2016-07-28 00:00:00  2021-07-27 2016-07-28  \n",
       "259     INDIA  2016-08-25 00:00:00  2021-08-24 2016-08-25  \n",
       "260     INDIA  2016-08-25 00:00:00  2021-08-24 2016-08-25  \n",
       "\n",
       "[5 rows x 24 columns]"
      ]
     },
     "execution_count": 22,
     "metadata": {},
     "output_type": "execute_result"
    }
   ],
   "source": [
    "india.head()"
   ]
  },
  {
   "cell_type": "code",
   "execution_count": 115,
   "metadata": {},
   "outputs": [
    {
     "data": {
      "text/plain": [
       "3023"
      ]
     },
     "execution_count": 115,
     "metadata": {},
     "output_type": "execute_result"
    }
   ],
   "source": [
    "len(india)"
   ]
  },
  {
   "cell_type": "code",
   "execution_count": 24,
   "metadata": {},
   "outputs": [],
   "source": [
    "imported = drug[drug['COUNTRY.1'] != 'NIGERIA']"
   ]
  },
  {
   "cell_type": "code",
   "execution_count": 25,
   "metadata": {},
   "outputs": [
    {
     "data": {
      "text/plain": [
       "4348"
      ]
     },
     "execution_count": 25,
     "metadata": {},
     "output_type": "execute_result"
    }
   ],
   "source": [
    "len(imported)"
   ]
  },
  {
   "cell_type": "code",
   "execution_count": 26,
   "metadata": {},
   "outputs": [],
   "source": [
    "nigeria = drug[drug['COUNTRY.1'] == 'NIGERIA']"
   ]
  },
  {
   "cell_type": "code",
   "execution_count": 27,
   "metadata": {},
   "outputs": [
    {
     "data": {
      "text/html": [
       "<div>\n",
       "<style scoped>\n",
       "    .dataframe tbody tr th:only-of-type {\n",
       "        vertical-align: middle;\n",
       "    }\n",
       "\n",
       "    .dataframe tbody tr th {\n",
       "        vertical-align: top;\n",
       "    }\n",
       "\n",
       "    .dataframe thead th {\n",
       "        text-align: right;\n",
       "    }\n",
       "</style>\n",
       "<table border=\"1\" class=\"dataframe\">\n",
       "  <thead>\n",
       "    <tr style=\"text-align: right;\">\n",
       "      <th></th>\n",
       "      <th>PRODUCT NAME</th>\n",
       "      <th>NAFDAC</th>\n",
       "      <th>BRAND</th>\n",
       "      <th>GENERICS</th>\n",
       "      <th>PRODUCT CATEGORY</th>\n",
       "      <th>PHARM CLASS</th>\n",
       "      <th>ROUTE OF ADMINISTRATION</th>\n",
       "      <th>GROUP</th>\n",
       "      <th>ACTIVE ING</th>\n",
       "      <th>STRENGTH</th>\n",
       "      <th>...</th>\n",
       "      <th>APPROVED INDICATION</th>\n",
       "      <th>NAME OF APPLICANT</th>\n",
       "      <th>APPLICANT ADDRESS</th>\n",
       "      <th>COUNTRY</th>\n",
       "      <th>NAME OF MANUFACTURER</th>\n",
       "      <th>MANUFACTURER ADDRESS</th>\n",
       "      <th>COUNTRY.1</th>\n",
       "      <th>APPROVAL DATE</th>\n",
       "      <th>EXPIRY DATE</th>\n",
       "      <th>date_time</th>\n",
       "    </tr>\n",
       "  </thead>\n",
       "  <tbody>\n",
       "    <tr>\n",
       "      <th>0</th>\n",
       "      <td>MIM TONIC SYRUP</td>\n",
       "      <td>04-1194</td>\n",
       "      <td>MIM</td>\n",
       "      <td>FERRIC AMMONIUM CITRATE, VIT B12, FOLIC ACID, VIT B1, ZINC, VIT B6, COPPER</td>\n",
       "      <td>HUMAN DRUG</td>\n",
       "      <td>NUTRITIONAL SUPPLEMENT</td>\n",
       "      <td>ORAL</td>\n",
       "      <td>DRUG</td>\n",
       "      <td>FERRIC AMMONIUM CITRATE, VIT B12, FOLIC ACID, VIT B1, ZINC, VIT B6, COPPER</td>\n",
       "      <td>54MG, 5MCG, 200MCG, 2MG, 4MG, 2MG, 0.4MG</td>\n",
       "      <td>...</td>\n",
       "      <td>PREVENTION OF ANAEMIA AND NUTRITIONAL SUPPLEMENTATION OF CERTAIN VITAMINS</td>\n",
       "      <td>ADLER PRODUCTS LTD,</td>\n",
       "      <td>32 ODUYEMI STREET, IKEJA, LAGOS</td>\n",
       "      <td>NIGERIA</td>\n",
       "      <td>FARMEX MEYER LTD,</td>\n",
       "      <td>KM 38 LAGOS-ABEOKUTA ROAD, SANGO-OTA, OGUN STATE</td>\n",
       "      <td>NIGERIA</td>\n",
       "      <td>2016-07-28 00:00:00</td>\n",
       "      <td>2021-07-27</td>\n",
       "      <td>2016-07-28</td>\n",
       "    </tr>\n",
       "    <tr>\n",
       "      <th>1</th>\n",
       "      <td>DR MEYER'S FEROTAL EXTRA BLOOD TONIC SYRUP</td>\n",
       "      <td>04-7927</td>\n",
       "      <td>DR MEYER'S FEROTAL EXTRA</td>\n",
       "      <td>FERRIC AMMONIUM CITRATE (EQUIVALENT TO 10.8MG ELEMENTAL IRON), VIT B1, VIT B6, VIT B12 , FOLIC ACID, ZINC, COPPER</td>\n",
       "      <td>HUMAN DRUG</td>\n",
       "      <td>NUTRITIONAL SUPPLEMENT</td>\n",
       "      <td>ORAL</td>\n",
       "      <td>DRUG</td>\n",
       "      <td>FERRIC AMMONIUM CITRATE (EQUIVALENT TO 10.8MG ELEMENTAL IRON), VIT B1, VIT B6, VIT B12 , FOLIC ACID, ZINC, COPPER</td>\n",
       "      <td>54MG, 3MG, 2MG, 5MCG, 200MCG, 5MG, 0.4MG</td>\n",
       "      <td>...</td>\n",
       "      <td>PREVENTION OF ANAEMIA AND NUTRITIONAL SUPPLEMENTATION OF CERTAIN VITAMINS</td>\n",
       "      <td>FARMEX MEYER LTD,</td>\n",
       "      <td>KM 38 LAGOS-ABEOKUTA ROAD, SANGO-OTA, OGUN STATE</td>\n",
       "      <td>NIGERIA</td>\n",
       "      <td>FARMEX MEYER LTD,</td>\n",
       "      <td>KM 38 LAGOS-ABEOKUTA ROAD, SANGO-OTA, OGUN STATE</td>\n",
       "      <td>NIGERIA</td>\n",
       "      <td>2016-07-28 00:00:00</td>\n",
       "      <td>2021-07-27</td>\n",
       "      <td>2016-07-28</td>\n",
       "    </tr>\n",
       "    <tr>\n",
       "      <th>2</th>\n",
       "      <td>JAWARON TONIC</td>\n",
       "      <td>04-2037</td>\n",
       "      <td>JAWARON</td>\n",
       "      <td>FERRIC GLUCONATE, VIT B1, VIT B2, VIT B6, VIT B12, NICOTINAMIDE, ZINC SULPHATE, LYSINE MONOHYDROCHLORIDE</td>\n",
       "      <td>HUMAN DRUG</td>\n",
       "      <td>NUTRITIONAL SUPPLEMENT</td>\n",
       "      <td>ORAL</td>\n",
       "      <td>DRUG</td>\n",
       "      <td>FERRIC GLUCONATE, VIT B1, VIT B2, VIT B6, VIT B12, NICOTINAMIDE, ZINC SULPHATE, LYSINE MONOHYDROCHLORIDE</td>\n",
       "      <td>120MG, 1MG, 1MG, 2MG, 1MCG, 5MG, 15MG, 100MG</td>\n",
       "      <td>...</td>\n",
       "      <td>PREVENTION OF ANAEMIA AND NUTRITIONAL SUPPLEMENTATION OF CERTAIN VITAMINS</td>\n",
       "      <td>JAWA INTERNATIONAL LTD,</td>\n",
       "      <td>PLOT 6 ABIMBOLA WAY, ISOLO INDUSTRIAL ESTATE, ISOLO, LAGOS.</td>\n",
       "      <td>NIGERIA</td>\n",
       "      <td>JAWA INTERNATIONAL LTD,</td>\n",
       "      <td>PLOT 6 ABIMBOLA WAY, ISOLO INDUSTRIAL ESTATE, ISOLO, LAGOS.</td>\n",
       "      <td>NIGERIA</td>\n",
       "      <td>2016-07-28 00:00:00</td>\n",
       "      <td>2021-07-27</td>\n",
       "      <td>2016-07-28</td>\n",
       "    </tr>\n",
       "    <tr>\n",
       "      <th>3</th>\n",
       "      <td>AVROTON BLOOD TONIC SYRUP</td>\n",
       "      <td>A4-5661</td>\n",
       "      <td>AVROTON</td>\n",
       "      <td>GINSENG EXTRACT, LIVER EXTRACT, THIAMINE HCL, RIBOFLAVIN, NICOTINAMIDE, PYRIDOXINE HCL, CALCUIM D-PANTOTHENATE, CYANOCOBOLAMIN, FERRIC AMMONIUM CITRATE, QUININE HCL</td>\n",
       "      <td>HUMAN DRUG</td>\n",
       "      <td>NUTRITIONAL SUPPLEMENT</td>\n",
       "      <td>ORAL</td>\n",
       "      <td>DRUG</td>\n",
       "      <td>GINSENG EXTRACT, LIVER EXTRACT, THIAMINE HCL, RIBOFLAVIN, NICOTINAMIDE, PYRIDOXINE HCL, CALCUIM D-PANTOTHENATE, CYANOCOBOLAMIN, FERRIC AMMONIUM CITRATE, QUININE HCL</td>\n",
       "      <td>40MG, 23.4MG, 0.98MG, 0.39MG, 3.92MG, 0.39MG, 3.92MG, 0.39MG, 6MG, 0.6MCG, 32.18MG, 0.15MG</td>\n",
       "      <td>...</td>\n",
       "      <td>PREVENTION OF ANAEMIA AND NUTRITIONAL SUPPLEMENTATION OF CERTAIN VITAMINS</td>\n",
       "      <td>AVRO PHARMA LTD,</td>\n",
       "      <td>11 KAARA STREET, OFF OSOLO WAY, AJAO ESTATE, LAGOS</td>\n",
       "      <td>NIGERIA</td>\n",
       "      <td>SKG PHARMA LTD,</td>\n",
       "      <td>7/9 SAPARA STREET, IKEJA, LAGOS</td>\n",
       "      <td>NIGERIA</td>\n",
       "      <td>2016-07-28 00:00:00</td>\n",
       "      <td>2021-07-27</td>\n",
       "      <td>2016-07-28</td>\n",
       "    </tr>\n",
       "    <tr>\n",
       "      <th>4</th>\n",
       "      <td>SOFAMAG SUSPENSION</td>\n",
       "      <td>A11-0251</td>\n",
       "      <td>SOFAMAG</td>\n",
       "      <td>MAGNESIUM TRISILICATE, LIGHT MAGNESIUM CARBONATE, SODIUM BICARBONATE</td>\n",
       "      <td>HUMAN DRUG</td>\n",
       "      <td>ANTACID</td>\n",
       "      <td>ORAL</td>\n",
       "      <td>DRUG</td>\n",
       "      <td>MAGNESIUM TRISILICATE, LIGHT MAGNESIUM CARBONATE, SODIUM BICARBONATE</td>\n",
       "      <td>250MG, 250MG, 250MG</td>\n",
       "      <td>...</td>\n",
       "      <td>RELIEF OF HYPERACIDITY, HEARTBURN &amp; INDIGESTION</td>\n",
       "      <td>SOFAK PHARM IND LTD</td>\n",
       "      <td>KLM 6 ILORIN ROAD, OGBOMOSHO, OYO STATE</td>\n",
       "      <td>NIGERIA</td>\n",
       "      <td>SOFAK PHARM IND LTD</td>\n",
       "      <td>KLM 6 ILORIN ROAD, OGBOMOSHO, OYO STATE</td>\n",
       "      <td>NIGERIA</td>\n",
       "      <td>2016-08-25 00:00:00</td>\n",
       "      <td>2021-08-24</td>\n",
       "      <td>2016-08-25</td>\n",
       "    </tr>\n",
       "  </tbody>\n",
       "</table>\n",
       "<p>5 rows × 24 columns</p>\n",
       "</div>"
      ],
      "text/plain": [
       "                                 PRODUCT NAME    NAFDAC  \\\n",
       "0                             MIM TONIC SYRUP   04-1194   \n",
       "1  DR MEYER'S FEROTAL EXTRA BLOOD TONIC SYRUP   04-7927   \n",
       "2                               JAWARON TONIC   04-2037   \n",
       "3                   AVROTON BLOOD TONIC SYRUP   A4-5661   \n",
       "4                          SOFAMAG SUSPENSION  A11-0251   \n",
       "\n",
       "                      BRAND  \\\n",
       "0                       MIM   \n",
       "1  DR MEYER'S FEROTAL EXTRA   \n",
       "2                   JAWARON   \n",
       "3                   AVROTON   \n",
       "4                   SOFAMAG   \n",
       "\n",
       "                                                                                                                                                               GENERICS  \\\n",
       "0                                                                                            FERRIC AMMONIUM CITRATE, VIT B12, FOLIC ACID, VIT B1, ZINC, VIT B6, COPPER   \n",
       "1                                                     FERRIC AMMONIUM CITRATE (EQUIVALENT TO 10.8MG ELEMENTAL IRON), VIT B1, VIT B6, VIT B12 , FOLIC ACID, ZINC, COPPER   \n",
       "2                                                              FERRIC GLUCONATE, VIT B1, VIT B2, VIT B6, VIT B12, NICOTINAMIDE, ZINC SULPHATE, LYSINE MONOHYDROCHLORIDE   \n",
       "3  GINSENG EXTRACT, LIVER EXTRACT, THIAMINE HCL, RIBOFLAVIN, NICOTINAMIDE, PYRIDOXINE HCL, CALCUIM D-PANTOTHENATE, CYANOCOBOLAMIN, FERRIC AMMONIUM CITRATE, QUININE HCL   \n",
       "4                                                                                                  MAGNESIUM TRISILICATE, LIGHT MAGNESIUM CARBONATE, SODIUM BICARBONATE   \n",
       "\n",
       "  PRODUCT CATEGORY             PHARM CLASS ROUTE OF ADMINISTRATION GROUP  \\\n",
       "0       HUMAN DRUG  NUTRITIONAL SUPPLEMENT                    ORAL  DRUG   \n",
       "1       HUMAN DRUG  NUTRITIONAL SUPPLEMENT                    ORAL  DRUG   \n",
       "2       HUMAN DRUG  NUTRITIONAL SUPPLEMENT                    ORAL  DRUG   \n",
       "3       HUMAN DRUG  NUTRITIONAL SUPPLEMENT                    ORAL  DRUG   \n",
       "4       HUMAN DRUG                 ANTACID                    ORAL  DRUG   \n",
       "\n",
       "                                                                                                                                                             ACTIVE ING  \\\n",
       "0                                                                                            FERRIC AMMONIUM CITRATE, VIT B12, FOLIC ACID, VIT B1, ZINC, VIT B6, COPPER   \n",
       "1                                                     FERRIC AMMONIUM CITRATE (EQUIVALENT TO 10.8MG ELEMENTAL IRON), VIT B1, VIT B6, VIT B12 , FOLIC ACID, ZINC, COPPER   \n",
       "2                                                              FERRIC GLUCONATE, VIT B1, VIT B2, VIT B6, VIT B12, NICOTINAMIDE, ZINC SULPHATE, LYSINE MONOHYDROCHLORIDE   \n",
       "3  GINSENG EXTRACT, LIVER EXTRACT, THIAMINE HCL, RIBOFLAVIN, NICOTINAMIDE, PYRIDOXINE HCL, CALCUIM D-PANTOTHENATE, CYANOCOBOLAMIN, FERRIC AMMONIUM CITRATE, QUININE HCL   \n",
       "4                                                                                                  MAGNESIUM TRISILICATE, LIGHT MAGNESIUM CARBONATE, SODIUM BICARBONATE   \n",
       "\n",
       "                                                                                     STRENGTH  \\\n",
       "0                                                    54MG, 5MCG, 200MCG, 2MG, 4MG, 2MG, 0.4MG   \n",
       "1                                                    54MG, 3MG, 2MG, 5MCG, 200MCG, 5MG, 0.4MG   \n",
       "2                                                120MG, 1MG, 1MG, 2MG, 1MCG, 5MG, 15MG, 100MG   \n",
       "3  40MG, 23.4MG, 0.98MG, 0.39MG, 3.92MG, 0.39MG, 3.92MG, 0.39MG, 6MG, 0.6MCG, 32.18MG, 0.15MG   \n",
       "4                                                                         250MG, 250MG, 250MG   \n",
       "\n",
       "   ...  \\\n",
       "0  ...   \n",
       "1  ...   \n",
       "2  ...   \n",
       "3  ...   \n",
       "4  ...   \n",
       "\n",
       "                                                         APPROVED INDICATION  \\\n",
       "0  PREVENTION OF ANAEMIA AND NUTRITIONAL SUPPLEMENTATION OF CERTAIN VITAMINS   \n",
       "1  PREVENTION OF ANAEMIA AND NUTRITIONAL SUPPLEMENTATION OF CERTAIN VITAMINS   \n",
       "2  PREVENTION OF ANAEMIA AND NUTRITIONAL SUPPLEMENTATION OF CERTAIN VITAMINS   \n",
       "3  PREVENTION OF ANAEMIA AND NUTRITIONAL SUPPLEMENTATION OF CERTAIN VITAMINS   \n",
       "4                            RELIEF OF HYPERACIDITY, HEARTBURN & INDIGESTION   \n",
       "\n",
       "         NAME OF APPLICANT  \\\n",
       "0      ADLER PRODUCTS LTD,   \n",
       "1        FARMEX MEYER LTD,   \n",
       "2  JAWA INTERNATIONAL LTD,   \n",
       "3         AVRO PHARMA LTD,   \n",
       "4      SOFAK PHARM IND LTD   \n",
       "\n",
       "                                             APPLICANT ADDRESS  COUNTRY  \\\n",
       "0                              32 ODUYEMI STREET, IKEJA, LAGOS  NIGERIA   \n",
       "1             KM 38 LAGOS-ABEOKUTA ROAD, SANGO-OTA, OGUN STATE  NIGERIA   \n",
       "2  PLOT 6 ABIMBOLA WAY, ISOLO INDUSTRIAL ESTATE, ISOLO, LAGOS.  NIGERIA   \n",
       "3           11 KAARA STREET, OFF OSOLO WAY, AJAO ESTATE, LAGOS  NIGERIA   \n",
       "4                      KLM 6 ILORIN ROAD, OGBOMOSHO, OYO STATE  NIGERIA   \n",
       "\n",
       "      NAME OF MANUFACTURER  \\\n",
       "0        FARMEX MEYER LTD,   \n",
       "1        FARMEX MEYER LTD,   \n",
       "2  JAWA INTERNATIONAL LTD,   \n",
       "3          SKG PHARMA LTD,   \n",
       "4      SOFAK PHARM IND LTD   \n",
       "\n",
       "                                          MANUFACTURER ADDRESS COUNTRY.1  \\\n",
       "0             KM 38 LAGOS-ABEOKUTA ROAD, SANGO-OTA, OGUN STATE   NIGERIA   \n",
       "1             KM 38 LAGOS-ABEOKUTA ROAD, SANGO-OTA, OGUN STATE   NIGERIA   \n",
       "2  PLOT 6 ABIMBOLA WAY, ISOLO INDUSTRIAL ESTATE, ISOLO, LAGOS.   NIGERIA   \n",
       "3                              7/9 SAPARA STREET, IKEJA, LAGOS   NIGERIA   \n",
       "4                      KLM 6 ILORIN ROAD, OGBOMOSHO, OYO STATE   NIGERIA   \n",
       "\n",
       "         APPROVAL DATE EXPIRY DATE  date_time  \n",
       "0  2016-07-28 00:00:00  2021-07-27 2016-07-28  \n",
       "1  2016-07-28 00:00:00  2021-07-27 2016-07-28  \n",
       "2  2016-07-28 00:00:00  2021-07-27 2016-07-28  \n",
       "3  2016-07-28 00:00:00  2021-07-27 2016-07-28  \n",
       "4  2016-08-25 00:00:00  2021-08-24 2016-08-25  \n",
       "\n",
       "[5 rows x 24 columns]"
      ]
     },
     "execution_count": 27,
     "metadata": {},
     "output_type": "execute_result"
    }
   ],
   "source": [
    "nigeria.head()"
   ]
  },
  {
   "cell_type": "code",
   "execution_count": 28,
   "metadata": {},
   "outputs": [
    {
     "data": {
      "text/plain": [
       "1506"
      ]
     },
     "execution_count": 28,
     "metadata": {},
     "output_type": "execute_result"
    }
   ],
   "source": [
    "len(nigeria)"
   ]
  },
  {
   "cell_type": "code",
   "execution_count": 29,
   "metadata": {},
   "outputs": [
    {
     "data": {
      "text/plain": [
       "5854"
      ]
     },
     "execution_count": 29,
     "metadata": {},
     "output_type": "execute_result"
    }
   ],
   "source": [
    "len(drug)"
   ]
  },
  {
   "cell_type": "code",
   "execution_count": 30,
   "metadata": {},
   "outputs": [
    {
     "name": "stdout",
     "output_type": "stream",
     "text": [
      "<class 'pandas.core.frame.DataFrame'>\n",
      "Int64Index: 5854 entries, 0 to 5853\n",
      "Data columns (total 24 columns):\n",
      " #   Column                   Non-Null Count  Dtype         \n",
      "---  ------                   --------------  -----         \n",
      " 0   PRODUCT NAME             5854 non-null   object        \n",
      " 1   NAFDAC                   5854 non-null   object        \n",
      " 2   BRAND                    5854 non-null   object        \n",
      " 3   GENERICS                 5854 non-null   object        \n",
      " 4   PRODUCT CATEGORY         5854 non-null   object        \n",
      " 5   PHARM CLASS              5854 non-null   object        \n",
      " 6   ROUTE OF ADMINISTRATION  5854 non-null   object        \n",
      " 7   GROUP                    5854 non-null   object        \n",
      " 8   ACTIVE ING               5854 non-null   object        \n",
      " 9   STRENGTH                 5724 non-null   object        \n",
      " 10  PRESENTATION             5828 non-null   object        \n",
      " 11  DOSAGE FORM              5854 non-null   object        \n",
      " 12  PACK SIZE                5842 non-null   object        \n",
      " 13  MARKETING CATEGORY       5854 non-null   object        \n",
      " 14  APPROVED INDICATION      5853 non-null   object        \n",
      " 15  NAME OF APPLICANT        5831 non-null   object        \n",
      " 16  APPLICANT ADDRESS        5852 non-null   object        \n",
      " 17  COUNTRY                  5854 non-null   object        \n",
      " 18  NAME OF MANUFACTURER     5854 non-null   object        \n",
      " 19  MANUFACTURER ADDRESS     5854 non-null   object        \n",
      " 20  COUNTRY.1                5854 non-null   object        \n",
      " 21  APPROVAL DATE            5854 non-null   object        \n",
      " 22  EXPIRY DATE              5854 non-null   datetime64[ns]\n",
      " 23  date_time                5847 non-null   datetime64[ns]\n",
      "dtypes: datetime64[ns](2), object(22)\n",
      "memory usage: 1.1+ MB\n"
     ]
    }
   ],
   "source": [
    "drug.info()"
   ]
  },
  {
   "cell_type": "code",
   "execution_count": 31,
   "metadata": {},
   "outputs": [],
   "source": [
    "prodCat = drug['PRODUCT CATEGORY']"
   ]
  },
  {
   "cell_type": "code",
   "execution_count": 32,
   "metadata": {},
   "outputs": [
    {
     "data": {
      "text/plain": [
       "array(['HUMAN DRUG'], dtype=object)"
      ]
     },
     "execution_count": 32,
     "metadata": {},
     "output_type": "execute_result"
    }
   ],
   "source": [
    "prodCat.unique()"
   ]
  },
  {
   "cell_type": "code",
   "execution_count": 48,
   "metadata": {},
   "outputs": [
    {
     "data": {
      "text/html": [
       "<div>\n",
       "<style scoped>\n",
       "    .dataframe tbody tr th:only-of-type {\n",
       "        vertical-align: middle;\n",
       "    }\n",
       "\n",
       "    .dataframe tbody tr th {\n",
       "        vertical-align: top;\n",
       "    }\n",
       "\n",
       "    .dataframe thead th {\n",
       "        text-align: right;\n",
       "    }\n",
       "</style>\n",
       "<table border=\"1\" class=\"dataframe\">\n",
       "  <thead>\n",
       "    <tr style=\"text-align: right;\">\n",
       "      <th></th>\n",
       "      <th>PRODUCT NAME</th>\n",
       "      <th>NAFDAC</th>\n",
       "      <th>BRAND</th>\n",
       "      <th>GENERICS</th>\n",
       "      <th>PRODUCT CATEGORY</th>\n",
       "      <th>PHARM CLASS</th>\n",
       "      <th>ROUTE OF ADMINISTRATION</th>\n",
       "      <th>GROUP</th>\n",
       "      <th>ACTIVE ING</th>\n",
       "      <th>STRENGTH</th>\n",
       "      <th>...</th>\n",
       "      <th>APPROVED INDICATION</th>\n",
       "      <th>NAME OF APPLICANT</th>\n",
       "      <th>APPLICANT ADDRESS</th>\n",
       "      <th>COUNTRY</th>\n",
       "      <th>NAME OF MANUFACTURER</th>\n",
       "      <th>MANUFACTURER ADDRESS</th>\n",
       "      <th>COUNTRY.1</th>\n",
       "      <th>APPROVAL DATE</th>\n",
       "      <th>EXPIRY DATE</th>\n",
       "      <th>date_time</th>\n",
       "    </tr>\n",
       "  </thead>\n",
       "  <tbody>\n",
       "    <tr>\n",
       "      <th>1215</th>\n",
       "      <td>DANA-CPM SYRUP</td>\n",
       "      <td>NO NAFDAC NUMBER</td>\n",
       "      <td>DANA-CPM</td>\n",
       "      <td>CHLORPHENIRAMINE MALEATE</td>\n",
       "      <td>HUMAN DRUG</td>\n",
       "      <td>ANTIHISTAMINE</td>\n",
       "      <td>ORAL</td>\n",
       "      <td>DRUG</td>\n",
       "      <td>CHLORPHENIRAMINE MALEATE 2MG /5ML</td>\n",
       "      <td>2MG/5ML</td>\n",
       "      <td>...</td>\n",
       "      <td>RELIEF FROM ALLERGY</td>\n",
       "      <td>DANA PHARM LTD</td>\n",
       "      <td>SHIRORO DAM ROAD, MAITUMBI, MINNA, NIGER STATE</td>\n",
       "      <td>NIGERIA</td>\n",
       "      <td>SAME AS APPLICANT</td>\n",
       "      <td>SAME AS APPLICANT</td>\n",
       "      <td>NIGERIA</td>\n",
       "      <td>2017-08-08 00:00:00</td>\n",
       "      <td>2022-08-07</td>\n",
       "      <td>2017-08-08</td>\n",
       "    </tr>\n",
       "  </tbody>\n",
       "</table>\n",
       "<p>1 rows × 24 columns</p>\n",
       "</div>"
      ],
      "text/plain": [
       "        PRODUCT NAME            NAFDAC     BRAND                  GENERICS  \\\n",
       "1215  DANA-CPM SYRUP  NO NAFDAC NUMBER  DANA-CPM  CHLORPHENIRAMINE MALEATE   \n",
       "\n",
       "     PRODUCT CATEGORY    PHARM CLASS ROUTE OF ADMINISTRATION GROUP  \\\n",
       "1215       HUMAN DRUG  ANTIHISTAMINE                    ORAL  DRUG   \n",
       "\n",
       "                             ACTIVE ING STRENGTH  ...  APPROVED INDICATION  \\\n",
       "1215  CHLORPHENIRAMINE MALEATE 2MG /5ML  2MG/5ML  ...  RELIEF FROM ALLERGY   \n",
       "\n",
       "     NAME OF APPLICANT                               APPLICANT ADDRESS  \\\n",
       "1215    DANA PHARM LTD  SHIRORO DAM ROAD, MAITUMBI, MINNA, NIGER STATE   \n",
       "\n",
       "      COUNTRY NAME OF MANUFACTURER MANUFACTURER ADDRESS COUNTRY.1  \\\n",
       "1215  NIGERIA    SAME AS APPLICANT    SAME AS APPLICANT   NIGERIA   \n",
       "\n",
       "            APPROVAL DATE EXPIRY DATE  date_time  \n",
       "1215  2017-08-08 00:00:00  2022-08-07 2017-08-08  \n",
       "\n",
       "[1 rows x 24 columns]"
      ]
     },
     "execution_count": 48,
     "metadata": {},
     "output_type": "execute_result"
    }
   ],
   "source": [
    "drug.loc[drug['BRAND'] == 'DANA-CPM']"
   ]
  },
  {
   "cell_type": "code",
   "execution_count": 34,
   "metadata": {},
   "outputs": [
    {
     "ename": "NameError",
     "evalue": "name 'pharmclass' is not defined",
     "output_type": "error",
     "traceback": [
      "\u001b[1;31m---------------------------------------------------------------------------\u001b[0m",
      "\u001b[1;31mNameError\u001b[0m                                 Traceback (most recent call last)",
      "\u001b[1;32m<ipython-input-34-a238a88d692e>\u001b[0m in \u001b[0;36m<module>\u001b[1;34m\u001b[0m\n\u001b[1;32m----> 1\u001b[1;33m \u001b[0mlen\u001b[0m\u001b[1;33m(\u001b[0m\u001b[0mpharmclass\u001b[0m\u001b[1;33m)\u001b[0m\u001b[1;33m\u001b[0m\u001b[1;33m\u001b[0m\u001b[0m\n\u001b[0m",
      "\u001b[1;31mNameError\u001b[0m: name 'pharmclass' is not defined"
     ]
    }
   ],
   "source": [
    "len(pharmclass)"
   ]
  },
  {
   "cell_type": "code",
   "execution_count": null,
   "metadata": {},
   "outputs": [],
   "source": [
    "pharmclass.unique()"
   ]
  },
  {
   "cell_type": "code",
   "execution_count": null,
   "metadata": {},
   "outputs": [],
   "source": [
    "pharmclass.nunique()"
   ]
  },
  {
   "cell_type": "code",
   "execution_count": null,
   "metadata": {},
   "outputs": [],
   "source": [
    "route = drug['ROUTE OF ADMINISTRATION']"
   ]
  },
  {
   "cell_type": "code",
   "execution_count": null,
   "metadata": {},
   "outputs": [],
   "source": [
    "route.unique()"
   ]
  },
  {
   "cell_type": "code",
   "execution_count": null,
   "metadata": {},
   "outputs": [],
   "source": [
    "route.nunique()"
   ]
  },
  {
   "cell_type": "code",
   "execution_count": null,
   "metadata": {},
   "outputs": [],
   "source": [
    "group = drug['GROUP']"
   ]
  },
  {
   "cell_type": "code",
   "execution_count": null,
   "metadata": {},
   "outputs": [],
   "source": [
    "group.unique()"
   ]
  },
  {
   "cell_type": "code",
   "execution_count": null,
   "metadata": {},
   "outputs": [],
   "source": [
    "act_ing = drug['ACTIVE ING']"
   ]
  },
  {
   "cell_type": "code",
   "execution_count": null,
   "metadata": {},
   "outputs": [],
   "source": [
    "act_ing"
   ]
  },
  {
   "cell_type": "code",
   "execution_count": null,
   "metadata": {},
   "outputs": [],
   "source": [
    "strength = drug['STRENGTH']"
   ]
  },
  {
   "cell_type": "code",
   "execution_count": null,
   "metadata": {},
   "outputs": [],
   "source": [
    "strength"
   ]
  },
  {
   "cell_type": "code",
   "execution_count": null,
   "metadata": {},
   "outputs": [],
   "source": [
    "presentation = drug['PRESENTATION']"
   ]
  },
  {
   "cell_type": "code",
   "execution_count": null,
   "metadata": {},
   "outputs": [],
   "source": [
    "presentation"
   ]
  },
  {
   "cell_type": "code",
   "execution_count": null,
   "metadata": {},
   "outputs": [],
   "source": [
    "pharmclass = drug['PHARM CLASS'].unique()"
   ]
  },
  {
   "cell_type": "code",
   "execution_count": null,
   "metadata": {},
   "outputs": [],
   "source": [
    "dosage = drug['DOSAGE FORM'].unique()"
   ]
  },
  {
   "cell_type": "code",
   "execution_count": null,
   "metadata": {},
   "outputs": [],
   "source": [
    "pharmList = list(pharmclass)"
   ]
  },
  {
   "cell_type": "code",
   "execution_count": null,
   "metadata": {},
   "outputs": [],
   "source": [
    "pharmFrame = pd.DataFrame(pharmList, columns=['PHARM CLASS'])"
   ]
  },
  {
   "cell_type": "code",
   "execution_count": null,
   "metadata": {},
   "outputs": [],
   "source": [
    "doseList = list(dosage)"
   ]
  },
  {
   "cell_type": "code",
   "execution_count": null,
   "metadata": {},
   "outputs": [],
   "source": [
    "doseFrame = pd.DataFrame(doseList, columns=['DOSAGE FORM'])"
   ]
  },
  {
   "cell_type": "code",
   "execution_count": null,
   "metadata": {},
   "outputs": [],
   "source": [
    "doseFrame"
   ]
  },
  {
   "cell_type": "code",
   "execution_count": null,
   "metadata": {},
   "outputs": [],
   "source": [
    "with pd.ExcelWriter('drug-data-list.xlsx') as writer:\n",
    "    pharmFrame.to_excel(writer, sheet_name = 'pharm-class')\n",
    "    doseFrame.to_excel(writer, sheet_name = 'dosage-form')"
   ]
  },
  {
   "cell_type": "code",
   "execution_count": null,
   "metadata": {},
   "outputs": [],
   "source": [
    "packsize = drug['PACK SIZE']"
   ]
  },
  {
   "cell_type": "code",
   "execution_count": null,
   "metadata": {},
   "outputs": [],
   "source": [
    "packsize"
   ]
  },
  {
   "cell_type": "code",
   "execution_count": null,
   "metadata": {},
   "outputs": [],
   "source": [
    "marketingcat = drug['MARKETING CATEGORY']"
   ]
  },
  {
   "cell_type": "code",
   "execution_count": null,
   "metadata": {},
   "outputs": [],
   "source": [
    "marketingcat.unique()"
   ]
  },
  {
   "cell_type": "code",
   "execution_count": null,
   "metadata": {},
   "outputs": [],
   "source": [
    "drug.iloc[3780,:]"
   ]
  },
  {
   "cell_type": "code",
   "execution_count": null,
   "metadata": {},
   "outputs": [],
   "source": [
    "presentation[0]"
   ]
  },
  {
   "cell_type": "code",
   "execution_count": null,
   "metadata": {},
   "outputs": [],
   "source": [
    "type(presentation)"
   ]
  },
  {
   "cell_type": "code",
   "execution_count": null,
   "metadata": {},
   "outputs": [],
   "source": [
    "presentation = presentation[0]"
   ]
  },
  {
   "cell_type": "code",
   "execution_count": null,
   "metadata": {},
   "outputs": [],
   "source": [
    "presentation.split(',')"
   ]
  },
  {
   "cell_type": "code",
   "execution_count": null,
   "metadata": {},
   "outputs": [],
   "source": [
    "pd.set_option('display.max_colwidth', None)\n",
    "pd.set_option('display.max_column', None)\n",
    "drug.iloc[2,:]"
   ]
  },
  {
   "cell_type": "code",
   "execution_count": null,
   "metadata": {},
   "outputs": [],
   "source": []
  }
 ],
 "metadata": {
  "kernelspec": {
   "display_name": "Python 3",
   "language": "python",
   "name": "python3"
  },
  "language_info": {
   "codemirror_mode": {
    "name": "ipython",
    "version": 3
   },
   "file_extension": ".py",
   "mimetype": "text/x-python",
   "name": "python",
   "nbconvert_exporter": "python",
   "pygments_lexer": "ipython3",
   "version": "3.8.3"
  }
 },
 "nbformat": 4,
 "nbformat_minor": 4
}
