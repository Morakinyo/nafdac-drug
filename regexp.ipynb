{
 "cells": [
  {
   "cell_type": "code",
   "execution_count": 1,
   "metadata": {},
   "outputs": [],
   "source": [
    "import pandas as pd\n",
    "import numpy as np\n",
    "import re"
   ]
  },
  {
   "cell_type": "code",
   "execution_count": 2,
   "metadata": {},
   "outputs": [],
   "source": [
    "#drug = pd.read_excel('new-drug-v7.xlsx', index_col=0)"
   ]
  },
  {
   "cell_type": "code",
   "execution_count": 3,
   "metadata": {},
   "outputs": [],
   "source": [
    "#drug.info()"
   ]
  },
  {
   "cell_type": "code",
   "execution_count": 4,
   "metadata": {},
   "outputs": [],
   "source": [
    "#drug.drop_duplicates(subset=['NAFDAC'], keep=False, inplace=True)"
   ]
  },
  {
   "cell_type": "code",
   "execution_count": 5,
   "metadata": {},
   "outputs": [],
   "source": [
    "#len(drug)"
   ]
  },
  {
   "cell_type": "code",
   "execution_count": 6,
   "metadata": {},
   "outputs": [],
   "source": [
    "#len(drug)"
   ]
  },
  {
   "cell_type": "code",
   "execution_count": 7,
   "metadata": {},
   "outputs": [],
   "source": [
    "#drug.to_excel('new-drug-v7-no-duplicates.xlsx')"
   ]
  },
  {
   "cell_type": "code",
   "execution_count": 8,
   "metadata": {},
   "outputs": [],
   "source": [
    "drug = pd.read_excel('drug-data-src-Napams.xlsx',header=1, usecols=('B:Y'))"
   ]
  },
  {
   "cell_type": "code",
   "execution_count": 9,
   "metadata": {},
   "outputs": [
    {
     "name": "stdout",
     "output_type": "stream",
     "text": [
      "<class 'pandas.core.frame.DataFrame'>\n",
      "RangeIndex: 85 entries, 0 to 84\n",
      "Data columns (total 24 columns):\n",
      " #   Column                   Non-Null Count  Dtype  \n",
      "---  ------                   --------------  -----  \n",
      " 0   ProductName              85 non-null     object \n",
      " 1   GenericName              85 non-null     object \n",
      " 2   ApplicationNumber        85 non-null     object \n",
      " 3   NAFDACNumber             79 non-null     object \n",
      " 4   CategoryName             85 non-null     object \n",
      " 5   PharmacologicalClass     85 non-null     object \n",
      " 6   RouteOfAdministration    85 non-null     object \n",
      " 7   ActiveIngredients        85 non-null     object \n",
      " 8   Strength                 0 non-null      float64\n",
      " 9   Presentation             85 non-null     object \n",
      " 10  DosageForm               85 non-null     object \n",
      " 11  PackSize                 84 non-null     object \n",
      " 12  ApprovedIndications      84 non-null     object \n",
      " 13  ApplicantName            85 non-null     object \n",
      " 14  ApplicantPhone           85 non-null     int64  \n",
      " 15  ApplicantEmail           85 non-null     object \n",
      " 16  ApplicantAddress         85 non-null     object \n",
      " 17  ManufacturerName         84 non-null     object \n",
      " 18  ManufacturerPhoneNumber  84 non-null     object \n",
      " 19  ManufacturerEmail        84 non-null     object \n",
      " 20  ManufacturerAddress      84 non-null     object \n",
      " 21  ManufacturerCountry      82 non-null     object \n",
      " 22  ApprovalDate             85 non-null     object \n",
      " 23  ExpiryDate               85 non-null     object \n",
      "dtypes: float64(1), int64(1), object(22)\n",
      "memory usage: 16.1+ KB\n"
     ]
    }
   ],
   "source": [
    "drug.info()\n"
   ]
  },
  {
   "cell_type": "code",
   "execution_count": 10,
   "metadata": {},
   "outputs": [],
   "source": [
    "drug.drop(['ApplicantPhone', 'ApplicantEmail', 'ManufacturerPhoneNumber','ManufacturerEmail'], axis=1, inplace=True)"
   ]
  },
  {
   "cell_type": "code",
   "execution_count": 11,
   "metadata": {},
   "outputs": [
    {
     "name": "stdout",
     "output_type": "stream",
     "text": [
      "<class 'pandas.core.frame.DataFrame'>\n",
      "RangeIndex: 85 entries, 0 to 84\n",
      "Data columns (total 20 columns):\n",
      " #   Column                 Non-Null Count  Dtype  \n",
      "---  ------                 --------------  -----  \n",
      " 0   ProductName            85 non-null     object \n",
      " 1   GenericName            85 non-null     object \n",
      " 2   ApplicationNumber      85 non-null     object \n",
      " 3   NAFDACNumber           79 non-null     object \n",
      " 4   CategoryName           85 non-null     object \n",
      " 5   PharmacologicalClass   85 non-null     object \n",
      " 6   RouteOfAdministration  85 non-null     object \n",
      " 7   ActiveIngredients      85 non-null     object \n",
      " 8   Strength               0 non-null      float64\n",
      " 9   Presentation           85 non-null     object \n",
      " 10  DosageForm             85 non-null     object \n",
      " 11  PackSize               84 non-null     object \n",
      " 12  ApprovedIndications    84 non-null     object \n",
      " 13  ApplicantName          85 non-null     object \n",
      " 14  ApplicantAddress       85 non-null     object \n",
      " 15  ManufacturerName       84 non-null     object \n",
      " 16  ManufacturerAddress    84 non-null     object \n",
      " 17  ManufacturerCountry    82 non-null     object \n",
      " 18  ApprovalDate           85 non-null     object \n",
      " 19  ExpiryDate             85 non-null     object \n",
      "dtypes: float64(1), object(19)\n",
      "memory usage: 13.4+ KB\n"
     ]
    }
   ],
   "source": [
    "drug.info()"
   ]
  },
  {
   "cell_type": "code",
   "execution_count": 12,
   "metadata": {},
   "outputs": [],
   "source": [
    "drug.dropna(how='all',axis=1, inplace=True)"
   ]
  },
  {
   "cell_type": "code",
   "execution_count": 13,
   "metadata": {},
   "outputs": [
    {
     "name": "stdout",
     "output_type": "stream",
     "text": [
      "<class 'pandas.core.frame.DataFrame'>\n",
      "RangeIndex: 85 entries, 0 to 84\n",
      "Data columns (total 19 columns):\n",
      " #   Column                 Non-Null Count  Dtype \n",
      "---  ------                 --------------  ----- \n",
      " 0   ProductName            85 non-null     object\n",
      " 1   GenericName            85 non-null     object\n",
      " 2   ApplicationNumber      85 non-null     object\n",
      " 3   NAFDACNumber           79 non-null     object\n",
      " 4   CategoryName           85 non-null     object\n",
      " 5   PharmacologicalClass   85 non-null     object\n",
      " 6   RouteOfAdministration  85 non-null     object\n",
      " 7   ActiveIngredients      85 non-null     object\n",
      " 8   Presentation           85 non-null     object\n",
      " 9   DosageForm             85 non-null     object\n",
      " 10  PackSize               84 non-null     object\n",
      " 11  ApprovedIndications    84 non-null     object\n",
      " 12  ApplicantName          85 non-null     object\n",
      " 13  ApplicantAddress       85 non-null     object\n",
      " 14  ManufacturerName       84 non-null     object\n",
      " 15  ManufacturerAddress    84 non-null     object\n",
      " 16  ManufacturerCountry    82 non-null     object\n",
      " 17  ApprovalDate           85 non-null     object\n",
      " 18  ExpiryDate             85 non-null     object\n",
      "dtypes: object(19)\n",
      "memory usage: 12.7+ KB\n"
     ]
    }
   ],
   "source": [
    "drug.info()"
   ]
  },
  {
   "cell_type": "code",
   "execution_count": 14,
   "metadata": {},
   "outputs": [
    {
     "data": {
      "text/plain": [
       "ProductName                                              EMGYL SUSPENSION \n",
       "GenericName                                                  METRONIDAZOLE\n",
       "ApplicationNumber                                            RNW-PP-208496\n",
       "NAFDACNumber                                                       04-1452\n",
       "CategoryName                                                         DRUGS\n",
       "PharmacologicalClass                                       ANTI-INFECTIVES\n",
       "RouteOfAdministration                                                 ORAL\n",
       "ActiveIngredients                                  METRONIDAZOLE 200MG/5ML\n",
       "Presentation                                                          60ML\n",
       "DosageForm                                                      SUSPENSION\n",
       "PackSize                                                              60ML\n",
       "ApprovedIndications                                TREATMENT OF INFECTIONS\n",
       "ApplicantName                      EMZOR PHARMACEUTICAL INDUSTRIES LIMITED\n",
       "ApplicantAddress         PLOT 3C, BLOCK A, ASWANI MARKET ROAD, ISOLO, L...\n",
       "ManufacturerName                      EMZOR PHARMACEUTICALS INDUSTRIES LTD\n",
       "ManufacturerAddress      NO 10 KOLAWOLE SHONIBARE STREET, AJAO ESTATE,L...\n",
       "ManufacturerCountry                                                NIGERIA\n",
       "ApprovalDate                                                    2016-11-29\n",
       "ExpiryDate                                                      2021-11-28\n",
       "Name: 83, dtype: object"
      ]
     },
     "execution_count": 14,
     "metadata": {},
     "output_type": "execute_result"
    }
   ],
   "source": [
    "drug.iloc[83]"
   ]
  },
  {
   "cell_type": "code",
   "execution_count": null,
   "metadata": {},
   "outputs": [],
   "source": []
  },
  {
   "cell_type": "code",
   "execution_count": 15,
   "metadata": {},
   "outputs": [],
   "source": [
    "pd.set_option('display.max_colwidth', None)\n",
    "active = drug['ActiveIngredients']"
   ]
  },
  {
   "cell_type": "code",
   "execution_count": 16,
   "metadata": {},
   "outputs": [
    {
     "data": {
      "text/plain": [
       "0                                                                                                                                                                  LIDOCAINE HYDROCHLORIDE 20MG/ML, EPINEPHRINE 10PG/ML\n",
       "1                                                                                                                                                                                                     MEBENDAZOLE 500MG\n",
       "2                                                                                                                                                                             SULFAMETHOXAZOLE 800MG/TRIMETHOPRIM 160MG\n",
       "3     CLOTRIMAZOLE  POWDER  5.00,  LIQUID PARAFFIN (HEAVY) 22.50, STEARIC ACID  22.50, CETO – STEARYL ALCOHOL  27.50, CETOMACROGOL 1000\\t5.00, PROPYLENE GLYCOL  50.00, BENZYL ALCOHOL   5.00, PURIFIED WATER   362.50.\n",
       "4                                                                   DICLOFENAC SODIUM 50.496, LACTOSE HYDROUS 131.502, CORN STARCH  30.991, AEROSIL 200  0.899, SODIUM LAURYL SULPHATE  0.899, MAGNESIUM STERATE  4.383\n",
       "                                                                                                            ...                                                                                                        \n",
       "80                                                                                                                                                                        EACH 100ML CONTAINS:\\nDEXTROSE ANHYDROUS - 5G\n",
       "81                                                                                                                                                                            EACH 100ML CONTAINS:\\nMETRONIDAZOLE  - 5G\n",
       "82                                                                                                                                                                         EACH 100ML CONTAINS:\\nSODIUM CHLORIDE - 0.9G\n",
       "83                                                                                                                                                                                              METRONIDAZOLE 200MG/5ML\n",
       "84                                                                                                                                                                                                       LOSARTAN 100MG\n",
       "Name: ActiveIngredients, Length: 85, dtype: object"
      ]
     },
     "execution_count": 16,
     "metadata": {},
     "output_type": "execute_result"
    }
   ],
   "source": [
    "active"
   ]
  },
  {
   "cell_type": "code",
   "execution_count": 17,
   "metadata": {},
   "outputs": [
    {
     "data": {
      "text/html": [
       "<div>\n",
       "<style scoped>\n",
       "    .dataframe tbody tr th:only-of-type {\n",
       "        vertical-align: middle;\n",
       "    }\n",
       "\n",
       "    .dataframe tbody tr th {\n",
       "        vertical-align: top;\n",
       "    }\n",
       "\n",
       "    .dataframe thead th {\n",
       "        text-align: right;\n",
       "    }\n",
       "</style>\n",
       "<table border=\"1\" class=\"dataframe\">\n",
       "  <thead>\n",
       "    <tr style=\"text-align: right;\">\n",
       "      <th></th>\n",
       "      <th>ProductName</th>\n",
       "      <th>GenericName</th>\n",
       "      <th>ApplicationNumber</th>\n",
       "      <th>NAFDACNumber</th>\n",
       "      <th>CategoryName</th>\n",
       "      <th>PharmacologicalClass</th>\n",
       "      <th>RouteOfAdministration</th>\n",
       "      <th>ActiveIngredients</th>\n",
       "      <th>Presentation</th>\n",
       "      <th>DosageForm</th>\n",
       "      <th>PackSize</th>\n",
       "      <th>ApprovedIndications</th>\n",
       "      <th>ApplicantName</th>\n",
       "      <th>ApplicantAddress</th>\n",
       "      <th>ManufacturerName</th>\n",
       "      <th>ManufacturerAddress</th>\n",
       "      <th>ManufacturerCountry</th>\n",
       "      <th>ApprovalDate</th>\n",
       "      <th>ExpiryDate</th>\n",
       "    </tr>\n",
       "  </thead>\n",
       "  <tbody>\n",
       "    <tr>\n",
       "      <th>0</th>\n",
       "      <td>ALPHACAINE 100 INJECTION</td>\n",
       "      <td>LOCAL ANAESTHESIA</td>\n",
       "      <td>RNW-PP-171788</td>\n",
       "      <td>A4 - 4022</td>\n",
       "      <td>DRUGS</td>\n",
       "      <td>DRUGS USED IN ANAESTHESIA</td>\n",
       "      <td>INTRAVENOUS INJECTION</td>\n",
       "      <td>LIDOCAINE HYDROCHLORIDE 20MG/ML, EPINEPHRINE 10PG/ML</td>\n",
       "      <td>YES</td>\n",
       "      <td>INJECTION</td>\n",
       "      <td>1,8</td>\n",
       "      <td>NaN</td>\n",
       "      <td>DAVONA NIGERIA LIMITED</td>\n",
       "      <td>51, OPEBI ROAD P.O. BOX 7658 IKEJA, LAGOS, NIGERIA.</td>\n",
       "      <td>DFL NDUSTRIA E COMERCIO S.A.</td>\n",
       "      <td>ESTRADA DO GUERENQUE, RIO DE JANEIRO-RJ-BRAZIL.</td>\n",
       "      <td>BRAZIL</td>\n",
       "      <td>2016-01-28</td>\n",
       "      <td>2021-01-27</td>\n",
       "    </tr>\n",
       "    <tr>\n",
       "      <th>1</th>\n",
       "      <td>EMZOR MEBENDAZOLE 500 CHEWABLE  TABLET</td>\n",
       "      <td>MEBENDAZOLE 500MG</td>\n",
       "      <td>NF-PP-191462</td>\n",
       "      <td>A11-100066</td>\n",
       "      <td>DRUGS</td>\n",
       "      <td>ANTHELMINTICS</td>\n",
       "      <td>ORAL</td>\n",
       "      <td>MEBENDAZOLE 500MG</td>\n",
       "      <td>1X1000</td>\n",
       "      <td>TABLET, CHEWABLE</td>\n",
       "      <td>1*1000</td>\n",
       "      <td>WORM EXPELLER</td>\n",
       "      <td>EMZOR PHARMACEUTICAL INDUSTRIES LIMITED</td>\n",
       "      <td>PLOT 3C, BLOCK A, ASWANI MARKET ROAD, ISOLO, LAGOS\\n</td>\n",
       "      <td>EMZOR PHARMACEUTICAL INDUSTRIES LTD</td>\n",
       "      <td>NO 13,RICHFIELD AVENUE,AJAO ESTATE,LAGOS</td>\n",
       "      <td>NIGERIA</td>\n",
       "      <td>2021-03-29</td>\n",
       "      <td>2026-03-28</td>\n",
       "    </tr>\n",
       "    <tr>\n",
       "      <th>2</th>\n",
       "      <td>TRIMAC FORTE TABLETS</td>\n",
       "      <td>SULFAMETHOXAZOLE 800MG/ TRIMETHOPRIM 160MG</td>\n",
       "      <td>PEX-PP-191704</td>\n",
       "      <td>00017932</td>\n",
       "      <td>DRUGS</td>\n",
       "      <td>ANTI-INFECTIVES</td>\n",
       "      <td>ORAL</td>\n",
       "      <td>SULFAMETHOXAZOLE 800MG/TRIMETHOPRIM 160MG</td>\n",
       "      <td>1*10,10*10</td>\n",
       "      <td>TABLET</td>\n",
       "      <td>1*10.10*10,500 TABLETS JAR</td>\n",
       "      <td>TREATMENT OF INFECTIONS CAUSED BY SUSCEPTIBLE MICRO-ORGANISMS</td>\n",
       "      <td>SWISS PHARMA NIG LTD</td>\n",
       "      <td>5, DOPEMU ROAD AGEGE LAGOS</td>\n",
       "      <td>SWISS PHARMA NIGERIA LTD</td>\n",
       "      <td>P.O.BOX 463 IKEJA LAGOS</td>\n",
       "      <td>NIGERIA</td>\n",
       "      <td>2019-12-20</td>\n",
       "      <td>2024-12-19</td>\n",
       "    </tr>\n",
       "    <tr>\n",
       "      <th>3</th>\n",
       "      <td>MYCOTEN CLOTRIMAZOLE CREAM</td>\n",
       "      <td>CLOTRIMAZOLE</td>\n",
       "      <td>RNW-PP-192330</td>\n",
       "      <td>04-1468</td>\n",
       "      <td>DRUGS</td>\n",
       "      <td>ANTIFUNGALS</td>\n",
       "      <td>CUTANEOUS/TOPICAL ROUTE</td>\n",
       "      <td>CLOTRIMAZOLE  POWDER  5.00,  LIQUID PARAFFIN (HEAVY) 22.50, STEARIC ACID  22.50, CETO – STEARYL ALCOHOL  27.50, CETOMACROGOL 1000\\t5.00, PROPYLENE GLYCOL  50.00, BENZYL ALCOHOL   5.00, PURIFIED WATER   362.50.</td>\n",
       "      <td>SMOOTH, WHITE HOMOGENEOUS CREAM CONTAINED IN COLLAPSIBLE ALUMINIUM MYCOTEN TUBE</td>\n",
       "      <td>CREAM</td>\n",
       "      <td>20G</td>\n",
       "      <td>FOR THE TREATMENT OF CUTANEOUS CANDIDIASIS</td>\n",
       "      <td>DRUGFIELD PHARMACEUTICALS LIMITED</td>\n",
       "      <td>LYNSON CHEMICAL AVENUE, KM 38,LAGOS-ABEOKUTA EXPRESSWAY, SANGO-OTTA,OGUN STATE, NIGERIA.</td>\n",
       "      <td>DRUGFIELD PHARMACEUTICALS LIMITED</td>\n",
       "      <td>48, AKEJU STREET, PALMGROVE, SOMOLU, LAGOS STATE. P.O BOX 5831, IKEJA, LAGOS STATE.</td>\n",
       "      <td>NIGERIA</td>\n",
       "      <td>2016-07-13</td>\n",
       "      <td>2021-07-12</td>\n",
       "    </tr>\n",
       "    <tr>\n",
       "      <th>4</th>\n",
       "      <td>DRUGFIELD DICLOFENAC CAPSULE</td>\n",
       "      <td>DICLOFENAC SODIUM</td>\n",
       "      <td>RNW-PP-192353</td>\n",
       "      <td>A4-3528</td>\n",
       "      <td>DRUGS</td>\n",
       "      <td>NONSTEROIDAL ANTI-INFLAMMATORY DRUG (NSAID)</td>\n",
       "      <td>ORAL</td>\n",
       "      <td>DICLOFENAC SODIUM 50.496, LACTOSE HYDROUS 131.502, CORN STARCH  30.991, AEROSIL 200  0.899, SODIUM LAURYL SULPHATE  0.899, MAGNESIUM STERATE  4.383</td>\n",
       "      <td>YELLOW AND WHITE CAPSULE WITH 'DICLOFENAC' AND '50MG'PRINTED ON THE CAPSULE</td>\n",
       "      <td>CAPSULE</td>\n",
       "      <td>10*10</td>\n",
       "      <td>MANAGEMENT OF INFLAMMATORY AND DEGENERATIVE FORMS OF RHEUMATOID ARTHRITS</td>\n",
       "      <td>DRUGFIELD PHARMACEUTICALS LIMITED</td>\n",
       "      <td>LYNSON CHEMICAL AVENUE, KM 38,LAGOS-ABEOKUTA EXPRESSWAY, SANGO-OTTA,OGUN STATE, NIGERIA.</td>\n",
       "      <td>DRUGFIELD PHARMACEUTICALS LIMITED</td>\n",
       "      <td>48, AKEJU STREET, PALMGROVE, SOMOLU, LAGOS STATE. P.O BOX 5831, IKEJA, LAGOS STATE.</td>\n",
       "      <td>NIGERIA</td>\n",
       "      <td>2016-02-25</td>\n",
       "      <td>2021-02-24</td>\n",
       "    </tr>\n",
       "    <tr>\n",
       "      <th>...</th>\n",
       "      <td>...</td>\n",
       "      <td>...</td>\n",
       "      <td>...</td>\n",
       "      <td>...</td>\n",
       "      <td>...</td>\n",
       "      <td>...</td>\n",
       "      <td>...</td>\n",
       "      <td>...</td>\n",
       "      <td>...</td>\n",
       "      <td>...</td>\n",
       "      <td>...</td>\n",
       "      <td>...</td>\n",
       "      <td>...</td>\n",
       "      <td>...</td>\n",
       "      <td>...</td>\n",
       "      <td>...</td>\n",
       "      <td>...</td>\n",
       "      <td>...</td>\n",
       "      <td>...</td>\n",
       "    </tr>\n",
       "    <tr>\n",
       "      <th>80</th>\n",
       "      <td>BIOFLEX DEXTROSE 5% IN WATER</td>\n",
       "      <td>DEXTROSE 5% IN WATER BP</td>\n",
       "      <td>RNW-PP-202237</td>\n",
       "      <td>04-4894</td>\n",
       "      <td>DRUGS</td>\n",
       "      <td>MISCELLANEOUS</td>\n",
       "      <td>INJECTION ROUTES</td>\n",
       "      <td>EACH 100ML CONTAINS:\\nDEXTROSE ANHYDROUS - 5G</td>\n",
       "      <td>500ML AND 1000ML OF CLEAR AND COLOURLESS SOLUTION I FLEXIBLE PVC POUCH</td>\n",
       "      <td>INJECTION, SOLUTION</td>\n",
       "      <td>500ML</td>\n",
       "      <td>ENERGY REPLENISHMENT</td>\n",
       "      <td>BIOMEDICAL LIMITED</td>\n",
       "      <td>1 OHIMEGE ROAD INDUSTRIAL LAYOUT GAA IMMAN ILORIN KWARA STATE</td>\n",
       "      <td>BIOMEDICAL LIMITED</td>\n",
       "      <td>1, OHIMEGE ROAD, INDUSTRIAL ESTATE, ILORIN, KWARA STATE</td>\n",
       "      <td>NIGERIA</td>\n",
       "      <td>2016-04-05</td>\n",
       "      <td>2021-04-04</td>\n",
       "    </tr>\n",
       "    <tr>\n",
       "      <th>81</th>\n",
       "      <td>BIOGYL INJECTION</td>\n",
       "      <td>METRONIDAZOLE INJECTION BP</td>\n",
       "      <td>RNW-PP-202275</td>\n",
       "      <td>04-1343</td>\n",
       "      <td>DRUGS</td>\n",
       "      <td>ANTIFUNGALS</td>\n",
       "      <td>INJECTION ROUTES</td>\n",
       "      <td>EACH 100ML CONTAINS:\\nMETRONIDAZOLE  - 5G</td>\n",
       "      <td>100ML CLEAR AND COLOURLESS SOLUTION IN FLEXIBLE PVC POUCH</td>\n",
       "      <td>INJECTION, SOLUTION</td>\n",
       "      <td>500ML</td>\n",
       "      <td>SYSTEMIC ANTIFUNGAL. ANTIBACTERIAL</td>\n",
       "      <td>BIOMEDICAL LIMITED</td>\n",
       "      <td>1 OHIMEGE ROAD INDUSTRIAL LAYOUT GAA IMMAN ILORIN KWARA STATE</td>\n",
       "      <td>BIOMEDICAL LIMITED</td>\n",
       "      <td>1, OHIMEGE ROAD, INDUSTRIAL ESTATE, ILORIN, KWARA STATE</td>\n",
       "      <td>NIGERIA</td>\n",
       "      <td>2016-04-28</td>\n",
       "      <td>2021-04-27</td>\n",
       "    </tr>\n",
       "    <tr>\n",
       "      <th>82</th>\n",
       "      <td>BIOFLEX NORMAL SALINE INFUSION</td>\n",
       "      <td>SODIUM CHLORIDE 0.9% (NORMAL SALINE) BP</td>\n",
       "      <td>RNW-PP-202310</td>\n",
       "      <td>04-4893</td>\n",
       "      <td>DRUGS</td>\n",
       "      <td>MISCELLANEOUS</td>\n",
       "      <td>INJECTION ROUTES</td>\n",
       "      <td>EACH 100ML CONTAINS:\\nSODIUM CHLORIDE - 0.9G</td>\n",
       "      <td>500ML AND 1000ML OF CLEAR COLOURLESS SOLUTION I FLEXIBLE PVC POUCH</td>\n",
       "      <td>INJECTION, SOLUTION</td>\n",
       "      <td>500ML</td>\n",
       "      <td>ELECTROLYTES REPLENISHMENT</td>\n",
       "      <td>BIOMEDICAL LIMITED</td>\n",
       "      <td>1 OHIMEGE ROAD INDUSTRIAL LAYOUT GAA IMMAN ILORIN KWARA STATE</td>\n",
       "      <td>BIOMEDICAL LIMITED</td>\n",
       "      <td>1, OHIMEGE ROAD, INDUSTRIAL ESTATE, ILORIN, KWARA STATE</td>\n",
       "      <td>NIGERIA</td>\n",
       "      <td>2016-04-05</td>\n",
       "      <td>2021-04-04</td>\n",
       "    </tr>\n",
       "    <tr>\n",
       "      <th>83</th>\n",
       "      <td>EMGYL SUSPENSION</td>\n",
       "      <td>METRONIDAZOLE</td>\n",
       "      <td>RNW-PP-208496</td>\n",
       "      <td>04-1452</td>\n",
       "      <td>DRUGS</td>\n",
       "      <td>ANTI-INFECTIVES</td>\n",
       "      <td>ORAL</td>\n",
       "      <td>METRONIDAZOLE 200MG/5ML</td>\n",
       "      <td>60ML</td>\n",
       "      <td>SUSPENSION</td>\n",
       "      <td>60ML</td>\n",
       "      <td>TREATMENT OF INFECTIONS</td>\n",
       "      <td>EMZOR PHARMACEUTICAL INDUSTRIES LIMITED</td>\n",
       "      <td>PLOT 3C, BLOCK A, ASWANI MARKET ROAD, ISOLO, LAGOS\\n</td>\n",
       "      <td>EMZOR PHARMACEUTICALS INDUSTRIES LTD</td>\n",
       "      <td>NO 10 KOLAWOLE SHONIBARE STREET, AJAO ESTATE,LAGOS</td>\n",
       "      <td>NIGERIA</td>\n",
       "      <td>2016-11-29</td>\n",
       "      <td>2021-11-28</td>\n",
       "    </tr>\n",
       "    <tr>\n",
       "      <th>84</th>\n",
       "      <td>EMZOR LOSARTAN 100 TABLET</td>\n",
       "      <td>LOSARTAN</td>\n",
       "      <td>NF-PP-210257</td>\n",
       "      <td>A11-100135</td>\n",
       "      <td>DRUGS</td>\n",
       "      <td>CARDIOVASCULAR DRUGS</td>\n",
       "      <td>ORAL</td>\n",
       "      <td>LOSARTAN 100MG</td>\n",
       "      <td>3X10</td>\n",
       "      <td>TABLET</td>\n",
       "      <td>3X10</td>\n",
       "      <td>MANAGEMENT OF HYPERTENSION</td>\n",
       "      <td>EMZOR PHARMACEUTICAL INDUSTRIES LIMITED</td>\n",
       "      <td>PLOT 3C, BLOCK A, ASWANI MARKET ROAD, ISOLO, LAGOS\\n</td>\n",
       "      <td>EMZOR PHARMACEUTICAL INDUSTRIES LTD</td>\n",
       "      <td>NO 13,RICHFIELD AVENUE,AJAO ESTATE,LAGOS</td>\n",
       "      <td>NIGERIA</td>\n",
       "      <td>2021-05-27</td>\n",
       "      <td>2026-05-26</td>\n",
       "    </tr>\n",
       "  </tbody>\n",
       "</table>\n",
       "<p>85 rows × 19 columns</p>\n",
       "</div>"
      ],
      "text/plain": [
       "                               ProductName  \\\n",
       "0                 ALPHACAINE 100 INJECTION   \n",
       "1   EMZOR MEBENDAZOLE 500 CHEWABLE  TABLET   \n",
       "2                     TRIMAC FORTE TABLETS   \n",
       "3              MYCOTEN CLOTRIMAZOLE CREAM    \n",
       "4             DRUGFIELD DICLOFENAC CAPSULE   \n",
       "..                                     ...   \n",
       "80            BIOFLEX DEXTROSE 5% IN WATER   \n",
       "81                        BIOGYL INJECTION   \n",
       "82          BIOFLEX NORMAL SALINE INFUSION   \n",
       "83                       EMGYL SUSPENSION    \n",
       "84               EMZOR LOSARTAN 100 TABLET   \n",
       "\n",
       "                                   GenericName ApplicationNumber NAFDACNumber  \\\n",
       "0                            LOCAL ANAESTHESIA     RNW-PP-171788    A4 - 4022   \n",
       "1                            MEBENDAZOLE 500MG      NF-PP-191462   A11-100066   \n",
       "2   SULFAMETHOXAZOLE 800MG/ TRIMETHOPRIM 160MG     PEX-PP-191704     00017932   \n",
       "3                                 CLOTRIMAZOLE     RNW-PP-192330      04-1468   \n",
       "4                            DICLOFENAC SODIUM     RNW-PP-192353      A4-3528   \n",
       "..                                         ...               ...          ...   \n",
       "80                     DEXTROSE 5% IN WATER BP     RNW-PP-202237      04-4894   \n",
       "81                  METRONIDAZOLE INJECTION BP     RNW-PP-202275      04-1343   \n",
       "82     SODIUM CHLORIDE 0.9% (NORMAL SALINE) BP     RNW-PP-202310      04-4893   \n",
       "83                               METRONIDAZOLE     RNW-PP-208496      04-1452   \n",
       "84                                    LOSARTAN      NF-PP-210257   A11-100135   \n",
       "\n",
       "   CategoryName                         PharmacologicalClass  \\\n",
       "0         DRUGS                    DRUGS USED IN ANAESTHESIA   \n",
       "1         DRUGS                                ANTHELMINTICS   \n",
       "2         DRUGS                              ANTI-INFECTIVES   \n",
       "3         DRUGS                                  ANTIFUNGALS   \n",
       "4         DRUGS  NONSTEROIDAL ANTI-INFLAMMATORY DRUG (NSAID)   \n",
       "..          ...                                          ...   \n",
       "80        DRUGS                                MISCELLANEOUS   \n",
       "81        DRUGS                                  ANTIFUNGALS   \n",
       "82        DRUGS                                MISCELLANEOUS   \n",
       "83        DRUGS                              ANTI-INFECTIVES   \n",
       "84        DRUGS                         CARDIOVASCULAR DRUGS   \n",
       "\n",
       "      RouteOfAdministration  \\\n",
       "0     INTRAVENOUS INJECTION   \n",
       "1                      ORAL   \n",
       "2                      ORAL   \n",
       "3   CUTANEOUS/TOPICAL ROUTE   \n",
       "4                      ORAL   \n",
       "..                      ...   \n",
       "80         INJECTION ROUTES   \n",
       "81         INJECTION ROUTES   \n",
       "82         INJECTION ROUTES   \n",
       "83                     ORAL   \n",
       "84                     ORAL   \n",
       "\n",
       "                                                                                                                                                                                                    ActiveIngredients  \\\n",
       "0                                                                                                                                                                LIDOCAINE HYDROCHLORIDE 20MG/ML, EPINEPHRINE 10PG/ML   \n",
       "1                                                                                                                                                                                                   MEBENDAZOLE 500MG   \n",
       "2                                                                                                                                                                           SULFAMETHOXAZOLE 800MG/TRIMETHOPRIM 160MG   \n",
       "3   CLOTRIMAZOLE  POWDER  5.00,  LIQUID PARAFFIN (HEAVY) 22.50, STEARIC ACID  22.50, CETO – STEARYL ALCOHOL  27.50, CETOMACROGOL 1000\\t5.00, PROPYLENE GLYCOL  50.00, BENZYL ALCOHOL   5.00, PURIFIED WATER   362.50.   \n",
       "4                                                                 DICLOFENAC SODIUM 50.496, LACTOSE HYDROUS 131.502, CORN STARCH  30.991, AEROSIL 200  0.899, SODIUM LAURYL SULPHATE  0.899, MAGNESIUM STERATE  4.383   \n",
       "..                                                                                                                                                                                                                ...   \n",
       "80                                                                                                                                                                      EACH 100ML CONTAINS:\\nDEXTROSE ANHYDROUS - 5G   \n",
       "81                                                                                                                                                                          EACH 100ML CONTAINS:\\nMETRONIDAZOLE  - 5G   \n",
       "82                                                                                                                                                                       EACH 100ML CONTAINS:\\nSODIUM CHLORIDE - 0.9G   \n",
       "83                                                                                                                                                                                            METRONIDAZOLE 200MG/5ML   \n",
       "84                                                                                                                                                                                                     LOSARTAN 100MG   \n",
       "\n",
       "                                                                       Presentation  \\\n",
       "0                                                                               YES   \n",
       "1                                                                            1X1000   \n",
       "2                                                                        1*10,10*10   \n",
       "3   SMOOTH, WHITE HOMOGENEOUS CREAM CONTAINED IN COLLAPSIBLE ALUMINIUM MYCOTEN TUBE   \n",
       "4       YELLOW AND WHITE CAPSULE WITH 'DICLOFENAC' AND '50MG'PRINTED ON THE CAPSULE   \n",
       "..                                                                              ...   \n",
       "80           500ML AND 1000ML OF CLEAR AND COLOURLESS SOLUTION I FLEXIBLE PVC POUCH   \n",
       "81                        100ML CLEAR AND COLOURLESS SOLUTION IN FLEXIBLE PVC POUCH   \n",
       "82               500ML AND 1000ML OF CLEAR COLOURLESS SOLUTION I FLEXIBLE PVC POUCH   \n",
       "83                                                                             60ML   \n",
       "84                                                                             3X10   \n",
       "\n",
       "             DosageForm                    PackSize  \\\n",
       "0             INJECTION                         1,8   \n",
       "1      TABLET, CHEWABLE                      1*1000   \n",
       "2                TABLET  1*10.10*10,500 TABLETS JAR   \n",
       "3                 CREAM                         20G   \n",
       "4               CAPSULE                       10*10   \n",
       "..                  ...                         ...   \n",
       "80  INJECTION, SOLUTION                       500ML   \n",
       "81  INJECTION, SOLUTION                       500ML   \n",
       "82  INJECTION, SOLUTION                       500ML   \n",
       "83           SUSPENSION                        60ML   \n",
       "84               TABLET                        3X10   \n",
       "\n",
       "                                                         ApprovedIndications  \\\n",
       "0                                                                        NaN   \n",
       "1                                                              WORM EXPELLER   \n",
       "2              TREATMENT OF INFECTIONS CAUSED BY SUSCEPTIBLE MICRO-ORGANISMS   \n",
       "3                                 FOR THE TREATMENT OF CUTANEOUS CANDIDIASIS   \n",
       "4   MANAGEMENT OF INFLAMMATORY AND DEGENERATIVE FORMS OF RHEUMATOID ARTHRITS   \n",
       "..                                                                       ...   \n",
       "80                                                      ENERGY REPLENISHMENT   \n",
       "81                                        SYSTEMIC ANTIFUNGAL. ANTIBACTERIAL   \n",
       "82                                               ELECTROLYTES REPLENISHMENT    \n",
       "83                                                   TREATMENT OF INFECTIONS   \n",
       "84                                                MANAGEMENT OF HYPERTENSION   \n",
       "\n",
       "                              ApplicantName  \\\n",
       "0                    DAVONA NIGERIA LIMITED   \n",
       "1   EMZOR PHARMACEUTICAL INDUSTRIES LIMITED   \n",
       "2                      SWISS PHARMA NIG LTD   \n",
       "3         DRUGFIELD PHARMACEUTICALS LIMITED   \n",
       "4         DRUGFIELD PHARMACEUTICALS LIMITED   \n",
       "..                                      ...   \n",
       "80                       BIOMEDICAL LIMITED   \n",
       "81                       BIOMEDICAL LIMITED   \n",
       "82                       BIOMEDICAL LIMITED   \n",
       "83  EMZOR PHARMACEUTICAL INDUSTRIES LIMITED   \n",
       "84  EMZOR PHARMACEUTICAL INDUSTRIES LIMITED   \n",
       "\n",
       "                                                                            ApplicantAddress  \\\n",
       "0                                        51, OPEBI ROAD P.O. BOX 7658 IKEJA, LAGOS, NIGERIA.   \n",
       "1                                       PLOT 3C, BLOCK A, ASWANI MARKET ROAD, ISOLO, LAGOS\\n   \n",
       "2                                                                 5, DOPEMU ROAD AGEGE LAGOS   \n",
       "3   LYNSON CHEMICAL AVENUE, KM 38,LAGOS-ABEOKUTA EXPRESSWAY, SANGO-OTTA,OGUN STATE, NIGERIA.   \n",
       "4   LYNSON CHEMICAL AVENUE, KM 38,LAGOS-ABEOKUTA EXPRESSWAY, SANGO-OTTA,OGUN STATE, NIGERIA.   \n",
       "..                                                                                       ...   \n",
       "80                             1 OHIMEGE ROAD INDUSTRIAL LAYOUT GAA IMMAN ILORIN KWARA STATE   \n",
       "81                             1 OHIMEGE ROAD INDUSTRIAL LAYOUT GAA IMMAN ILORIN KWARA STATE   \n",
       "82                             1 OHIMEGE ROAD INDUSTRIAL LAYOUT GAA IMMAN ILORIN KWARA STATE   \n",
       "83                                      PLOT 3C, BLOCK A, ASWANI MARKET ROAD, ISOLO, LAGOS\\n   \n",
       "84                                      PLOT 3C, BLOCK A, ASWANI MARKET ROAD, ISOLO, LAGOS\\n   \n",
       "\n",
       "                        ManufacturerName  \\\n",
       "0           DFL NDUSTRIA E COMERCIO S.A.   \n",
       "1    EMZOR PHARMACEUTICAL INDUSTRIES LTD   \n",
       "2               SWISS PHARMA NIGERIA LTD   \n",
       "3      DRUGFIELD PHARMACEUTICALS LIMITED   \n",
       "4      DRUGFIELD PHARMACEUTICALS LIMITED   \n",
       "..                                   ...   \n",
       "80                    BIOMEDICAL LIMITED   \n",
       "81                    BIOMEDICAL LIMITED   \n",
       "82                    BIOMEDICAL LIMITED   \n",
       "83  EMZOR PHARMACEUTICALS INDUSTRIES LTD   \n",
       "84   EMZOR PHARMACEUTICAL INDUSTRIES LTD   \n",
       "\n",
       "                                                                    ManufacturerAddress  \\\n",
       "0                                       ESTRADA DO GUERENQUE, RIO DE JANEIRO-RJ-BRAZIL.   \n",
       "1                                              NO 13,RICHFIELD AVENUE,AJAO ESTATE,LAGOS   \n",
       "2                                                               P.O.BOX 463 IKEJA LAGOS   \n",
       "3   48, AKEJU STREET, PALMGROVE, SOMOLU, LAGOS STATE. P.O BOX 5831, IKEJA, LAGOS STATE.   \n",
       "4   48, AKEJU STREET, PALMGROVE, SOMOLU, LAGOS STATE. P.O BOX 5831, IKEJA, LAGOS STATE.   \n",
       "..                                                                                  ...   \n",
       "80                             1, OHIMEGE ROAD, INDUSTRIAL ESTATE, ILORIN, KWARA STATE    \n",
       "81                             1, OHIMEGE ROAD, INDUSTRIAL ESTATE, ILORIN, KWARA STATE    \n",
       "82                             1, OHIMEGE ROAD, INDUSTRIAL ESTATE, ILORIN, KWARA STATE    \n",
       "83                                   NO 10 KOLAWOLE SHONIBARE STREET, AJAO ESTATE,LAGOS   \n",
       "84                                             NO 13,RICHFIELD AVENUE,AJAO ESTATE,LAGOS   \n",
       "\n",
       "   ManufacturerCountry ApprovalDate  ExpiryDate  \n",
       "0               BRAZIL   2016-01-28  2021-01-27  \n",
       "1              NIGERIA   2021-03-29  2026-03-28  \n",
       "2              NIGERIA   2019-12-20  2024-12-19  \n",
       "3              NIGERIA   2016-07-13  2021-07-12  \n",
       "4              NIGERIA   2016-02-25  2021-02-24  \n",
       "..                 ...          ...         ...  \n",
       "80             NIGERIA   2016-04-05  2021-04-04  \n",
       "81             NIGERIA   2016-04-28  2021-04-27  \n",
       "82             NIGERIA   2016-04-05  2021-04-04  \n",
       "83             NIGERIA   2016-11-29  2021-11-28  \n",
       "84             NIGERIA   2021-05-27  2026-05-26  \n",
       "\n",
       "[85 rows x 19 columns]"
      ]
     },
     "execution_count": 17,
     "metadata": {},
     "output_type": "execute_result"
    }
   ],
   "source": [
    "drug"
   ]
  },
  {
   "cell_type": "code",
   "execution_count": 18,
   "metadata": {},
   "outputs": [],
   "source": [
    "text = \"foo  bar\\t baz   \\tqux\""
   ]
  },
  {
   "cell_type": "code",
   "execution_count": 19,
   "metadata": {},
   "outputs": [
    {
     "data": {
      "text/plain": [
       "['foo', 'bar', 'baz', 'qux']"
      ]
     },
     "execution_count": 19,
     "metadata": {},
     "output_type": "execute_result"
    }
   ],
   "source": [
    "re.split('\\s+', text)"
   ]
  },
  {
   "cell_type": "code",
   "execution_count": 20,
   "metadata": {},
   "outputs": [
    {
     "data": {
      "text/plain": [
       "pandas.core.series.Series"
      ]
     },
     "execution_count": 20,
     "metadata": {},
     "output_type": "execute_result"
    }
   ],
   "source": [
    "type(active)"
   ]
  },
  {
   "cell_type": "code",
   "execution_count": 21,
   "metadata": {},
   "outputs": [],
   "source": [
    "activeList = list(active)"
   ]
  },
  {
   "cell_type": "code",
   "execution_count": 22,
   "metadata": {},
   "outputs": [
    {
     "data": {
      "text/plain": [
       "['LIDOCAINE HYDROCHLORIDE 20MG/ML, EPINEPHRINE 10PG/ML',\n",
       " 'MEBENDAZOLE 500MG',\n",
       " 'SULFAMETHOXAZOLE 800MG/TRIMETHOPRIM 160MG',\n",
       " 'CLOTRIMAZOLE  POWDER  5.00,  LIQUID PARAFFIN (HEAVY) 22.50, STEARIC ACID  22.50, CETO – STEARYL ALCOHOL  27.50, CETOMACROGOL 1000\\t5.00, PROPYLENE GLYCOL  50.00, BENZYL ALCOHOL   5.00, PURIFIED WATER   362.50.',\n",
       " 'DICLOFENAC SODIUM 50.496, LACTOSE HYDROUS 131.502, CORN STARCH  30.991, AEROSIL 200  0.899, SODIUM LAURYL SULPHATE  0.899, MAGNESIUM STERATE  4.383',\n",
       " 'MEBENDAZOLE 100MG',\n",
       " 'FLUCYTOSINE 250MG',\n",
       " 'CLOTRIMAZOLE 1%W/W, BECLOMETHASONE DIPROPIONATE 0.025%W/W, CLOBETASOL PROPIONATE 0.05%W/W & GENTAMYCIN SULPHATE 0.01%W/W ,LIQUID PARAFFIN \\nCHLOROCRESOL\\nSODIUM DIHYDROGEN PHOSPHATE \\nBUTYLATED HYDROXYL TOLUENE \\nCETOMACROGOL 1000 \\nBENZYL ALCOHOL \\nSODIUM EDTA \\nWHITE PETROLEUM JELLY \\n\\n                                                \\n',\n",
       " 'GRISEOFULVIN 125MG',\n",
       " 'PROGUANIL BP 100MG',\n",
       " 'PRAZIQUANTEL USP 600MG',\n",
       " 'NYSTATIN  USP 100000IU',\n",
       " 'NYSTATIN USP 500 OOOIU',\n",
       " 'TIMOLOL MALEATE  1.36, SODIUM CHLORIDE 0.45, DISODIUM EDETATE 0.20, BORIC ACID  2.46, SODIUM BORATE   0.10,  BENZALKONIUM CHLORIDE 95%     0.02, POLYETHYLENE GLYCOL 400  10.00',\n",
       " 'AMPICILLIN 250MG + CLOXACILLIN 250MG',\n",
       " 'AMPICILLIN TRIHYDRATE, PURIFIED TALC, MAGNESIUM STEARATE',\n",
       " 'ALBENDAZOLE 400MG, STARCH 150MG, MANITOL 251MG, ASPARTATE 10MG,AEROSIL 6MG, MAGNESIUM STEARATE 3M',\n",
       " 'HALOPERIDOL:10MG,PREGEL STARCH (G):13MG,CORN STARCH (F/B):2MG,STEARIC ACID:0.5MG,MAGNESIUM STEARATE:1.1MG,AEROSIL 200:3MG,TALCUM POWDER:5MG,LACTOSE POWDER:140.5MG,POVIDON PVP K-30:7.2MG,SODIUM STARCH GLYCOLLATE:7.2MG,TARTRAZINE YELLOW:0.003MG',\n",
       " 'TELMISARTAN 80MG',\n",
       " 'TELMISARTAN 40MG',\n",
       " 'PARACETAMOL\\t      500.0 \\nMCCP 101 \\t        17.0 \\nSTARCH \\t      58.6 \\nSSG\\t          5.0 \\nAEROSIL\\t          3.0 \\nPVPK 30\\t        12.0 \\nMETHYL PARABEN \\t          1.2 \\nPROYL PARABEN \\t          0.2 \\nSSG\\t          5.0 \\nAEROSIL\\t          2.0 \\nMAGNESIUM STEARATE \\t          4.0 \\nTALCUM\\t          2.0 \\n',\n",
       " 'ARTEMETHER 80MG+ LUMEFANTRINE 480MG',\n",
       " 'TELMISARTAN 80MG, HYDROCHLOROITHIAZIDE 12,5MG',\n",
       " 'TENELIGLIPTIN FLYDROBROMIDE HYDRATE 20MG',\n",
       " 'KETOCONAZOLE 2% W/W AND ZINE PRYRITHIONE SHAMPOO ',\n",
       " 'DIHYDROARTEMISIMIN, PINPERAQUININE PHOSPHATE ',\n",
       " 'LANSOPRAZOLE USP 30ML, CLARITHROMYCIN250ML/ TINIDAZOLE',\n",
       " 'DAPAGLIFIOZIN PROPANEDIOL MONOHYDRATE ',\n",
       " 'VILDAGLIPTIN 50MG',\n",
       " 'VILDAGLIPTIN 50MG METIP FORMIN HCI  100MG',\n",
       " 'VILDAGLIPTIN 50MG  METFORMIN HCI IP 500MG',\n",
       " 'GRISOFULVIN B.P 500MG, Q.S (TABIOCA STARCH, HYPOMELLOSE,MAGNESIUM STEARATE)',\n",
       " 'DICLOFENAC POTASSIUM 50MG',\n",
       " 'ARTHEMETHER AND LUMEFANTRINE',\n",
       " 'GRISEOFULVIN\\nSTARCH\\nLACTOSE\\nSODIUM STARCH GLYCOLATE\\nTALCUM\\nMAG STEARATE',\n",
       " 'SULPHADOXINE 500MG\\nPYRIMETHAMINE 25MG\\nSTARCH\\nSODIUM STARCH GLYCOLATE\\n',\n",
       " 'EACH TABLET CONTAINS CIPROFLOXACIN HYDROCHLORIDE BP 500MG\\nEXCIPIENTS  QS',\n",
       " 'EACH HARD GELATIN CAPSULES CONTAINS\\nOMEPRAZOLE  BP 20MG\\n(AS ENTERIC COATED GRANULES)\\nEXCIPIENTS       Q.S',\n",
       " 'EACH UNCOATED TABLETS CONTAINS ARTEMETHER 20MG AND LUMFANTRINE 120MG\\nEXCIPIENT  QS',\n",
       " 'EACH UNCOATED TABLETS CONTAINS ARTEMETHER 80MG AND LUMEFANTRINE 480MG',\n",
       " 'EACH 100ML CONTAINS:\\nPOTASSIUM CHLORIDE BP 0.04G, SODIUM CHLORIDE BP 0.6G, \\nSODIUM LACTATE BP 0.322G, CALCIUM CHLORIDE BP 0.027G,\\nWATER FOR INJECTION BP … QS .. 100ML.\\t\\n',\n",
       " 'AMLODIPINE 10MG',\n",
       " 'ASCORBIC ACIB\\nLACTOSE\\nSTARCH\\nMAG STEARATE\\nTALC',\n",
       " 'ASCORBIC ACID\\nSTARCH\\nLACTOSE\\nMAG STERATE\\nTALC',\n",
       " 'YEAST POWDER\\nLACTOSE\\nSTARCH\\nMAG STEARATE\\n',\n",
       " 'PARACETAMOL\\tB.P\\t500 MG, \\nMAIZE STARCH B.P\\t66 MG, \\nMICROCRYSTALLINE CELLULOSE B.P\\t3.2 MG, \\nMETHYL PARABEN B.P\\t1.12 MG, \\nPROPYL PARABEN B.P\\t0.28 MG, \\nPURIFIED TALC B.P\\t4.8 MG, \\nMAGNESIUM STEARATE B.P\\t0.6MG\\n',\n",
       " '119.470KG, 26.750KG, 1.240KG, 1.240KG, 2.500KG/151.200KG',\n",
       " 'LACTOSE (PHARMATOSE DCL 15) (BP)  DILUENT.\\n\\nMICROCRYSTALLINE CELLULOSE (AVICEL PH 102) (EP) DILUENT.\\nSODIUM STARCH GLYCOLATE (TYPE-A) (EP)\\nDISINTEGRANT.\\nDICHLOROMETHANE (METHYLENE CHLORIDE) (BP)  VEHICLE\\nMAGNESIUM STEARATE (BP)  LUBRICANT.',\n",
       " 'PARACETAMOL\\tB.P\\t500 MG, \\nMAIZE STARCH B.P\\t66 MG, \\nMICROCRYSTALLINE CELLULOSE B.P\\t3.2 MG, \\nMETHYL PARABEN B.P\\t1.12 MG, \\nPROPYL PARABEN B.P\\t0.28 MG, \\nPURIFIED TALC B.P\\t4.8 MG, \\nMAGNESIUM STEARATE B.P\\t0.6MG\\n',\n",
       " 'PARACETAMOL\\tB.P\\t500 MG, \\nMAIZE STARCH B.P\\t66 MG, \\nMICROCRYSTALLINE CELLULOSE B.P\\t3.2 MG, \\nMETHYL PARABEN B.P\\t1.12 MG, \\nPROPYL PARABEN B.P\\t0.28 MG, \\nPURIFIED TALC B.P\\t4.8 MG, \\nMAGNESIUM STEARATE B.P\\t0.6MG\\n',\n",
       " 'DIHYDROARTEMISININ 120MG/PIPERAQUINE 960MG',\n",
       " 'DIHYDROARTEMISININ 80MG/PIPERARAQUINE 640MG',\n",
       " 'DIHYDROARTEMISININ 120MG/PIPERAQUINE 960MG',\n",
       " 'DIHYDROARTEMISININ 40MG,PIPERAQUINE 320MG',\n",
       " 'DICLOFENAC POTASSIUM 50MG',\n",
       " 'ASCORBIC ACID BP',\n",
       " '\\tNEW VALUE\\t \\n1\\t\\nACTIVE INGREDIENTS (INCLUDING EXCIPIENTS) & STRENGTH\\nEACH UNCOATED TABLET CONTAINS METHOCARBAMOL USP 500MG, EXCIPIENTS Q.S-  STARCH BP , STARCH FOR PASTE BP, PURIFIED TALC , GELATIN , METHYL PARABENS , PROPYL PARABENS , COLLODIAL SILICA , MAGNESIUM STEARATE , CROSSCARMELLOSE SODIUM BP.',\n",
       " 'ASCORBIC ACID:500MG,ZINC GLUCONATE (EQUIVALENT TO ELEMENTAL ZINC):10MG,L-LEUCINE:5.875MG,POVIDONE K-30:35MG,IRON OXIDE YELLOW:4.195MG,ALCOHOL 99%:10ML,MICROCYSTALLINE CELLULOSE 102:55.597MG,SORBITOL POWDER:15MG,TALCUM POWDER:3.358MG,MAGNESIUM STEARATE:4.2MG',\n",
       " 'IBUPROFEN 200MG',\n",
       " 'L-LEUCINE USP:18.00MG,L-ISOLEUCINE USP:6.00MG,L-LYSINE HCL USP:25.00MG,L-TRYPTOPHAN USP:5.00MG,L-PHENYALAMINE USP\\t:5.00MG,L-THREONINE USP:4.20MG,L-VALINE USP:6.70MG,L-METHIONINE USP:9.20MG,CALCIUM PANTOTHENATE:3.00MG,VITAMIN A PALMITATE (LIQUID):4000IU,THIAMINE HCL:3.00MG,RIBOFLAVIN 5-PHOSPHATE:3.00 MG,PYRIDOXINE HCL:3.00 MG,SODIUM ASCORBATE :150.00MG, NICOTINAMINDE :30.00MG,VITAMIN D2:400IU,TWEEN 80:47.50 MG,\\nDISODIUM EDETATE:0.99 MG,SODIUM CMC:1.98 MG,SODIUM CITRATE:3.59 MG,METHYL PARABEN:1.4',\n",
       " 'METRONIDAZOLE 250MG',\n",
       " 'FLUCONAZOLE 150MG',\n",
       " 'GRISEOFULVIN 500MG',\n",
       " 'ACTIVATED CHARCOAL 250MG ',\n",
       " 'IVERMECTIN 3MG',\n",
       " 'IVERMECTIN 6MG',\n",
       " 'PRAZIQUANTEL 600MG',\n",
       " 'HYDROCHLOROTHIAZIDE 12.625KG, MICROCRYTALLINE CELLULOSE 64.422KG, CALCIUM PHOSPHATE DIBASIC 37.875KG, SUNSET YELLOW 0.016KG, POLYVINYLV PYROLIDONE K-30 2.525KG, ISOPROPYL ALCOHOL 25KG, SODIUM STARCH GLYCOLATE 2.525KG, MAGNESIUM STEARATE 1.212KG',\n",
       " 'ALUMINIUM HYDROXIDE GEL 300MG, \\nMAGNESIUM HYDROXIDE 250MG\\t\\n\\t\\nMAGNESIUMTRISILICATE 50MG\\t\\nSIMETHICONE 50MG\\nSORBITOL 70%\\nSODIUM CARBOXY METHYL CELLULOSE\\nGLYCERIN\\nGUAR GUM\\nMETHYL PARABEN\\nPROPYL PARABEN\\nBRONOPOL\\nAEROSIL\\nPROPYL GLYCOL\\nALLURA RED\\nFLAVOUR\\nCITRIC ACID MONOHYDRATE\\n',\n",
       " 'FLUCONAZOLE \\t25.000KG, LACTOSE 200 (DRIED) 61.160KG, CORN STARCH (DRIED) 22.500, AEROSIL 200 0.440, MAGNESIUM STEARATE 3.960, SODIUM LAURYL SULPHATE 0.440, HARD GELATINE CAPSULES 515.000',\n",
       " 'FLUCONAZOLE  40.000, LACTOSE 200  39.766, CORN STARCH (DRIED) 13.200, AEROSIL 200  0.094, MAGNESIUM STEARATE\\t .846, SODIUM LAURYL SULPHATE  0.094',\n",
       " 'VITAMIN A 100IU, VITB1 1.5MG, VIT B2 1.5MG, NIACINAMIDE 10MG, VIT D3 200IU, VIT B12 MCG, VIT C 40MG',\n",
       " 'CARBOCISTEINE\\t100.00MG\\nGRANULATED SUGAR \\t3,000MG\\nMETHYL HYDROXYBENZOATE \\t2.5MG\\nLIQUID SORBITOL (NON-CRYSTALLISING) \\t1,000MG\\nSODIUM HYDROXIDE\\t24MG\\nCITRIC ACID MONOHYDRATE \\t1.2MG\\nALLURA RED\\t0.012MG\\nETHANOL 96 %\\t200MG\\nPINEAPPLE FLAVOR\\t4.6MG\\nDEMINERALISED WATER TO\\t5ML\\n',\n",
       " 'CARBOCISTEINE\\t250\\nGRANULATED SUGAR \\t2,000\\nMETHYL HYDROXYBENZOATE \\t7.5\\nLIQUID SORBITOL (NON-CRYSTALLISING) \\t1,000\\nSODIUM HYDROXIDE\\t24\\nCITRIC ACID MONOHYDRATE \\t45\\nCARAMEL\\t2.5\\nETHANOL 96 %\\t200\\nBLACKCURRANT FLAVOUR\\t6\\nPEPPERMINT OIL\\t1.25\\nPURIFIED WATER TO \\t5ML\\n',\n",
       " 'CHLOROXYLENOL (PCMX) 13.5KG, ETHANOL 85.77KG, PINE OIL (FRAGRANCE) 45KG, CASTOR OIL SOAP 147.33KG, CARAMEL 0.5KG, WATER 607.9KG',\n",
       " 'VITAMIN C 100MG',\n",
       " 'ALBENDAZOLE',\n",
       " 'EACH 100ML CONTAINS:\\nD-MANNITOL - 10G',\n",
       " 'EACH 100ML CONTAINS:\\nDEXTROSE ANHYDROUS - 5G\\nSODIUM CHLORIDE - 0.9G',\n",
       " 'EACH 100ML CONTAINS:\\nDEXTROSE ANHYDROUS - 4.30G\\nAND \\nSODIUM CHLORIDE - 0.18G',\n",
       " 'EACH 100ML CONTAINS:\\nDEXTROSE ANHYDROUS - 5G',\n",
       " 'EACH 100ML CONTAINS:\\nMETRONIDAZOLE  - 5G',\n",
       " 'EACH 100ML CONTAINS:\\nSODIUM CHLORIDE - 0.9G',\n",
       " 'METRONIDAZOLE 200MG/5ML',\n",
       " 'LOSARTAN 100MG']"
      ]
     },
     "execution_count": 22,
     "metadata": {},
     "output_type": "execute_result"
    }
   ],
   "source": [
    "activeList"
   ]
  },
  {
   "cell_type": "code",
   "execution_count": 23,
   "metadata": {},
   "outputs": [],
   "source": [
    "regex = re.compile('\\s+')"
   ]
  },
  {
   "cell_type": "code",
   "execution_count": 24,
   "metadata": {},
   "outputs": [
    {
     "data": {
      "text/plain": [
       "['foo', 'bar', 'baz', 'qux']"
      ]
     },
     "execution_count": 24,
     "metadata": {},
     "output_type": "execute_result"
    }
   ],
   "source": [
    "regex.split(text)"
   ]
  },
  {
   "cell_type": "code",
   "execution_count": 25,
   "metadata": {},
   "outputs": [],
   "source": [
    "#regex.findall(activeList)"
   ]
  },
  {
   "cell_type": "code",
   "execution_count": 75,
   "metadata": {},
   "outputs": [],
   "source": [
    "text = \"\"\"Dave dave@google.com\n",
    "Steve steve@gmail.com\n",
    "Rob rob@gmail.com\n",
    "Ryan ryan@yahoo.com\n",
    "\"\"\"\n",
    "\n",
    "pattern = r'[A-Z0-9._%+-]+@[A-Z0-9.-]+\\.[A-Z]{2,4}'\n",
    "# re.IGNORECASE makes the regex case-insensitive\n",
    "regex = re.compile(pattern, flags=re.IGNORECASE)"
   ]
  },
  {
   "cell_type": "code",
   "execution_count": 76,
   "metadata": {},
   "outputs": [
    {
     "data": {
      "text/plain": [
       "['dave@google.com', 'steve@gmail.com', 'rob@gmail.com', 'ryan@yahoo.com']"
      ]
     },
     "execution_count": 76,
     "metadata": {},
     "output_type": "execute_result"
    }
   ],
   "source": [
    "regex.findall(text)"
   ]
  },
  {
   "cell_type": "code",
   "execution_count": 91,
   "metadata": {},
   "outputs": [],
   "source": [
    "m = regex.search(text)"
   ]
  },
  {
   "cell_type": "code",
   "execution_count": 78,
   "metadata": {},
   "outputs": [
    {
     "data": {
      "text/plain": [
       "<re.Match object; span=(5, 20), match='dave@google.com'>"
      ]
     },
     "execution_count": 78,
     "metadata": {},
     "output_type": "execute_result"
    }
   ],
   "source": [
    "m"
   ]
  },
  {
   "cell_type": "code",
   "execution_count": 57,
   "metadata": {},
   "outputs": [
    {
     "data": {
      "text/plain": [
       "'dave@google.com'"
      ]
     },
     "execution_count": 57,
     "metadata": {},
     "output_type": "execute_result"
    }
   ],
   "source": [
    "text[m.start():m.end()]"
   ]
  },
  {
   "cell_type": "code",
   "execution_count": 58,
   "metadata": {},
   "outputs": [
    {
     "name": "stdout",
     "output_type": "stream",
     "text": [
      "None\n"
     ]
    }
   ],
   "source": [
    "print(regex.match(text))"
   ]
  },
  {
   "cell_type": "code",
   "execution_count": 59,
   "metadata": {},
   "outputs": [
    {
     "name": "stdout",
     "output_type": "stream",
     "text": [
      "Dave REDACTED\n",
      "Steve REDACTED\n",
      "Rob REDACTED\n",
      "Ryan REDACTED\n",
      "\n"
     ]
    }
   ],
   "source": [
    "print(regex.sub('REDACTED', text))"
   ]
  },
  {
   "cell_type": "code",
   "execution_count": 97,
   "metadata": {},
   "outputs": [],
   "source": [
    "pattern = r'([A-Z0-9._%+-]+)@([A-Z0-9.-]+)\\.([A-Z]{2,4}])'"
   ]
  },
  {
   "cell_type": "code",
   "execution_count": 98,
   "metadata": {},
   "outputs": [],
   "source": [
    "regex = re.compile(pattern, flags=re.IGNORECASE)"
   ]
  },
  {
   "cell_type": "code",
   "execution_count": 99,
   "metadata": {},
   "outputs": [],
   "source": [
    "ws = regex.match('wesm@bright.net')"
   ]
  },
  {
   "cell_type": "code",
   "execution_count": 100,
   "metadata": {},
   "outputs": [
    {
     "ename": "AttributeError",
     "evalue": "'NoneType' object has no attribute 'groups'",
     "output_type": "error",
     "traceback": [
      "\u001b[1;31m---------------------------------------------------------------------------\u001b[0m",
      "\u001b[1;31mAttributeError\u001b[0m                            Traceback (most recent call last)",
      "\u001b[1;32m<ipython-input-100-0d5c39d93bd7>\u001b[0m in \u001b[0;36m<module>\u001b[1;34m\u001b[0m\n\u001b[1;32m----> 1\u001b[1;33m \u001b[0mws\u001b[0m\u001b[1;33m.\u001b[0m\u001b[0mgroups\u001b[0m\u001b[1;33m(\u001b[0m\u001b[1;33m)\u001b[0m\u001b[1;33m\u001b[0m\u001b[1;33m\u001b[0m\u001b[0m\n\u001b[0m",
      "\u001b[1;31mAttributeError\u001b[0m: 'NoneType' object has no attribute 'groups'"
     ]
    }
   ],
   "source": [
    "ws.groups()"
   ]
  },
  {
   "cell_type": "code",
   "execution_count": 94,
   "metadata": {},
   "outputs": [
    {
     "data": {
      "text/plain": [
       "[]"
      ]
     },
     "execution_count": 94,
     "metadata": {},
     "output_type": "execute_result"
    }
   ],
   "source": [
    "regex.findall(text)"
   ]
  },
  {
   "cell_type": "code",
   "execution_count": null,
   "metadata": {},
   "outputs": [],
   "source": [
    "print(regex.sub(r'Username: \\1, Domain: \\2, Suffix: \\3', text))"
   ]
  },
  {
   "cell_type": "code",
   "execution_count": 41,
   "metadata": {},
   "outputs": [],
   "source": [
    "data = {'Dave':'dave@google.com', 'Steve':'steve@gmail.com', 'Rob':'rob@gmail.com', 'Wes':np.nan}"
   ]
  },
  {
   "cell_type": "code",
   "execution_count": 42,
   "metadata": {},
   "outputs": [],
   "source": [
    "data = pd.Series(data)"
   ]
  },
  {
   "cell_type": "code",
   "execution_count": 43,
   "metadata": {},
   "outputs": [
    {
     "data": {
      "text/plain": [
       "Dave     dave@google.com\n",
       "Steve    steve@gmail.com\n",
       "Rob        rob@gmail.com\n",
       "Wes                  NaN\n",
       "dtype: object"
      ]
     },
     "execution_count": 43,
     "metadata": {},
     "output_type": "execute_result"
    }
   ],
   "source": [
    "data"
   ]
  },
  {
   "cell_type": "code",
   "execution_count": 44,
   "metadata": {},
   "outputs": [
    {
     "data": {
      "text/plain": [
       "Dave     False\n",
       "Steve    False\n",
       "Rob      False\n",
       "Wes       True\n",
       "dtype: bool"
      ]
     },
     "execution_count": 44,
     "metadata": {},
     "output_type": "execute_result"
    }
   ],
   "source": [
    "data.isnull()"
   ]
  },
  {
   "cell_type": "code",
   "execution_count": 45,
   "metadata": {},
   "outputs": [
    {
     "data": {
      "text/plain": [
       "Dave     False\n",
       "Steve     True\n",
       "Rob       True\n",
       "Wes        NaN\n",
       "dtype: object"
      ]
     },
     "execution_count": 45,
     "metadata": {},
     "output_type": "execute_result"
    }
   ],
   "source": [
    "data.str.contains('gmail')"
   ]
  },
  {
   "cell_type": "code",
   "execution_count": 46,
   "metadata": {},
   "outputs": [
    {
     "data": {
      "text/plain": [
       "'([A-Z0-9._%+-]+)@([A-Z0-9.-]+)\\\\.([A-Z]{2,4}])'"
      ]
     },
     "execution_count": 46,
     "metadata": {},
     "output_type": "execute_result"
    }
   ],
   "source": [
    "pattern"
   ]
  },
  {
   "cell_type": "code",
   "execution_count": 47,
   "metadata": {},
   "outputs": [
    {
     "data": {
      "text/plain": [
       "Dave      []\n",
       "Steve     []\n",
       "Rob       []\n",
       "Wes      NaN\n",
       "dtype: object"
      ]
     },
     "execution_count": 47,
     "metadata": {},
     "output_type": "execute_result"
    }
   ],
   "source": [
    "data.str.findall(pattern, flags=re.IGNORECASE)"
   ]
  },
  {
   "cell_type": "code",
   "execution_count": null,
   "metadata": {},
   "outputs": [],
   "source": []
  },
  {
   "cell_type": "code",
   "execution_count": null,
   "metadata": {},
   "outputs": [],
   "source": []
  }
 ],
 "metadata": {
  "kernelspec": {
   "display_name": "Python 3",
   "language": "python",
   "name": "python3"
  },
  "language_info": {
   "codemirror_mode": {
    "name": "ipython",
    "version": 3
   },
   "file_extension": ".py",
   "mimetype": "text/x-python",
   "name": "python",
   "nbconvert_exporter": "python",
   "pygments_lexer": "ipython3",
   "version": "3.8.3"
  }
 },
 "nbformat": 4,
 "nbformat_minor": 4
}
