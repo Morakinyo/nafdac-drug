{
 "cells": [
  {
   "cell_type": "code",
   "execution_count": 1,
   "metadata": {},
   "outputs": [
    {
     "data": {
      "text/plain": [
       "'C:\\\\Users\\\\kiels\\\\nafdac\\\\drug-dataset'"
      ]
     },
     "execution_count": 1,
     "metadata": {},
     "output_type": "execute_result"
    }
   ],
   "source": [
    "pwd"
   ]
  },
  {
   "cell_type": "code",
   "execution_count": 2,
   "metadata": {},
   "outputs": [],
   "source": [
    "import pandas as pd\n",
    "import numpy as np"
   ]
  },
  {
   "cell_type": "code",
   "execution_count": 15,
   "metadata": {},
   "outputs": [],
   "source": [
    "drug = pd.read_excel('drug-2016-2020a.xlsx', index_col=0)"
   ]
  },
  {
   "cell_type": "code",
   "execution_count": 17,
   "metadata": {},
   "outputs": [
    {
     "name": "stdout",
     "output_type": "stream",
     "text": [
      "<class 'pandas.core.frame.DataFrame'>\n",
      "Int64Index: 6236 entries, 0 to 6235\n",
      "Data columns (total 34 columns):\n",
      " #   Column                   Non-Null Count  Dtype  \n",
      "---  ------                   --------------  -----  \n",
      " 0   PRODUCT NAME             6236 non-null   object \n",
      " 1   NAFDAC                   6232 non-null   object \n",
      " 2   BRAND                    5558 non-null   object \n",
      " 3   GENERICS                 6228 non-null   object \n",
      " 4   PRODUCT CATEGORY         5006 non-null   object \n",
      " 5   PHARM CLASS              6196 non-null   object \n",
      " 6   ROUTE OF ADMINISTRATION  6167 non-null   object \n",
      " 7   GROUP                    6226 non-null   object \n",
      " 8   ACTIVE ING               6236 non-null   object \n",
      " 9   STRENGTH                 6100 non-null   object \n",
      " 10  PRESENTATION             6210 non-null   object \n",
      " 11  DOSAGE FORM              6228 non-null   object \n",
      " 12  PACK SIZE                6224 non-null   object \n",
      " 13  MARKETING CATEGORY       6235 non-null   object \n",
      " 14  APPROVED INDICATION      6223 non-null   object \n",
      " 15  NAME OF APPLICANT        6213 non-null   object \n",
      " 16  TEL                      0 non-null      float64\n",
      " 17  E-MAIL                   0 non-null      float64\n",
      " 18  APPLICANT ADDRESS        6233 non-null   object \n",
      " 19  COUNTRY                  6159 non-null   object \n",
      " 20  NAME OF MANUFACTURER     6236 non-null   object \n",
      " 21  TEL.1                    0 non-null      float64\n",
      " 22  E-MAIL.1                 0 non-null      float64\n",
      " 23  MANUFACTURER ADDRESS     6232 non-null   object \n",
      " 24  COUNTRY.1                6121 non-null   object \n",
      " 25  APPROVAL DATE            6236 non-null   object \n",
      " 26  EXPIRY DATE              6236 non-null   object \n",
      " 27  SF_USER_NAME             1903 non-null   object \n",
      " 28  SF_DATE                  1904 non-null   object \n",
      " 29  SF_PRINT                 1904 non-null   float64\n",
      " 30  SF_EDIT                  0 non-null      float64\n",
      " 31  ST_DONE                  0 non-null      float64\n",
      " 32  SF_TYPE                  2889 non-null   object \n",
      " 33  COLUMN1                  0 non-null      float64\n",
      "dtypes: float64(8), object(26)\n",
      "memory usage: 1.7+ MB\n"
     ]
    }
   ],
   "source": [
    "drug.info()"
   ]
  },
  {
   "cell_type": "code",
   "execution_count": 23,
   "metadata": {},
   "outputs": [],
   "source": [
    "new_drug = drug.drop(drug.columns[[16,17,21,22,27,28,29,30,31,32,33]], axis=1)"
   ]
  },
  {
   "cell_type": "code",
   "execution_count": 24,
   "metadata": {},
   "outputs": [
    {
     "name": "stdout",
     "output_type": "stream",
     "text": [
      "<class 'pandas.core.frame.DataFrame'>\n",
      "Int64Index: 6236 entries, 0 to 6235\n",
      "Data columns (total 23 columns):\n",
      " #   Column                   Non-Null Count  Dtype \n",
      "---  ------                   --------------  ----- \n",
      " 0   PRODUCT NAME             6236 non-null   object\n",
      " 1   NAFDAC                   6232 non-null   object\n",
      " 2   BRAND                    5558 non-null   object\n",
      " 3   GENERICS                 6228 non-null   object\n",
      " 4   PRODUCT CATEGORY         5006 non-null   object\n",
      " 5   PHARM CLASS              6196 non-null   object\n",
      " 6   ROUTE OF ADMINISTRATION  6167 non-null   object\n",
      " 7   GROUP                    6226 non-null   object\n",
      " 8   ACTIVE ING               6236 non-null   object\n",
      " 9   STRENGTH                 6100 non-null   object\n",
      " 10  PRESENTATION             6210 non-null   object\n",
      " 11  DOSAGE FORM              6228 non-null   object\n",
      " 12  PACK SIZE                6224 non-null   object\n",
      " 13  MARKETING CATEGORY       6235 non-null   object\n",
      " 14  APPROVED INDICATION      6223 non-null   object\n",
      " 15  NAME OF APPLICANT        6213 non-null   object\n",
      " 16  APPLICANT ADDRESS        6233 non-null   object\n",
      " 17  COUNTRY                  6159 non-null   object\n",
      " 18  NAME OF MANUFACTURER     6236 non-null   object\n",
      " 19  MANUFACTURER ADDRESS     6232 non-null   object\n",
      " 20  COUNTRY.1                6121 non-null   object\n",
      " 21  APPROVAL DATE            6236 non-null   object\n",
      " 22  EXPIRY DATE              6236 non-null   object\n",
      "dtypes: object(23)\n",
      "memory usage: 1.3+ MB\n"
     ]
    }
   ],
   "source": [
    "new_drug.info()"
   ]
  },
  {
   "cell_type": "code",
   "execution_count": 25,
   "metadata": {},
   "outputs": [],
   "source": [
    "filter_newdrug = new_drug.dropna()"
   ]
  },
  {
   "cell_type": "code",
   "execution_count": 26,
   "metadata": {},
   "outputs": [
    {
     "name": "stdout",
     "output_type": "stream",
     "text": [
      "<class 'pandas.core.frame.DataFrame'>\n",
      "Int64Index: 4111 entries, 0 to 6235\n",
      "Data columns (total 23 columns):\n",
      " #   Column                   Non-Null Count  Dtype \n",
      "---  ------                   --------------  ----- \n",
      " 0   PRODUCT NAME             4111 non-null   object\n",
      " 1   NAFDAC                   4111 non-null   object\n",
      " 2   BRAND                    4111 non-null   object\n",
      " 3   GENERICS                 4111 non-null   object\n",
      " 4   PRODUCT CATEGORY         4111 non-null   object\n",
      " 5   PHARM CLASS              4111 non-null   object\n",
      " 6   ROUTE OF ADMINISTRATION  4111 non-null   object\n",
      " 7   GROUP                    4111 non-null   object\n",
      " 8   ACTIVE ING               4111 non-null   object\n",
      " 9   STRENGTH                 4111 non-null   object\n",
      " 10  PRESENTATION             4111 non-null   object\n",
      " 11  DOSAGE FORM              4111 non-null   object\n",
      " 12  PACK SIZE                4111 non-null   object\n",
      " 13  MARKETING CATEGORY       4111 non-null   object\n",
      " 14  APPROVED INDICATION      4111 non-null   object\n",
      " 15  NAME OF APPLICANT        4111 non-null   object\n",
      " 16  APPLICANT ADDRESS        4111 non-null   object\n",
      " 17  COUNTRY                  4111 non-null   object\n",
      " 18  NAME OF MANUFACTURER     4111 non-null   object\n",
      " 19  MANUFACTURER ADDRESS     4111 non-null   object\n",
      " 20  COUNTRY.1                4111 non-null   object\n",
      " 21  APPROVAL DATE            4111 non-null   object\n",
      " 22  EXPIRY DATE              4111 non-null   object\n",
      "dtypes: object(23)\n",
      "memory usage: 770.8+ KB\n"
     ]
    }
   ],
   "source": [
    "filter_newdrug.info()"
   ]
  },
  {
   "cell_type": "code",
   "execution_count": 31,
   "metadata": {},
   "outputs": [
    {
     "data": {
      "text/html": [
       "<div>\n",
       "<style scoped>\n",
       "    .dataframe tbody tr th:only-of-type {\n",
       "        vertical-align: middle;\n",
       "    }\n",
       "\n",
       "    .dataframe tbody tr th {\n",
       "        vertical-align: top;\n",
       "    }\n",
       "\n",
       "    .dataframe thead th {\n",
       "        text-align: right;\n",
       "    }\n",
       "</style>\n",
       "<table border=\"1\" class=\"dataframe\">\n",
       "  <thead>\n",
       "    <tr style=\"text-align: right;\">\n",
       "      <th></th>\n",
       "      <th>PRODUCT NAME</th>\n",
       "      <th>NAFDAC</th>\n",
       "      <th>BRAND</th>\n",
       "      <th>GENERICS</th>\n",
       "      <th>PRODUCT CATEGORY</th>\n",
       "      <th>PHARM CLASS</th>\n",
       "      <th>ROUTE OF ADMINISTRATION</th>\n",
       "      <th>GROUP</th>\n",
       "      <th>ACTIVE ING</th>\n",
       "      <th>STRENGTH</th>\n",
       "      <th>...</th>\n",
       "      <th>MARKETING CATEGORY</th>\n",
       "      <th>APPROVED INDICATION</th>\n",
       "      <th>NAME OF APPLICANT</th>\n",
       "      <th>APPLICANT ADDRESS</th>\n",
       "      <th>COUNTRY</th>\n",
       "      <th>NAME OF MANUFACTURER</th>\n",
       "      <th>MANUFACTURER ADDRESS</th>\n",
       "      <th>COUNTRY.1</th>\n",
       "      <th>APPROVAL DATE</th>\n",
       "      <th>EXPIRY DATE</th>\n",
       "    </tr>\n",
       "  </thead>\n",
       "  <tbody>\n",
       "    <tr>\n",
       "      <th>3282</th>\n",
       "      <td>DIOGOLYN COUGH SYRUP</td>\n",
       "      <td>A4-9277</td>\n",
       "      <td>DIOGOLYN</td>\n",
       "      <td>CHLORPHENIRAMINE MALEATE, EPHEDRINE HCL, SODIU...</td>\n",
       "      <td>HUMAN DRUG</td>\n",
       "      <td>COUGH EXPECTORANT</td>\n",
       "      <td>ORAL</td>\n",
       "      <td>DRUG</td>\n",
       "      <td>CHLORPHENIRAMINE MALEATE, EPHEDRINE HCL, SODIU...</td>\n",
       "      <td>2MG, 6MG, 49MG, 55MG, 2MG/ 5ML</td>\n",
       "      <td>...</td>\n",
       "      <td>OVER THE COUNTER</td>\n",
       "      <td>FOR RELIEF FROM COUGH</td>\n",
       "      <td>GAUZE PHARM LAB LTD</td>\n",
       "      <td>ENU-IFITE, AWKA, ANAMBRA STATE</td>\n",
       "      <td>NIGERIA</td>\n",
       "      <td>GAUZE PHARM LAB LTD</td>\n",
       "      <td>ENU-IFITE, AWKA, ANAMBRA STATE</td>\n",
       "      <td>NIGERIA</td>\n",
       "      <td>2019-02-09 00:00:00</td>\n",
       "      <td>2023-02-08 00:00:00</td>\n",
       "    </tr>\n",
       "  </tbody>\n",
       "</table>\n",
       "<p>1 rows × 23 columns</p>\n",
       "</div>"
      ],
      "text/plain": [
       "              PRODUCT NAME   NAFDAC     BRAND  \\\n",
       "3282  DIOGOLYN COUGH SYRUP  A4-9277  DIOGOLYN   \n",
       "\n",
       "                                               GENERICS PRODUCT CATEGORY  \\\n",
       "3282  CHLORPHENIRAMINE MALEATE, EPHEDRINE HCL, SODIU...       HUMAN DRUG   \n",
       "\n",
       "            PHARM CLASS ROUTE OF ADMINISTRATION GROUP  \\\n",
       "3282  COUGH EXPECTORANT                    ORAL  DRUG   \n",
       "\n",
       "                                             ACTIVE ING  \\\n",
       "3282  CHLORPHENIRAMINE MALEATE, EPHEDRINE HCL, SODIU...   \n",
       "\n",
       "                            STRENGTH  ... MARKETING CATEGORY  \\\n",
       "3282  2MG, 6MG, 49MG, 55MG, 2MG/ 5ML  ...   OVER THE COUNTER   \n",
       "\n",
       "        APPROVED INDICATION    NAME OF APPLICANT  \\\n",
       "3282  FOR RELIEF FROM COUGH  GAUZE PHARM LAB LTD   \n",
       "\n",
       "                   APPLICANT ADDRESS  COUNTRY NAME OF MANUFACTURER  \\\n",
       "3282  ENU-IFITE, AWKA, ANAMBRA STATE  NIGERIA  GAUZE PHARM LAB LTD   \n",
       "\n",
       "                MANUFACTURER ADDRESS COUNTRY.1        APPROVAL DATE  \\\n",
       "3282  ENU-IFITE, AWKA, ANAMBRA STATE   NIGERIA  2019-02-09 00:00:00   \n",
       "\n",
       "              EXPIRY DATE  \n",
       "3282  2023-02-08 00:00:00  \n",
       "\n",
       "[1 rows x 23 columns]"
      ]
     },
     "execution_count": 31,
     "metadata": {},
     "output_type": "execute_result"
    }
   ],
   "source": [
    "filter_newdrug.sample(random_state=4)"
   ]
  },
  {
   "cell_type": "code",
   "execution_count": null,
   "metadata": {},
   "outputs": [],
   "source": []
  }
 ],
 "metadata": {
  "kernelspec": {
   "display_name": "Python 3",
   "language": "python",
   "name": "python3"
  },
  "language_info": {
   "codemirror_mode": {
    "name": "ipython",
    "version": 3
   },
   "file_extension": ".py",
   "mimetype": "text/x-python",
   "name": "python",
   "nbconvert_exporter": "python",
   "pygments_lexer": "ipython3",
   "version": "3.8.3"
  }
 },
 "nbformat": 4,
 "nbformat_minor": 4
}
