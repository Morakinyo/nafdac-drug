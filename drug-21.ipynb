{
 "cells": [
  {
   "cell_type": "code",
   "execution_count": 1,
   "metadata": {},
   "outputs": [],
   "source": [
    "import pandas as pd\n",
    "import numpy as np"
   ]
  },
  {
   "cell_type": "code",
   "execution_count": 2,
   "metadata": {},
   "outputs": [],
   "source": [
    "drug_21 = pd.read_excel('imported-drugs-JAN-JUNE-2021.xlsx', sheet_name=None, parse_dates=True)"
   ]
  },
  {
   "cell_type": "code",
   "execution_count": 3,
   "metadata": {},
   "outputs": [
    {
     "data": {
      "text/plain": [
       "dict"
      ]
     },
     "execution_count": 3,
     "metadata": {},
     "output_type": "execute_result"
    }
   ],
   "source": [
    "type(drug_21)"
   ]
  },
  {
   "cell_type": "code",
   "execution_count": 4,
   "metadata": {},
   "outputs": [
    {
     "data": {
      "text/plain": [
       "dict_keys(['IMPORTED DRUGS JAN', 'IMPORTED DRUGS 25TH FEB 2021..', 'IMPORT DRUGS MARCH 2021', 'UPLOADING DRUGS APRIL 2021', '27TH MAY, 2021 ', ' 24TH JUNE 2021', 'JAN NDU'])"
      ]
     },
     "execution_count": 4,
     "metadata": {},
     "output_type": "execute_result"
    }
   ],
   "source": [
    "drug_21.keys()"
   ]
  },
  {
   "cell_type": "code",
   "execution_count": 5,
   "metadata": {},
   "outputs": [],
   "source": [
    "new_columns= [\"S/N\", \"PRODUCT NAME\",\"NAFDAC No\", \"BRAND NAME\", \"GENERIC NAME\", \"CATEGORY\", \"PHARMACOLOGICAL CLASS\", \"GROUP\", \"COMPOSITION\", \\\n",
    "                \"PRESENTATION\", \"DOSAGE FORM\", \"PACK SIZE\", \"MARKETING CATEGORY\", \"APPROVED INDICATION\", \"APPLICANT(FIRM)\", \"APPLICANT(TEL.No)\", \"APPLICANT(E-MAIL)\", \\\n",
    "                \"APPLICANT(ADDRESS)\", \"APPLICANT(COUNTRY)\", \"MANUFACTURER(FIRM)\", \"MANUFACTURER(TEL.No)\", \"MANUFACTURER(E-MAIL)\", \"MANUFACTURER(ADDRESS)\",\\\n",
    "                \"MANUFACTURER(COUNTRY)\", \"INDEX No\", \"APPROVAL DATE\", \"EXPIRY DATE\"]"
   ]
  },
  {
   "cell_type": "code",
   "execution_count": 6,
   "metadata": {},
   "outputs": [],
   "source": [
    "jan = drug_21['IMPORTED DRUGS JAN']"
   ]
  },
  {
   "cell_type": "code",
   "execution_count": 7,
   "metadata": {},
   "outputs": [
    {
     "name": "stdout",
     "output_type": "stream",
     "text": [
      "<class 'pandas.core.frame.DataFrame'>\n",
      "RangeIndex: 124 entries, 0 to 123\n",
      "Data columns (total 27 columns):\n",
      " #   Column                   Non-Null Count  Dtype  \n",
      "---  ------                   --------------  -----  \n",
      " 0   S/NO                     124 non-null    int64  \n",
      " 1   NAME OF PRODUCT          124 non-null    object \n",
      " 2   NAFDAC REG NO.           124 non-null    object \n",
      " 3   BRAND NAME               115 non-null    object \n",
      " 4   GENERIC NAME             124 non-null    object \n",
      " 5   CATEGORY                 124 non-null    object \n",
      " 6   PHARMACOLOGICAL CLASS    124 non-null    object \n",
      " 7   GROUP                    124 non-null    object \n",
      " 8   COMPOSITION              124 non-null    object \n",
      " 9   PRESENTATION             124 non-null    object \n",
      " 10  DOSAGE FORM              124 non-null    object \n",
      " 11  PACK SIZE                124 non-null    object \n",
      " 12  PROMOTIONAL CATEGORY     124 non-null    object \n",
      " 13  APPROVED INDICATION      124 non-null    object \n",
      " 14  NAME   OF APPLICANT      124 non-null    object \n",
      " 15  TEL                      0 non-null      float64\n",
      " 16  E-MAIL                   0 non-null      float64\n",
      " 17  ADDRESS OF APPLICANT     124 non-null    object \n",
      " 18  COUNTRY                  124 non-null    object \n",
      " 19  NAME   OF MANUFACTURER   124 non-null    object \n",
      " 20  TEL.1                    0 non-null      float64\n",
      " 21  E-MAIL.1                 0 non-null      float64\n",
      " 22  ADDRESS OF MANUFACTURER  124 non-null    object \n",
      " 23  COUNTRY.1                124 non-null    object \n",
      " 24  INDEX                    0 non-null      float64\n",
      " 25  APPROVAL DATE            124 non-null    object \n",
      " 26  EXPIRY DATE              124 non-null    object \n",
      "dtypes: float64(5), int64(1), object(21)\n",
      "memory usage: 26.3+ KB\n"
     ]
    }
   ],
   "source": [
    "jan.info()"
   ]
  },
  {
   "cell_type": "code",
   "execution_count": 8,
   "metadata": {},
   "outputs": [],
   "source": [
    "jan.columns = new_columns"
   ]
  },
  {
   "cell_type": "code",
   "execution_count": 9,
   "metadata": {},
   "outputs": [
    {
     "name": "stdout",
     "output_type": "stream",
     "text": [
      "<class 'pandas.core.frame.DataFrame'>\n",
      "RangeIndex: 124 entries, 0 to 123\n",
      "Data columns (total 27 columns):\n",
      " #   Column                 Non-Null Count  Dtype  \n",
      "---  ------                 --------------  -----  \n",
      " 0   S/N                    124 non-null    int64  \n",
      " 1   PRODUCT NAME           124 non-null    object \n",
      " 2   NAFDAC No              124 non-null    object \n",
      " 3   BRAND NAME             115 non-null    object \n",
      " 4   GENERIC NAME           124 non-null    object \n",
      " 5   CATEGORY               124 non-null    object \n",
      " 6   PHARMACOLOGICAL CLASS  124 non-null    object \n",
      " 7   GROUP                  124 non-null    object \n",
      " 8   COMPOSITION            124 non-null    object \n",
      " 9   PRESENTATION           124 non-null    object \n",
      " 10  DOSAGE FORM            124 non-null    object \n",
      " 11  PACK SIZE              124 non-null    object \n",
      " 12  MARKETING CATEGORY     124 non-null    object \n",
      " 13  APPROVED INDICATION    124 non-null    object \n",
      " 14  APPLICANT(FIRM)        124 non-null    object \n",
      " 15  APPLICANT(TEL.No)      0 non-null      float64\n",
      " 16  APPLICANT(E-MAIL)      0 non-null      float64\n",
      " 17  APPLICANT(ADDRESS)     124 non-null    object \n",
      " 18  APPLICANT(COUNTRY)     124 non-null    object \n",
      " 19  MANUFACTURER(FIRM)     124 non-null    object \n",
      " 20  MANUFACTURER(TEL.No)   0 non-null      float64\n",
      " 21  MANUFACTURER(E-MAIL)   0 non-null      float64\n",
      " 22  MANUFACTURER(ADDRESS)  124 non-null    object \n",
      " 23  MANUFACTURER(COUNTRY)  124 non-null    object \n",
      " 24  INDEX No               0 non-null      float64\n",
      " 25  APPROVAL DATE          124 non-null    object \n",
      " 26  EXPIRY DATE            124 non-null    object \n",
      "dtypes: float64(5), int64(1), object(21)\n",
      "memory usage: 26.3+ KB\n"
     ]
    }
   ],
   "source": [
    "jan.info()"
   ]
  },
  {
   "cell_type": "code",
   "execution_count": 10,
   "metadata": {},
   "outputs": [],
   "source": [
    "feb = drug_21['IMPORTED DRUGS 25TH FEB 2021..']"
   ]
  },
  {
   "cell_type": "code",
   "execution_count": 11,
   "metadata": {},
   "outputs": [],
   "source": [
    "feb.columns = new_columns"
   ]
  },
  {
   "cell_type": "code",
   "execution_count": 12,
   "metadata": {},
   "outputs": [
    {
     "name": "stdout",
     "output_type": "stream",
     "text": [
      "<class 'pandas.core.frame.DataFrame'>\n",
      "RangeIndex: 127 entries, 0 to 126\n",
      "Data columns (total 27 columns):\n",
      " #   Column                 Non-Null Count  Dtype  \n",
      "---  ------                 --------------  -----  \n",
      " 0   S/N                    127 non-null    int64  \n",
      " 1   PRODUCT NAME           127 non-null    object \n",
      " 2   NAFDAC No              127 non-null    object \n",
      " 3   BRAND NAME             107 non-null    object \n",
      " 4   GENERIC NAME           127 non-null    object \n",
      " 5   CATEGORY               127 non-null    object \n",
      " 6   PHARMACOLOGICAL CLASS  127 non-null    object \n",
      " 7   GROUP                  127 non-null    object \n",
      " 8   COMPOSITION            127 non-null    object \n",
      " 9   PRESENTATION           127 non-null    object \n",
      " 10  DOSAGE FORM            127 non-null    object \n",
      " 11  PACK SIZE              127 non-null    object \n",
      " 12  MARKETING CATEGORY     127 non-null    object \n",
      " 13  APPROVED INDICATION    127 non-null    object \n",
      " 14  APPLICANT(FIRM)        127 non-null    object \n",
      " 15  APPLICANT(TEL.No)      0 non-null      float64\n",
      " 16  APPLICANT(E-MAIL)      0 non-null      float64\n",
      " 17  APPLICANT(ADDRESS)     127 non-null    object \n",
      " 18  APPLICANT(COUNTRY)     127 non-null    object \n",
      " 19  MANUFACTURER(FIRM)     127 non-null    object \n",
      " 20  MANUFACTURER(TEL.No)   0 non-null      float64\n",
      " 21  MANUFACTURER(E-MAIL)   0 non-null      float64\n",
      " 22  MANUFACTURER(ADDRESS)  127 non-null    object \n",
      " 23  MANUFACTURER(COUNTRY)  126 non-null    object \n",
      " 24  INDEX No               0 non-null      float64\n",
      " 25  APPROVAL DATE          127 non-null    object \n",
      " 26  EXPIRY DATE            127 non-null    object \n",
      "dtypes: float64(5), int64(1), object(21)\n",
      "memory usage: 26.9+ KB\n"
     ]
    }
   ],
   "source": [
    "feb.info()"
   ]
  },
  {
   "cell_type": "code",
   "execution_count": 13,
   "metadata": {},
   "outputs": [],
   "source": [
    "mar = drug_21['IMPORT DRUGS MARCH 2021']"
   ]
  },
  {
   "cell_type": "code",
   "execution_count": 14,
   "metadata": {},
   "outputs": [],
   "source": [
    "mar.columns = new_columns"
   ]
  },
  {
   "cell_type": "code",
   "execution_count": 15,
   "metadata": {},
   "outputs": [
    {
     "name": "stdout",
     "output_type": "stream",
     "text": [
      "<class 'pandas.core.frame.DataFrame'>\n",
      "RangeIndex: 102 entries, 0 to 101\n",
      "Data columns (total 27 columns):\n",
      " #   Column                 Non-Null Count  Dtype  \n",
      "---  ------                 --------------  -----  \n",
      " 0   S/N                    102 non-null    int64  \n",
      " 1   PRODUCT NAME           102 non-null    object \n",
      " 2   NAFDAC No              102 non-null    object \n",
      " 3   BRAND NAME             79 non-null     object \n",
      " 4   GENERIC NAME           102 non-null    object \n",
      " 5   CATEGORY               102 non-null    object \n",
      " 6   PHARMACOLOGICAL CLASS  102 non-null    object \n",
      " 7   GROUP                  102 non-null    object \n",
      " 8   COMPOSITION            102 non-null    object \n",
      " 9   PRESENTATION           102 non-null    object \n",
      " 10  DOSAGE FORM            102 non-null    object \n",
      " 11  PACK SIZE              102 non-null    object \n",
      " 12  MARKETING CATEGORY     102 non-null    object \n",
      " 13  APPROVED INDICATION    101 non-null    object \n",
      " 14  APPLICANT(FIRM)        102 non-null    object \n",
      " 15  APPLICANT(TEL.No)      0 non-null      float64\n",
      " 16  APPLICANT(E-MAIL)      0 non-null      float64\n",
      " 17  APPLICANT(ADDRESS)     102 non-null    object \n",
      " 18  APPLICANT(COUNTRY)     102 non-null    object \n",
      " 19  MANUFACTURER(FIRM)     102 non-null    object \n",
      " 20  MANUFACTURER(TEL.No)   0 non-null      float64\n",
      " 21  MANUFACTURER(E-MAIL)   0 non-null      float64\n",
      " 22  MANUFACTURER(ADDRESS)  102 non-null    object \n",
      " 23  MANUFACTURER(COUNTRY)  102 non-null    object \n",
      " 24  INDEX No               0 non-null      float64\n",
      " 25  APPROVAL DATE          102 non-null    object \n",
      " 26  EXPIRY DATE            102 non-null    object \n",
      "dtypes: float64(5), int64(1), object(21)\n",
      "memory usage: 21.6+ KB\n"
     ]
    }
   ],
   "source": [
    "mar.info()"
   ]
  },
  {
   "cell_type": "code",
   "execution_count": 16,
   "metadata": {},
   "outputs": [],
   "source": [
    "apr = drug_21['UPLOADING DRUGS APRIL 2021']"
   ]
  },
  {
   "cell_type": "code",
   "execution_count": 17,
   "metadata": {},
   "outputs": [],
   "source": [
    "apr.columns = new_columns"
   ]
  },
  {
   "cell_type": "code",
   "execution_count": 18,
   "metadata": {},
   "outputs": [
    {
     "name": "stdout",
     "output_type": "stream",
     "text": [
      "<class 'pandas.core.frame.DataFrame'>\n",
      "RangeIndex: 95 entries, 0 to 94\n",
      "Data columns (total 27 columns):\n",
      " #   Column                 Non-Null Count  Dtype         \n",
      "---  ------                 --------------  -----         \n",
      " 0   S/N                    95 non-null     int64         \n",
      " 1   PRODUCT NAME           95 non-null     object        \n",
      " 2   NAFDAC No              95 non-null     object        \n",
      " 3   BRAND NAME             81 non-null     object        \n",
      " 4   GENERIC NAME           95 non-null     object        \n",
      " 5   CATEGORY               95 non-null     object        \n",
      " 6   PHARMACOLOGICAL CLASS  94 non-null     object        \n",
      " 7   GROUP                  95 non-null     object        \n",
      " 8   COMPOSITION            95 non-null     object        \n",
      " 9   PRESENTATION           95 non-null     object        \n",
      " 10  DOSAGE FORM            95 non-null     object        \n",
      " 11  PACK SIZE              95 non-null     object        \n",
      " 12  MARKETING CATEGORY     95 non-null     object        \n",
      " 13  APPROVED INDICATION    95 non-null     object        \n",
      " 14  APPLICANT(FIRM)        95 non-null     object        \n",
      " 15  APPLICANT(TEL.No)      0 non-null      float64       \n",
      " 16  APPLICANT(E-MAIL)      0 non-null      float64       \n",
      " 17  APPLICANT(ADDRESS)     95 non-null     object        \n",
      " 18  APPLICANT(COUNTRY)     0 non-null      float64       \n",
      " 19  MANUFACTURER(FIRM)     95 non-null     object        \n",
      " 20  MANUFACTURER(TEL.No)   0 non-null      float64       \n",
      " 21  MANUFACTURER(E-MAIL)   0 non-null      float64       \n",
      " 22  MANUFACTURER(ADDRESS)  95 non-null     object        \n",
      " 23  MANUFACTURER(COUNTRY)  0 non-null      float64       \n",
      " 24  INDEX No               0 non-null      float64       \n",
      " 25  APPROVAL DATE          95 non-null     datetime64[ns]\n",
      " 26  EXPIRY DATE            95 non-null     datetime64[ns]\n",
      "dtypes: datetime64[ns](2), float64(7), int64(1), object(17)\n",
      "memory usage: 20.2+ KB\n"
     ]
    }
   ],
   "source": [
    "apr.info()"
   ]
  },
  {
   "cell_type": "code",
   "execution_count": 19,
   "metadata": {},
   "outputs": [],
   "source": [
    "may = drug_21['27TH MAY, 2021 ']"
   ]
  },
  {
   "cell_type": "code",
   "execution_count": 20,
   "metadata": {},
   "outputs": [],
   "source": [
    "may.columns = new_columns"
   ]
  },
  {
   "cell_type": "code",
   "execution_count": 21,
   "metadata": {},
   "outputs": [
    {
     "name": "stdout",
     "output_type": "stream",
     "text": [
      "<class 'pandas.core.frame.DataFrame'>\n",
      "RangeIndex: 48 entries, 0 to 47\n",
      "Data columns (total 27 columns):\n",
      " #   Column                 Non-Null Count  Dtype  \n",
      "---  ------                 --------------  -----  \n",
      " 0   S/N                    48 non-null     int64  \n",
      " 1   PRODUCT NAME           48 non-null     object \n",
      " 2   NAFDAC No              48 non-null     object \n",
      " 3   BRAND NAME             38 non-null     object \n",
      " 4   GENERIC NAME           48 non-null     object \n",
      " 5   CATEGORY               0 non-null      float64\n",
      " 6   PHARMACOLOGICAL CLASS  48 non-null     object \n",
      " 7   GROUP                  48 non-null     object \n",
      " 8   COMPOSITION            48 non-null     object \n",
      " 9   PRESENTATION           48 non-null     object \n",
      " 10  DOSAGE FORM            48 non-null     object \n",
      " 11  PACK SIZE              48 non-null     object \n",
      " 12  MARKETING CATEGORY     48 non-null     object \n",
      " 13  APPROVED INDICATION    48 non-null     object \n",
      " 14  APPLICANT(FIRM)        48 non-null     object \n",
      " 15  APPLICANT(TEL.No)      0 non-null      float64\n",
      " 16  APPLICANT(E-MAIL)      0 non-null      float64\n",
      " 17  APPLICANT(ADDRESS)     48 non-null     object \n",
      " 18  APPLICANT(COUNTRY)     48 non-null     object \n",
      " 19  MANUFACTURER(FIRM)     48 non-null     object \n",
      " 20  MANUFACTURER(TEL.No)   0 non-null      float64\n",
      " 21  MANUFACTURER(E-MAIL)   0 non-null      float64\n",
      " 22  MANUFACTURER(ADDRESS)  48 non-null     object \n",
      " 23  MANUFACTURER(COUNTRY)  48 non-null     object \n",
      " 24  INDEX No               0 non-null      float64\n",
      " 25  APPROVAL DATE          48 non-null     object \n",
      " 26  EXPIRY DATE            48 non-null     object \n",
      "dtypes: float64(6), int64(1), object(20)\n",
      "memory usage: 10.2+ KB\n"
     ]
    }
   ],
   "source": [
    "may.info()"
   ]
  },
  {
   "cell_type": "code",
   "execution_count": 22,
   "metadata": {},
   "outputs": [],
   "source": [
    "june = drug_21[' 24TH JUNE 2021']"
   ]
  },
  {
   "cell_type": "code",
   "execution_count": 23,
   "metadata": {},
   "outputs": [],
   "source": [
    "june.columns = new_columns"
   ]
  },
  {
   "cell_type": "code",
   "execution_count": 24,
   "metadata": {},
   "outputs": [
    {
     "name": "stdout",
     "output_type": "stream",
     "text": [
      "<class 'pandas.core.frame.DataFrame'>\n",
      "RangeIndex: 90 entries, 0 to 89\n",
      "Data columns (total 27 columns):\n",
      " #   Column                 Non-Null Count  Dtype  \n",
      "---  ------                 --------------  -----  \n",
      " 0   S/N                    90 non-null     int64  \n",
      " 1   PRODUCT NAME           90 non-null     object \n",
      " 2   NAFDAC No              90 non-null     object \n",
      " 3   BRAND NAME             82 non-null     object \n",
      " 4   GENERIC NAME           90 non-null     object \n",
      " 5   CATEGORY               90 non-null     object \n",
      " 6   PHARMACOLOGICAL CLASS  90 non-null     object \n",
      " 7   GROUP                  90 non-null     object \n",
      " 8   COMPOSITION            90 non-null     object \n",
      " 9   PRESENTATION           90 non-null     object \n",
      " 10  DOSAGE FORM            90 non-null     object \n",
      " 11  PACK SIZE              90 non-null     object \n",
      " 12  MARKETING CATEGORY     90 non-null     object \n",
      " 13  APPROVED INDICATION    90 non-null     object \n",
      " 14  APPLICANT(FIRM)        90 non-null     object \n",
      " 15  APPLICANT(TEL.No)      0 non-null      float64\n",
      " 16  APPLICANT(E-MAIL)      0 non-null      float64\n",
      " 17  APPLICANT(ADDRESS)     90 non-null     object \n",
      " 18  APPLICANT(COUNTRY)     90 non-null     object \n",
      " 19  MANUFACTURER(FIRM)     90 non-null     object \n",
      " 20  MANUFACTURER(TEL.No)   0 non-null      float64\n",
      " 21  MANUFACTURER(E-MAIL)   0 non-null      float64\n",
      " 22  MANUFACTURER(ADDRESS)  90 non-null     object \n",
      " 23  MANUFACTURER(COUNTRY)  90 non-null     object \n",
      " 24  INDEX No               0 non-null      float64\n",
      " 25  APPROVAL DATE          90 non-null     object \n",
      " 26  EXPIRY DATE            90 non-null     object \n",
      "dtypes: float64(5), int64(1), object(21)\n",
      "memory usage: 19.1+ KB\n"
     ]
    }
   ],
   "source": [
    "june.info()"
   ]
  },
  {
   "cell_type": "code",
   "execution_count": 25,
   "metadata": {},
   "outputs": [],
   "source": [
    "jan_ndu = drug_21['JAN NDU']"
   ]
  },
  {
   "cell_type": "code",
   "execution_count": 26,
   "metadata": {},
   "outputs": [],
   "source": [
    "jan_ndu.columns = new_columns"
   ]
  },
  {
   "cell_type": "code",
   "execution_count": 27,
   "metadata": {},
   "outputs": [
    {
     "name": "stdout",
     "output_type": "stream",
     "text": [
      "<class 'pandas.core.frame.DataFrame'>\n",
      "RangeIndex: 21 entries, 0 to 20\n",
      "Data columns (total 27 columns):\n",
      " #   Column                 Non-Null Count  Dtype  \n",
      "---  ------                 --------------  -----  \n",
      " 0   S/N                    21 non-null     int64  \n",
      " 1   PRODUCT NAME           21 non-null     object \n",
      " 2   NAFDAC No              21 non-null     object \n",
      " 3   BRAND NAME             21 non-null     object \n",
      " 4   GENERIC NAME           21 non-null     object \n",
      " 5   CATEGORY               21 non-null     object \n",
      " 6   PHARMACOLOGICAL CLASS  21 non-null     object \n",
      " 7   GROUP                  21 non-null     object \n",
      " 8   COMPOSITION            21 non-null     object \n",
      " 9   PRESENTATION           21 non-null     object \n",
      " 10  DOSAGE FORM            21 non-null     object \n",
      " 11  PACK SIZE              21 non-null     object \n",
      " 12  MARKETING CATEGORY     21 non-null     object \n",
      " 13  APPROVED INDICATION    21 non-null     object \n",
      " 14  APPLICANT(FIRM)        21 non-null     object \n",
      " 15  APPLICANT(TEL.No)      0 non-null      float64\n",
      " 16  APPLICANT(E-MAIL)      0 non-null      float64\n",
      " 17  APPLICANT(ADDRESS)     21 non-null     object \n",
      " 18  APPLICANT(COUNTRY)     21 non-null     object \n",
      " 19  MANUFACTURER(FIRM)     21 non-null     object \n",
      " 20  MANUFACTURER(TEL.No)   0 non-null      float64\n",
      " 21  MANUFACTURER(E-MAIL)   0 non-null      float64\n",
      " 22  MANUFACTURER(ADDRESS)  21 non-null     object \n",
      " 23  MANUFACTURER(COUNTRY)  21 non-null     object \n",
      " 24  INDEX No               0 non-null      float64\n",
      " 25  APPROVAL DATE          21 non-null     object \n",
      " 26  EXPIRY DATE            21 non-null     object \n",
      "dtypes: float64(5), int64(1), object(21)\n",
      "memory usage: 4.6+ KB\n"
     ]
    }
   ],
   "source": [
    "jan_ndu.info()"
   ]
  },
  {
   "cell_type": "code",
   "execution_count": 28,
   "metadata": {},
   "outputs": [
    {
     "name": "stdout",
     "output_type": "stream",
     "text": [
      "<class 'pandas.core.frame.DataFrame'>\n",
      "RangeIndex: 21 entries, 0 to 20\n",
      "Data columns (total 27 columns):\n",
      " #   Column                 Non-Null Count  Dtype  \n",
      "---  ------                 --------------  -----  \n",
      " 0   S/N                    21 non-null     int64  \n",
      " 1   PRODUCT NAME           21 non-null     object \n",
      " 2   NAFDAC No              21 non-null     object \n",
      " 3   BRAND NAME             21 non-null     object \n",
      " 4   GENERIC NAME           21 non-null     object \n",
      " 5   CATEGORY               21 non-null     object \n",
      " 6   PHARMACOLOGICAL CLASS  21 non-null     object \n",
      " 7   GROUP                  21 non-null     object \n",
      " 8   COMPOSITION            21 non-null     object \n",
      " 9   PRESENTATION           21 non-null     object \n",
      " 10  DOSAGE FORM            21 non-null     object \n",
      " 11  PACK SIZE              21 non-null     object \n",
      " 12  MARKETING CATEGORY     21 non-null     object \n",
      " 13  APPROVED INDICATION    21 non-null     object \n",
      " 14  APPLICANT(FIRM)        21 non-null     object \n",
      " 15  APPLICANT(TEL.No)      0 non-null      float64\n",
      " 16  APPLICANT(E-MAIL)      0 non-null      float64\n",
      " 17  APPLICANT(ADDRESS)     21 non-null     object \n",
      " 18  APPLICANT(COUNTRY)     21 non-null     object \n",
      " 19  MANUFACTURER(FIRM)     21 non-null     object \n",
      " 20  MANUFACTURER(TEL.No)   0 non-null      float64\n",
      " 21  MANUFACTURER(E-MAIL)   0 non-null      float64\n",
      " 22  MANUFACTURER(ADDRESS)  21 non-null     object \n",
      " 23  MANUFACTURER(COUNTRY)  21 non-null     object \n",
      " 24  INDEX No               0 non-null      float64\n",
      " 25  APPROVAL DATE          21 non-null     object \n",
      " 26  EXPIRY DATE            21 non-null     object \n",
      "dtypes: float64(5), int64(1), object(21)\n",
      "memory usage: 4.6+ KB\n"
     ]
    }
   ],
   "source": [
    "jan_ndu.info()"
   ]
  },
  {
   "cell_type": "code",
   "execution_count": 29,
   "metadata": {},
   "outputs": [],
   "source": [
    "schedule_combo = pd.concat([jan, feb, mar, apr, may, june, jan_ndu], axis=0)"
   ]
  },
  {
   "cell_type": "code",
   "execution_count": 30,
   "metadata": {},
   "outputs": [
    {
     "name": "stdout",
     "output_type": "stream",
     "text": [
      "<class 'pandas.core.frame.DataFrame'>\n",
      "Int64Index: 607 entries, 0 to 20\n",
      "Data columns (total 27 columns):\n",
      " #   Column                 Non-Null Count  Dtype  \n",
      "---  ------                 --------------  -----  \n",
      " 0   S/N                    607 non-null    int64  \n",
      " 1   PRODUCT NAME           607 non-null    object \n",
      " 2   NAFDAC No              607 non-null    object \n",
      " 3   BRAND NAME             523 non-null    object \n",
      " 4   GENERIC NAME           607 non-null    object \n",
      " 5   CATEGORY               559 non-null    object \n",
      " 6   PHARMACOLOGICAL CLASS  606 non-null    object \n",
      " 7   GROUP                  607 non-null    object \n",
      " 8   COMPOSITION            607 non-null    object \n",
      " 9   PRESENTATION           607 non-null    object \n",
      " 10  DOSAGE FORM            607 non-null    object \n",
      " 11  PACK SIZE              607 non-null    object \n",
      " 12  MARKETING CATEGORY     607 non-null    object \n",
      " 13  APPROVED INDICATION    606 non-null    object \n",
      " 14  APPLICANT(FIRM)        607 non-null    object \n",
      " 15  APPLICANT(TEL.No)      0 non-null      float64\n",
      " 16  APPLICANT(E-MAIL)      0 non-null      float64\n",
      " 17  APPLICANT(ADDRESS)     607 non-null    object \n",
      " 18  APPLICANT(COUNTRY)     512 non-null    object \n",
      " 19  MANUFACTURER(FIRM)     607 non-null    object \n",
      " 20  MANUFACTURER(TEL.No)   0 non-null      float64\n",
      " 21  MANUFACTURER(E-MAIL)   0 non-null      float64\n",
      " 22  MANUFACTURER(ADDRESS)  607 non-null    object \n",
      " 23  MANUFACTURER(COUNTRY)  511 non-null    object \n",
      " 24  INDEX No               0 non-null      float64\n",
      " 25  APPROVAL DATE          607 non-null    object \n",
      " 26  EXPIRY DATE            607 non-null    object \n",
      "dtypes: float64(5), int64(1), object(21)\n",
      "memory usage: 132.8+ KB\n"
     ]
    }
   ],
   "source": [
    "schedule_combo.info()"
   ]
  },
  {
   "cell_type": "code",
   "execution_count": 39,
   "metadata": {},
   "outputs": [
    {
     "data": {
      "text/html": [
       "<div>\n",
       "<style scoped>\n",
       "    .dataframe tbody tr th:only-of-type {\n",
       "        vertical-align: middle;\n",
       "    }\n",
       "\n",
       "    .dataframe tbody tr th {\n",
       "        vertical-align: top;\n",
       "    }\n",
       "\n",
       "    .dataframe thead th {\n",
       "        text-align: right;\n",
       "    }\n",
       "</style>\n",
       "<table border=\"1\" class=\"dataframe\">\n",
       "  <thead>\n",
       "    <tr style=\"text-align: right;\">\n",
       "      <th></th>\n",
       "      <th>S/N</th>\n",
       "      <th>PRODUCT NAME</th>\n",
       "      <th>NAFDAC No</th>\n",
       "      <th>BRAND NAME</th>\n",
       "      <th>GENERIC NAME</th>\n",
       "      <th>CATEGORY</th>\n",
       "      <th>PHARMACOLOGICAL CLASS</th>\n",
       "      <th>GROUP</th>\n",
       "      <th>COMPOSITION</th>\n",
       "      <th>PRESENTATION</th>\n",
       "      <th>...</th>\n",
       "      <th>APPLICANT(ADDRESS)</th>\n",
       "      <th>APPLICANT(COUNTRY)</th>\n",
       "      <th>MANUFACTURER(FIRM)</th>\n",
       "      <th>MANUFACTURER(TEL.No)</th>\n",
       "      <th>MANUFACTURER(E-MAIL)</th>\n",
       "      <th>MANUFACTURER(ADDRESS)</th>\n",
       "      <th>MANUFACTURER(COUNTRY)</th>\n",
       "      <th>INDEX No</th>\n",
       "      <th>APPROVAL DATE</th>\n",
       "      <th>EXPIRY DATE</th>\n",
       "    </tr>\n",
       "  </thead>\n",
       "  <tbody>\n",
       "    <tr>\n",
       "      <th>90</th>\n",
       "      <td>91</td>\n",
       "      <td>ERYTHROVARD 250 TABLET</td>\n",
       "      <td>04-6243</td>\n",
       "      <td>ERYTHROVARD</td>\n",
       "      <td>ERYTHROMYCIN STEARATE</td>\n",
       "      <td>DRUG</td>\n",
       "      <td>ANTIBIOTIC</td>\n",
       "      <td>DRUG</td>\n",
       "      <td>ERYTHROMYCIN STEARATE BP 250MG</td>\n",
       "      <td>TABLETS10 X 10</td>\n",
       "      <td>...</td>\n",
       "      <td>9, BELONWU STREET, FEGGE, ONITSHA, ANAMBRA STATE</td>\n",
       "      <td>NIGERIA</td>\n",
       "      <td>VARDHMAN EXPORTS,</td>\n",
       "      <td>NaN</td>\n",
       "      <td>NaN</td>\n",
       "      <td>PLOTNO. A-188, TTC, M.I.D.C. INDUSTRIAL AREA, ...</td>\n",
       "      <td>INDIA</td>\n",
       "      <td>NaN</td>\n",
       "      <td>02/25/2021</td>\n",
       "      <td>02/24/2026</td>\n",
       "    </tr>\n",
       "    <tr>\n",
       "      <th>112</th>\n",
       "      <td>113</td>\n",
       "      <td>GOLDEN ACCESS CIPROFLOXACIN 500MG TABLETS</td>\n",
       "      <td>C4-1526</td>\n",
       "      <td>GOLDEN ACCESS</td>\n",
       "      <td>CIPROFLOXACIN HYDROCHLORIDE USP 500MG</td>\n",
       "      <td>DRUG</td>\n",
       "      <td>ANTIBIOTIC</td>\n",
       "      <td>DRUG</td>\n",
       "      <td>CIPROFLOXACIN HYDROCHLORIDE USP 500MG</td>\n",
       "      <td>TABLETS1 X 10</td>\n",
       "      <td>...</td>\n",
       "      <td>103, AMECHI ROAD TOPLAND AWKUNANAW, ENUGU, ENU...</td>\n",
       "      <td>NIGERIA</td>\n",
       "      <td>UNILINK PHARMA (P) LTD</td>\n",
       "      <td>NaN</td>\n",
       "      <td>NaN</td>\n",
       "      <td>A-19, SIDCO INDUSTRIAL ESTATE, ALATHUR, THIRUP...</td>\n",
       "      <td>INDIA</td>\n",
       "      <td>NaN</td>\n",
       "      <td>01/28/2021</td>\n",
       "      <td>01/27/2026</td>\n",
       "    </tr>\n",
       "    <tr>\n",
       "      <th>51</th>\n",
       "      <td>52</td>\n",
       "      <td>ORELOX 200MG TABLETS</td>\n",
       "      <td>B4-2087</td>\n",
       "      <td>ORELOX</td>\n",
       "      <td>CEFPODOXIME PROXETIL</td>\n",
       "      <td>DRUG</td>\n",
       "      <td>ANTIBIOTIC</td>\n",
       "      <td>DRUG</td>\n",
       "      <td>CEFPODOXIME PROXETIL 200MG</td>\n",
       "      <td>TABLETS1 X 10</td>\n",
       "      <td>...</td>\n",
       "      <td>JAPAUL HOUSE, PLOT 8 DR. NURUDEEN OLOWOPOPO AV...</td>\n",
       "      <td>NIGERIA</td>\n",
       "      <td>SANOFI WINTHROP INDUSTRIE, COMPIEGNE - FRANCE</td>\n",
       "      <td>NaN</td>\n",
       "      <td>NaN</td>\n",
       "      <td>56 ROUTE DE CHOISY AU BAC, 60205, COMPIEGNE - ...</td>\n",
       "      <td>FRANCE</td>\n",
       "      <td>NaN</td>\n",
       "      <td>01/28/2021</td>\n",
       "      <td>01/27/2026</td>\n",
       "    </tr>\n",
       "    <tr>\n",
       "      <th>5</th>\n",
       "      <td>6</td>\n",
       "      <td>LORATIDINE TABLET</td>\n",
       "      <td>B4-0483</td>\n",
       "      <td>NaN</td>\n",
       "      <td>LORATIDINE</td>\n",
       "      <td>DRUG</td>\n",
       "      <td>ANTI HISTAMINE</td>\n",
       "      <td>DRUG</td>\n",
       "      <td>LORATIDINE 10 MG</td>\n",
       "      <td>SYRUP10 X 10</td>\n",
       "      <td>...</td>\n",
       "      <td>SUITE 8/9 MANGAL PLAZA, AREA II, GARKI, ABUJA.</td>\n",
       "      <td>NIGERIA</td>\n",
       "      <td>ASTAMED HEALTHCARE PVT LTD</td>\n",
       "      <td>NaN</td>\n",
       "      <td>NaN</td>\n",
       "      <td>PLOT NO. 2&amp; 3 PHASE II, GENESIS INDUSTRIAL COM...</td>\n",
       "      <td>INDIA</td>\n",
       "      <td>NaN</td>\n",
       "      <td>06/24/2021</td>\n",
       "      <td>06/23/2026</td>\n",
       "    </tr>\n",
       "    <tr>\n",
       "      <th>65</th>\n",
       "      <td>66</td>\n",
       "      <td>FANMET POWDER FOR ORAL SUSPENSION</td>\n",
       "      <td>A4-6737</td>\n",
       "      <td>FANMET</td>\n",
       "      <td>DIHYDROARTEMISININ +PIPERAQUINE PHOSPHATE</td>\n",
       "      <td>DRUG</td>\n",
       "      <td>ANTIMALARIA</td>\n",
       "      <td>DRUG</td>\n",
       "      <td>DIHYDROARTEMISININ 80MG, PIPERAQUINE PHOSPHATE...</td>\n",
       "      <td>POWDER FOR ORAL SUSPENSION 1 X 80ML</td>\n",
       "      <td>...</td>\n",
       "      <td>16, WILMER STREET OFF TOWN PLANNING WAY ILUPE...</td>\n",
       "      <td>NIGERIA</td>\n",
       "      <td>MAXHEAL LABORATOTRIES  LIMITED</td>\n",
       "      <td>NaN</td>\n",
       "      <td>NaN</td>\n",
       "      <td>2-7/80-85 SURSEZ SACHIN, GUJARAT, 394730, INDIA</td>\n",
       "      <td>INDIA</td>\n",
       "      <td>NaN</td>\n",
       "      <td>01/28/2021</td>\n",
       "      <td>01/27/2026</td>\n",
       "    </tr>\n",
       "  </tbody>\n",
       "</table>\n",
       "<p>5 rows × 27 columns</p>\n",
       "</div>"
      ],
      "text/plain": [
       "     S/N                               PRODUCT NAME NAFDAC No     BRAND NAME  \\\n",
       "90    91                     ERYTHROVARD 250 TABLET   04-6243    ERYTHROVARD   \n",
       "112  113  GOLDEN ACCESS CIPROFLOXACIN 500MG TABLETS   C4-1526  GOLDEN ACCESS   \n",
       "51    52                       ORELOX 200MG TABLETS   B4-2087         ORELOX   \n",
       "5      6                          LORATIDINE TABLET   B4-0483            NaN   \n",
       "65    66         FANMET POWDER FOR ORAL SUSPENSION    A4-6737         FANMET   \n",
       "\n",
       "                                   GENERIC NAME CATEGORY  \\\n",
       "90                       ERYTHROMYCIN STEARATE      DRUG   \n",
       "112       CIPROFLOXACIN HYDROCHLORIDE USP 500MG     DRUG   \n",
       "51                        CEFPODOXIME PROXETIL      DRUG   \n",
       "5                                    LORATIDINE     DRUG   \n",
       "65   DIHYDROARTEMISININ +PIPERAQUINE PHOSPHATE      DRUG   \n",
       "\n",
       "    PHARMACOLOGICAL CLASS GROUP  \\\n",
       "90             ANTIBIOTIC  DRUG   \n",
       "112            ANTIBIOTIC  DRUG   \n",
       "51             ANTIBIOTIC  DRUG   \n",
       "5          ANTI HISTAMINE  DRUG   \n",
       "65            ANTIMALARIA  DRUG   \n",
       "\n",
       "                                           COMPOSITION  \\\n",
       "90                      ERYTHROMYCIN STEARATE BP 250MG   \n",
       "112              CIPROFLOXACIN HYDROCHLORIDE USP 500MG   \n",
       "51                          CEFPODOXIME PROXETIL 200MG   \n",
       "5                                     LORATIDINE 10 MG   \n",
       "65   DIHYDROARTEMISININ 80MG, PIPERAQUINE PHOSPHATE...   \n",
       "\n",
       "                            PRESENTATION  ...  \\\n",
       "90                        TABLETS10 X 10  ...   \n",
       "112                        TABLETS1 X 10  ...   \n",
       "51                         TABLETS1 X 10  ...   \n",
       "5                           SYRUP10 X 10  ...   \n",
       "65   POWDER FOR ORAL SUSPENSION 1 X 80ML  ...   \n",
       "\n",
       "                                    APPLICANT(ADDRESS) APPLICANT(COUNTRY)  \\\n",
       "90    9, BELONWU STREET, FEGGE, ONITSHA, ANAMBRA STATE            NIGERIA   \n",
       "112  103, AMECHI ROAD TOPLAND AWKUNANAW, ENUGU, ENU...            NIGERIA   \n",
       "51   JAPAUL HOUSE, PLOT 8 DR. NURUDEEN OLOWOPOPO AV...            NIGERIA   \n",
       "5       SUITE 8/9 MANGAL PLAZA, AREA II, GARKI, ABUJA.            NIGERIA   \n",
       "65    16, WILMER STREET OFF TOWN PLANNING WAY ILUPE...            NIGERIA   \n",
       "\n",
       "                                MANUFACTURER(FIRM) MANUFACTURER(TEL.No)  \\\n",
       "90                              VARDHMAN EXPORTS,                   NaN   \n",
       "112                         UNILINK PHARMA (P) LTD                  NaN   \n",
       "51   SANOFI WINTHROP INDUSTRIE, COMPIEGNE - FRANCE                  NaN   \n",
       "5                      ASTAMED HEALTHCARE PVT LTD                   NaN   \n",
       "65                  MAXHEAL LABORATOTRIES  LIMITED                  NaN   \n",
       "\n",
       "    MANUFACTURER(E-MAIL)                              MANUFACTURER(ADDRESS)  \\\n",
       "90                   NaN  PLOTNO. A-188, TTC, M.I.D.C. INDUSTRIAL AREA, ...   \n",
       "112                  NaN  A-19, SIDCO INDUSTRIAL ESTATE, ALATHUR, THIRUP...   \n",
       "51                   NaN  56 ROUTE DE CHOISY AU BAC, 60205, COMPIEGNE - ...   \n",
       "5                    NaN  PLOT NO. 2& 3 PHASE II, GENESIS INDUSTRIAL COM...   \n",
       "65                   NaN    2-7/80-85 SURSEZ SACHIN, GUJARAT, 394730, INDIA   \n",
       "\n",
       "     MANUFACTURER(COUNTRY) INDEX No APPROVAL DATE EXPIRY DATE  \n",
       "90                   INDIA      NaN    02/25/2021  02/24/2026  \n",
       "112                  INDIA      NaN    01/28/2021  01/27/2026  \n",
       "51                  FRANCE      NaN    01/28/2021  01/27/2026  \n",
       "5                    INDIA      NaN    06/24/2021  06/23/2026  \n",
       "65                   INDIA      NaN    01/28/2021  01/27/2026  \n",
       "\n",
       "[5 rows x 27 columns]"
      ]
     },
     "execution_count": 39,
     "metadata": {},
     "output_type": "execute_result"
    }
   ],
   "source": [
    "schedule_combo.sample(n=5, random_state=34)"
   ]
  },
  {
   "cell_type": "code",
   "execution_count": 31,
   "metadata": {},
   "outputs": [],
   "source": [
    "drug_napams = pd.read_excel('drug-src-napams.xlsx', parse_dates=True)"
   ]
  },
  {
   "cell_type": "code",
   "execution_count": 32,
   "metadata": {
    "scrolled": true
   },
   "outputs": [
    {
     "name": "stdout",
     "output_type": "stream",
     "text": [
      "<class 'pandas.core.frame.DataFrame'>\n",
      "RangeIndex: 356 entries, 0 to 355\n",
      "Data columns (total 24 columns):\n",
      " #   Column                   Non-Null Count  Dtype  \n",
      "---  ------                   --------------  -----  \n",
      " 0   ProductName              356 non-null    object \n",
      " 1   GenericName              351 non-null    object \n",
      " 2   ApplicationNumber        356 non-null    object \n",
      " 3   NAFDACNumber             346 non-null    object \n",
      " 4   CategoryName             356 non-null    object \n",
      " 5   PharmacologicalClass     354 non-null    object \n",
      " 6   RouteOfAdministration    354 non-null    object \n",
      " 7   ActiveIngredients        354 non-null    object \n",
      " 8   Strength                 0 non-null      float64\n",
      " 9   Presentation             352 non-null    object \n",
      " 10  DosageForm               354 non-null    object \n",
      " 11  PackSize                 355 non-null    object \n",
      " 12  ApprovedIndications      353 non-null    object \n",
      " 13  ApplicantName            356 non-null    object \n",
      " 14  ApplicantPhone           355 non-null    object \n",
      " 15  ApplicantEmail           356 non-null    object \n",
      " 16  ApplicantAddress         356 non-null    object \n",
      " 17  ManufacturerName         347 non-null    object \n",
      " 18  ManufacturerPhoneNumber  347 non-null    object \n",
      " 19  ManufacturerEmail        347 non-null    object \n",
      " 20  ManufacturerAddress      347 non-null    object \n",
      " 21  ManufacturerCountry      328 non-null    object \n",
      " 22  ApprovalDate             356 non-null    object \n",
      " 23  ExpiryDate               356 non-null    object \n",
      "dtypes: float64(1), object(23)\n",
      "memory usage: 66.9+ KB\n"
     ]
    }
   ],
   "source": [
    "drug_napams.info()"
   ]
  },
  {
   "cell_type": "code",
   "execution_count": 33,
   "metadata": {},
   "outputs": [
    {
     "data": {
      "text/html": [
       "<div>\n",
       "<style scoped>\n",
       "    .dataframe tbody tr th:only-of-type {\n",
       "        vertical-align: middle;\n",
       "    }\n",
       "\n",
       "    .dataframe tbody tr th {\n",
       "        vertical-align: top;\n",
       "    }\n",
       "\n",
       "    .dataframe thead th {\n",
       "        text-align: right;\n",
       "    }\n",
       "</style>\n",
       "<table border=\"1\" class=\"dataframe\">\n",
       "  <thead>\n",
       "    <tr style=\"text-align: right;\">\n",
       "      <th></th>\n",
       "      <th>ProductName</th>\n",
       "      <th>GenericName</th>\n",
       "      <th>ApplicationNumber</th>\n",
       "      <th>NAFDACNumber</th>\n",
       "      <th>CategoryName</th>\n",
       "      <th>PharmacologicalClass</th>\n",
       "      <th>RouteOfAdministration</th>\n",
       "      <th>ActiveIngredients</th>\n",
       "      <th>Strength</th>\n",
       "      <th>Presentation</th>\n",
       "      <th>...</th>\n",
       "      <th>ApplicantPhone</th>\n",
       "      <th>ApplicantEmail</th>\n",
       "      <th>ApplicantAddress</th>\n",
       "      <th>ManufacturerName</th>\n",
       "      <th>ManufacturerPhoneNumber</th>\n",
       "      <th>ManufacturerEmail</th>\n",
       "      <th>ManufacturerAddress</th>\n",
       "      <th>ManufacturerCountry</th>\n",
       "      <th>ApprovalDate</th>\n",
       "      <th>ExpiryDate</th>\n",
       "    </tr>\n",
       "  </thead>\n",
       "  <tbody>\n",
       "    <tr>\n",
       "      <th>245</th>\n",
       "      <td>FIDSON MIST MAGENISIUM TRISILICATE SUSPENSION</td>\n",
       "      <td>MAGNESIUM TRISILICATE 250MG, LIGHT MAGNESIUM C...</td>\n",
       "      <td>CPD-PP-215681</td>\n",
       "      <td>A11-0351</td>\n",
       "      <td>DRUGS</td>\n",
       "      <td>DRUGS FOR CORRECTING WATER ELECTROLYTE AND ACI...</td>\n",
       "      <td>ORAL</td>\n",
       "      <td>MAGNESIUM TRISILICATE 250MG, LIGHT MAGENESIUM ...</td>\n",
       "      <td>NaN</td>\n",
       "      <td>200ML</td>\n",
       "      <td>...</td>\n",
       "      <td>017406817</td>\n",
       "      <td>nmakaokolo@yahoo.com</td>\n",
       "      <td>268, IKORODU ROAD, OBANIKORO, LAGOS, NIGERIA</td>\n",
       "      <td>FIDSON HEALTHCARE PLC.</td>\n",
       "      <td>234802306</td>\n",
       "      <td>customercare@fidson.com</td>\n",
       "      <td>KM 38, LAGOS- ABEOKUTA EXPRESSWAY SANGO-OTA, O...</td>\n",
       "      <td>NIGERIA</td>\n",
       "      <td>2018-06-14</td>\n",
       "      <td>2023-06-13</td>\n",
       "    </tr>\n",
       "    <tr>\n",
       "      <th>27</th>\n",
       "      <td>NKOYO TRAMADOL 50MG CAPSULES</td>\n",
       "      <td>TRAMADOL HCL 50MG</td>\n",
       "      <td>PEX-PP-193585</td>\n",
       "      <td>A4-0678</td>\n",
       "      <td>DRUGS</td>\n",
       "      <td>ANALGESICS</td>\n",
       "      <td>ORAL</td>\n",
       "      <td>TRAMADOL 50MG</td>\n",
       "      <td>NaN</td>\n",
       "      <td>10 X10</td>\n",
       "      <td>...</td>\n",
       "      <td>08034144316</td>\n",
       "      <td>nkoyocoy@yahoo.com</td>\n",
       "      <td>18 UKPOR STREET FEGGE ONITSHA ANAMBRA STATE</td>\n",
       "      <td>MANCARE PHARMACEUTICALS PVT, LTD,</td>\n",
       "      <td>009912502324819</td>\n",
       "      <td>mancerp@yahoo.co.it</td>\n",
       "      <td>MANCARE PHARMACEUTICALS PVT, LTD, PLOT NO, 59,...</td>\n",
       "      <td>INDIA</td>\n",
       "      <td>2021-05-28</td>\n",
       "      <td>2026-05-27</td>\n",
       "    </tr>\n",
       "    <tr>\n",
       "      <th>286</th>\n",
       "      <td>UMBLICARE GEL</td>\n",
       "      <td>CHLORHEXIDINE DIGLUCONATE</td>\n",
       "      <td>RNW-PP-223951</td>\n",
       "      <td>A11-0137</td>\n",
       "      <td>DRUGS</td>\n",
       "      <td>DERMATOLOGICAL AGENTS</td>\n",
       "      <td>CUTANEOUS/TOPICAL ROUTE</td>\n",
       "      <td>7.1% CHLORHEXIDINE GLUCONATE, BP. EQ. TO 4% CH...</td>\n",
       "      <td>NaN</td>\n",
       "      <td>IT IS PRESENTED IN ALUMINIUM TUBE , IN PACK OF...</td>\n",
       "      <td>...</td>\n",
       "      <td>08073894290</td>\n",
       "      <td>spjawasil@gmail.com</td>\n",
       "      <td>JAWA HOUSE COMPOUND\\nPLOT 6, ABIMBOLA WAY,\\nIS...</td>\n",
       "      <td>JAWA INTERNATIONAL  LIMITED</td>\n",
       "      <td>08073894290</td>\n",
       "      <td>spjawasil@gmail.com</td>\n",
       "      <td>PLOT 6, ABIMBOLA WAY, ISOLO INDUSTRIAL ESTATE,...</td>\n",
       "      <td>NIGERIA</td>\n",
       "      <td>2016-10-05</td>\n",
       "      <td>2021-10-04</td>\n",
       "    </tr>\n",
       "    <tr>\n",
       "      <th>331</th>\n",
       "      <td>COLTAB</td>\n",
       "      <td>PARACETAMOL, CAFFEINE(ANHYDROUS), PSEUDOEPHEDR...</td>\n",
       "      <td>PEX-PP-227647</td>\n",
       "      <td>o4-0584</td>\n",
       "      <td>DRUGS</td>\n",
       "      <td>ANTIHISTAMINES AND ANTIALLERGICS</td>\n",
       "      <td>ORAL</td>\n",
       "      <td>EACH TABLET CONTAINS : PARACETAMOL 500MG, CAFF...</td>\n",
       "      <td>NaN</td>\n",
       "      <td>A LIGHT PICK TABLET PLAIN ON BOTH SIDE PACKED ...</td>\n",
       "      <td>...</td>\n",
       "      <td>08088396194</td>\n",
       "      <td>info.fol@falma.com</td>\n",
       "      <td>38/40, BURMA ROAD, APAPA, LAGOS,NIGERIA</td>\n",
       "      <td>AFROMED INDUSTRIES LTD.</td>\n",
       "      <td>08065677475</td>\n",
       "      <td>info@afromedindustries.com</td>\n",
       "      <td>KM 34, LAGOS-ABEOKUTA EXPRESSWAY, AMJE, LAGOS.</td>\n",
       "      <td>NIGERIA</td>\n",
       "      <td>2020-02-27</td>\n",
       "      <td>2025-02-26</td>\n",
       "    </tr>\n",
       "    <tr>\n",
       "      <th>50</th>\n",
       "      <td>AFORUXIME POWDER FOR ORAL SUSPENSION</td>\n",
       "      <td>CEFUROXINE AXETIL</td>\n",
       "      <td>PEX-PP-195350</td>\n",
       "      <td>C4-0844</td>\n",
       "      <td>DRUGS</td>\n",
       "      <td>ANTIBIOTIC</td>\n",
       "      <td>ORAL</td>\n",
       "      <td>CEFUROXINE AXETIL USP 125MG/5ML</td>\n",
       "      <td>NaN</td>\n",
       "      <td>50ML BOTTLE</td>\n",
       "      <td>...</td>\n",
       "      <td>07030335345</td>\n",
       "      <td>osayandefav@gmail.com</td>\n",
       "      <td>9, OLORUNOJOWON STREET, BENSON BUS-STOP, IKORO...</td>\n",
       "      <td>NaN</td>\n",
       "      <td>NaN</td>\n",
       "      <td>NaN</td>\n",
       "      <td>NaN</td>\n",
       "      <td>NaN</td>\n",
       "      <td>2020-07-03</td>\n",
       "      <td>2025-07-02</td>\n",
       "    </tr>\n",
       "  </tbody>\n",
       "</table>\n",
       "<p>5 rows × 24 columns</p>\n",
       "</div>"
      ],
      "text/plain": [
       "                                       ProductName  \\\n",
       "245  FIDSON MIST MAGENISIUM TRISILICATE SUSPENSION   \n",
       "27                    NKOYO TRAMADOL 50MG CAPSULES   \n",
       "286                                  UMBLICARE GEL   \n",
       "331                                         COLTAB   \n",
       "50            AFORUXIME POWDER FOR ORAL SUSPENSION   \n",
       "\n",
       "                                           GenericName ApplicationNumber  \\\n",
       "245  MAGNESIUM TRISILICATE 250MG, LIGHT MAGNESIUM C...     CPD-PP-215681   \n",
       "27                                   TRAMADOL HCL 50MG     PEX-PP-193585   \n",
       "286                          CHLORHEXIDINE DIGLUCONATE     RNW-PP-223951   \n",
       "331  PARACETAMOL, CAFFEINE(ANHYDROUS), PSEUDOEPHEDR...     PEX-PP-227647   \n",
       "50                                   CEFUROXINE AXETIL     PEX-PP-195350   \n",
       "\n",
       "    NAFDACNumber CategoryName  \\\n",
       "245     A11-0351        DRUGS   \n",
       "27       A4-0678        DRUGS   \n",
       "286     A11-0137        DRUGS   \n",
       "331      o4-0584        DRUGS   \n",
       "50       C4-0844        DRUGS   \n",
       "\n",
       "                                  PharmacologicalClass  \\\n",
       "245  DRUGS FOR CORRECTING WATER ELECTROLYTE AND ACI...   \n",
       "27                                          ANALGESICS   \n",
       "286                              DERMATOLOGICAL AGENTS   \n",
       "331                   ANTIHISTAMINES AND ANTIALLERGICS   \n",
       "50                                          ANTIBIOTIC   \n",
       "\n",
       "       RouteOfAdministration  \\\n",
       "245                     ORAL   \n",
       "27                      ORAL   \n",
       "286  CUTANEOUS/TOPICAL ROUTE   \n",
       "331                     ORAL   \n",
       "50                      ORAL   \n",
       "\n",
       "                                     ActiveIngredients  Strength  \\\n",
       "245  MAGNESIUM TRISILICATE 250MG, LIGHT MAGENESIUM ...       NaN   \n",
       "27                                       TRAMADOL 50MG       NaN   \n",
       "286  7.1% CHLORHEXIDINE GLUCONATE, BP. EQ. TO 4% CH...       NaN   \n",
       "331  EACH TABLET CONTAINS : PARACETAMOL 500MG, CAFF...       NaN   \n",
       "50                     CEFUROXINE AXETIL USP 125MG/5ML       NaN   \n",
       "\n",
       "                                          Presentation  ... ApplicantPhone  \\\n",
       "245                                              200ML  ...      017406817   \n",
       "27                                              10 X10  ...    08034144316   \n",
       "286  IT IS PRESENTED IN ALUMINIUM TUBE , IN PACK OF...  ...    08073894290   \n",
       "331  A LIGHT PICK TABLET PLAIN ON BOTH SIDE PACKED ...  ...    08088396194   \n",
       "50                                         50ML BOTTLE  ...    07030335345   \n",
       "\n",
       "            ApplicantEmail                                   ApplicantAddress  \\\n",
       "245   nmakaokolo@yahoo.com       268, IKORODU ROAD, OBANIKORO, LAGOS, NIGERIA   \n",
       "27      nkoyocoy@yahoo.com        18 UKPOR STREET FEGGE ONITSHA ANAMBRA STATE   \n",
       "286    spjawasil@gmail.com  JAWA HOUSE COMPOUND\\nPLOT 6, ABIMBOLA WAY,\\nIS...   \n",
       "331     info.fol@falma.com            38/40, BURMA ROAD, APAPA, LAGOS,NIGERIA   \n",
       "50   osayandefav@gmail.com  9, OLORUNOJOWON STREET, BENSON BUS-STOP, IKORO...   \n",
       "\n",
       "                       ManufacturerName ManufacturerPhoneNumber  \\\n",
       "245              FIDSON HEALTHCARE PLC.               234802306   \n",
       "27   MANCARE PHARMACEUTICALS PVT, LTD,          009912502324819   \n",
       "286         JAWA INTERNATIONAL  LIMITED             08073894290   \n",
       "331             AFROMED INDUSTRIES LTD.             08065677475   \n",
       "50                                  NaN                     NaN   \n",
       "\n",
       "              ManufacturerEmail  \\\n",
       "245     customercare@fidson.com   \n",
       "27          mancerp@yahoo.co.it   \n",
       "286         spjawasil@gmail.com   \n",
       "331  info@afromedindustries.com   \n",
       "50                          NaN   \n",
       "\n",
       "                                   ManufacturerAddress ManufacturerCountry  \\\n",
       "245  KM 38, LAGOS- ABEOKUTA EXPRESSWAY SANGO-OTA, O...             NIGERIA   \n",
       "27   MANCARE PHARMACEUTICALS PVT, LTD, PLOT NO, 59,...               INDIA   \n",
       "286  PLOT 6, ABIMBOLA WAY, ISOLO INDUSTRIAL ESTATE,...             NIGERIA   \n",
       "331     KM 34, LAGOS-ABEOKUTA EXPRESSWAY, AMJE, LAGOS.             NIGERIA   \n",
       "50                                                 NaN                 NaN   \n",
       "\n",
       "    ApprovalDate  ExpiryDate  \n",
       "245   2018-06-14  2023-06-13  \n",
       "27    2021-05-28  2026-05-27  \n",
       "286   2016-10-05  2021-10-04  \n",
       "331   2020-02-27  2025-02-26  \n",
       "50    2020-07-03  2025-07-02  \n",
       "\n",
       "[5 rows x 24 columns]"
      ]
     },
     "execution_count": 33,
     "metadata": {},
     "output_type": "execute_result"
    }
   ],
   "source": [
    "drug_napams.sample(n=5, random_state=34)"
   ]
  },
  {
   "cell_type": "code",
   "execution_count": 34,
   "metadata": {},
   "outputs": [],
   "source": [
    "#jan.drop('date_time', axis=1, inplace=True)"
   ]
  },
  {
   "cell_type": "code",
   "execution_count": 35,
   "metadata": {},
   "outputs": [],
   "source": [
    "#for num, name in enumerate(col_name, start=1):\n",
    " #   print(\"Column {}: {}\".format(num, name))"
   ]
  },
  {
   "cell_type": "code",
   "execution_count": 36,
   "metadata": {},
   "outputs": [],
   "source": [
    "#list_remove = ['APPLICANT ADDRESS', 'MANUFACTURER ADDRESS']\n",
    "#res_list = list(set(col_name) - set(list_remove))\n"
   ]
  },
  {
   "cell_type": "code",
   "execution_count": 37,
   "metadata": {},
   "outputs": [],
   "source": [
    "#drug_noduplicate = pd.read_excel('new-drug-v7-no-duplicates.xlsx',index_col=0, parse_dates=True)"
   ]
  },
  {
   "cell_type": "code",
   "execution_count": 38,
   "metadata": {},
   "outputs": [],
   "source": [
    "#res_list"
   ]
  }
 ],
 "metadata": {
  "kernelspec": {
   "display_name": "Python 3",
   "language": "python",
   "name": "python3"
  },
  "language_info": {
   "codemirror_mode": {
    "name": "ipython",
    "version": 3
   },
   "file_extension": ".py",
   "mimetype": "text/x-python",
   "name": "python",
   "nbconvert_exporter": "python",
   "pygments_lexer": "ipython3",
   "version": "3.8.3"
  }
 },
 "nbformat": 4,
 "nbformat_minor": 4
}
