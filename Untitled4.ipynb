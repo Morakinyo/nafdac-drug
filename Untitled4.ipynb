{
 "cells": [
  {
   "cell_type": "code",
   "execution_count": 18,
   "metadata": {},
   "outputs": [],
   "source": [
    "import pandas as pd\n",
    "import numpy as np\n",
    "drug = pd.read_excel('new-drug-v6.xlsx', index_col=0, parse_dates=['APPROVAL DATE','EXPIRY DATE'])"
   ]
  },
  {
   "cell_type": "code",
   "execution_count": 19,
   "metadata": {},
   "outputs": [
    {
     "name": "stdout",
     "output_type": "stream",
     "text": [
      "<class 'pandas.core.frame.DataFrame'>\n",
      "Int64Index: 5854 entries, 0 to 5853\n",
      "Data columns (total 21 columns):\n",
      " #   Column                   Non-Null Count  Dtype         \n",
      "---  ------                   --------------  -----         \n",
      " 0   PRODUCT NAME             5854 non-null   object        \n",
      " 1   NAFDAC                   5854 non-null   object        \n",
      " 2   BRAND                    5854 non-null   object        \n",
      " 3   GENERICS                 5854 non-null   object        \n",
      " 4   PRODUCT CATEGORY         5854 non-null   object        \n",
      " 5   PHARM CLASS              5823 non-null   object        \n",
      " 6   ROUTE OF ADMINISTRATION  5854 non-null   object        \n",
      " 7   GROUP                    5854 non-null   object        \n",
      " 8   ACTIVE ING               5854 non-null   object        \n",
      " 9   STRENGTH                 5758 non-null   object        \n",
      " 10  DOSAGE FORM              5850 non-null   object        \n",
      " 11  MARKETING CATEGORY       5854 non-null   object        \n",
      " 12  APPROVED INDICATION      5853 non-null   object        \n",
      " 13  NAME OF APPLICANT        5852 non-null   object        \n",
      " 14  APPLICANT ADDRESS        5854 non-null   object        \n",
      " 15  COUNTRY OF APPLICANT     5854 non-null   object        \n",
      " 16  NAME OF MANUFACTURER     5854 non-null   object        \n",
      " 17  MANUFACTURER ADDRESS     5854 non-null   object        \n",
      " 18  COUNTRY OF MANUFACTURE   5854 non-null   object        \n",
      " 19  APPROVAL DATE            5854 non-null   datetime64[ns]\n",
      " 20  EXPIRY DATE              5854 non-null   datetime64[ns]\n",
      "dtypes: datetime64[ns](2), object(19)\n",
      "memory usage: 1006.2+ KB\n"
     ]
    }
   ],
   "source": [
    "drug.info()"
   ]
  },
  {
   "cell_type": "code",
   "execution_count": 21,
   "metadata": {},
   "outputs": [],
   "source": [
    "drug['APPROVAL DATE'] = pd.to_datetime(drug['APPROVAL DATE']).dt.date"
   ]
  },
  {
   "cell_type": "code",
   "execution_count": 22,
   "metadata": {},
   "outputs": [],
   "source": [
    "drug['EXPIRY DATE'] = pd.to_datetime(drug['EXPIRY DATE']).dt.date"
   ]
  },
  {
   "cell_type": "code",
   "execution_count": 23,
   "metadata": {},
   "outputs": [
    {
     "data": {
      "text/plain": [
       "PRODUCT NAME                                              AC-DICLO 50 TABLET\n",
       "NAFDAC                                                              A11-0414\n",
       "BRAND                                                               AC-DICLO\n",
       "GENERICS                                                          DICLOFENAC\n",
       "PRODUCT CATEGORY                                                  HUMAN DRUG\n",
       "PHARM CLASS                                 ANTI-RHEUMATIC/ANTI-INFLAMMATORY\n",
       "ROUTE OF ADMINISTRATION                                                 ORAL\n",
       "GROUP                                                                   DRUG\n",
       "ACTIVE ING                                            DICLOFENAC SODIUM 50MG\n",
       "STRENGTH                                                                50MG\n",
       "DOSAGE FORM                                                           TABLET\n",
       "MARKETING CATEGORY                          PRESCRIPTION ONLY MEDICINE (POM)\n",
       "APPROVED INDICATION                          RELIEF OF PAIN AND INFLAMMATION\n",
       "NAME OF APPLICANT                                               AC DRUGS LTD\n",
       "APPLICANT ADDRESS          4 ALOR ROAD, EDWARD NNAJI LAYOUT, ABAKPA, NIKE...\n",
       "COUNTRY OF APPLICANT                                                 NIGERIA\n",
       "NAME OF MANUFACTURER                                       SAME AS APPLICANT\n",
       "MANUFACTURER ADDRESS                                       SAME AS APPLICANT\n",
       "COUNTRY OF MANUFACTURE                                               NIGERIA\n",
       "APPROVAL DATE                                                     2017-07-04\n",
       "EXPIRY DATE                                                       2022-07-03\n",
       "Name: 1203, dtype: object"
      ]
     },
     "execution_count": 23,
     "metadata": {},
     "output_type": "execute_result"
    }
   ],
   "source": [
    "drug.iloc[1203]"
   ]
  },
  {
   "cell_type": "code",
   "execution_count": 24,
   "metadata": {},
   "outputs": [],
   "source": [
    "drug['NAME OF APPLICANT'] = drug['NAME OF APPLICANT'].str.rstrip(',')"
   ]
  },
  {
   "cell_type": "code",
   "execution_count": 25,
   "metadata": {},
   "outputs": [],
   "source": [
    "drug['NAME OF APPLICANT'] = drug['NAME OF APPLICANT'].str.rstrip('.')"
   ]
  },
  {
   "cell_type": "code",
   "execution_count": 26,
   "metadata": {},
   "outputs": [],
   "source": [
    "drug.to_excel('new-drug-v7.xlsx')"
   ]
  },
  {
   "cell_type": "code",
   "execution_count": null,
   "metadata": {},
   "outputs": [],
   "source": []
  }
 ],
 "metadata": {
  "kernelspec": {
   "display_name": "Python 3",
   "language": "python",
   "name": "python3"
  },
  "language_info": {
   "codemirror_mode": {
    "name": "ipython",
    "version": 3
   },
   "file_extension": ".py",
   "mimetype": "text/x-python",
   "name": "python",
   "nbconvert_exporter": "python",
   "pygments_lexer": "ipython3",
   "version": "3.8.3"
  }
 },
 "nbformat": 4,
 "nbformat_minor": 4
}
