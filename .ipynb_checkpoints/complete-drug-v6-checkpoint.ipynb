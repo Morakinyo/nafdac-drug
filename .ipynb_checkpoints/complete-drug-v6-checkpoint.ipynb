{
 "cells": [
  {
   "cell_type": "code",
   "execution_count": 65,
   "metadata": {},
   "outputs": [],
   "source": [
    "import pandas as pd\n",
    "import numpy as np"
   ]
  },
  {
   "cell_type": "code",
   "execution_count": 66,
   "metadata": {},
   "outputs": [],
   "source": [
    "drug = pd.read_excel('new-drug-v5.xlsx', index_col=0, parse_dates=['APPROVAL DATE', 'EXPIRY DATE'])"
   ]
  },
  {
   "cell_type": "code",
   "execution_count": 67,
   "metadata": {},
   "outputs": [
    {
     "name": "stdout",
     "output_type": "stream",
     "text": [
      "<class 'pandas.core.frame.DataFrame'>\n",
      "Int64Index: 5854 entries, 0 to 5853\n",
      "Data columns (total 23 columns):\n",
      " #   Column                   Non-Null Count  Dtype         \n",
      "---  ------                   --------------  -----         \n",
      " 0   PRODUCT NAME             5854 non-null   object        \n",
      " 1   NAFDAC                   5854 non-null   object        \n",
      " 2   BRAND                    5854 non-null   object        \n",
      " 3   GENERICS                 5854 non-null   object        \n",
      " 4   PRODUCT CATEGORY         5854 non-null   object        \n",
      " 5   PHARM CLASS              5854 non-null   object        \n",
      " 6   ROUTE OF ADMINISTRATION  5854 non-null   object        \n",
      " 7   GROUP                    5854 non-null   object        \n",
      " 8   ACTIVE ING               5854 non-null   object        \n",
      " 9   STRENGTH                 5758 non-null   object        \n",
      " 10  PRESENTATION             5854 non-null   object        \n",
      " 11  DOSAGE FORM              5854 non-null   object        \n",
      " 12  PACK SIZE                5854 non-null   object        \n",
      " 13  MARKETING CATEGORY       5854 non-null   object        \n",
      " 14  APPROVED INDICATION      5853 non-null   object        \n",
      " 15  NAME OF APPLICANT        5852 non-null   object        \n",
      " 16  APPLICANT ADDRESS        5854 non-null   object        \n",
      " 17  COUNTRY                  5854 non-null   object        \n",
      " 18  NAME OF MANUFACTURER     5854 non-null   object        \n",
      " 19  MANUFACTURER ADDRESS     5854 non-null   object        \n",
      " 20  COUNTRY.1                5854 non-null   object        \n",
      " 21  APPROVAL DATE            5854 non-null   datetime64[ns]\n",
      " 22  EXPIRY DATE              5854 non-null   datetime64[ns]\n",
      "dtypes: datetime64[ns](2), object(21)\n",
      "memory usage: 1.1+ MB\n"
     ]
    }
   ],
   "source": [
    "drug.info()"
   ]
  },
  {
   "cell_type": "code",
   "execution_count": 46,
   "metadata": {},
   "outputs": [],
   "source": [
    "#drugs.drop(['date_time'], axis=1, inplace=True)"
   ]
  },
  {
   "cell_type": "code",
   "execution_count": 49,
   "metadata": {},
   "outputs": [],
   "source": [
    "#drugs.to_excel('new-drug-v5.xlsx')"
   ]
  },
  {
   "cell_type": "code",
   "execution_count": null,
   "metadata": {},
   "outputs": [],
   "source": [
    "#updated_df['date_time'] = pd.to_datetime(updated_df['APPROVAL DATE'], errors='coerce')\n",
    "#print(updated_df[updated_df.date_time.isnull()])"
   ]
  },
  {
   "cell_type": "code",
   "execution_count": 44,
   "metadata": {},
   "outputs": [],
   "source": [
    "#null_apptime = drug.loc[drug['APPROVAL DATE'].isnull(), :]"
   ]
  },
  {
   "cell_type": "code",
   "execution_count": 68,
   "metadata": {},
   "outputs": [],
   "source": [
    "#null_apptime"
   ]
  },
  {
   "cell_type": "code",
   "execution_count": 69,
   "metadata": {},
   "outputs": [
    {
     "data": {
      "text/plain": [
       "PRODUCT NAME                                              SPEDRA 100 TABLETS\n",
       "NAFDAC                                                               B4-7413\n",
       "BRAND                                                                 SPEDRA\n",
       "GENERICS                                                            AVANAFIL\n",
       "PRODUCT CATEGORY                                                  HUMAN DRUG\n",
       "PHARM CLASS                               TYPE 5 PHOSPHODIESTERASE INHIBITOR\n",
       "ROUTE OF ADMINISTRATION                                                 ORAL\n",
       "GROUP                                                                   DRUG\n",
       "ACTIVE ING                                                    AVANAFIL 100MG\n",
       "STRENGTH                                                               100MG\n",
       "PRESENTATION                                                   TABLETS, 1X4,\n",
       "DOSAGE FORM                                                          TABLETS\n",
       "PACK SIZE                                                               1X4,\n",
       "MARKETING CATEGORY                          PRESCRIPTION ONLY MEDICINE (POM)\n",
       "APPROVED INDICATION                        TREATMENT OF ERECTILE DYSFUNCTION\n",
       "NAME OF APPLICANT                               SANOFI AVENTIS NIG. LIMITED.\n",
       "APPLICANT ADDRESS          PLOT 120513, AMODU OJIKULU STREET, VICTORIA IS...\n",
       "COUNTRY                                                              NIGERIA\n",
       "NAME OF MANUFACTURER                              SANOFI WINTHROP INDUSTRIE,\n",
       "MANUFACTURER ADDRESS       1, RUE DE LA VIERGE, AMBARES-ET-LAGRAVE 33565 ...\n",
       "COUNTRY.1                                                             FRANCE\n",
       "APPROVAL DATE                                            2017-08-29 00:00:00\n",
       "EXPIRY DATE                                              2022-08-07 00:00:00\n",
       "Name: 1293, dtype: object"
      ]
     },
     "execution_count": 69,
     "metadata": {},
     "output_type": "execute_result"
    }
   ],
   "source": [
    "drug.iloc[1293]"
   ]
  },
  {
   "cell_type": "code",
   "execution_count": 70,
   "metadata": {},
   "outputs": [],
   "source": [
    "drug.rename(columns={'COUNTRY':'COUNTRY OF APPLICANT', 'COUNTRY.1':'COUNTRY OF MANUFACTURE'}, inplace=True)"
   ]
  },
  {
   "cell_type": "code",
   "execution_count": null,
   "metadata": {},
   "outputs": [],
   "source": [
    "#drug.drop['date_time']"
   ]
  },
  {
   "cell_type": "code",
   "execution_count": 71,
   "metadata": {},
   "outputs": [
    {
     "name": "stdout",
     "output_type": "stream",
     "text": [
      "<class 'pandas.core.frame.DataFrame'>\n",
      "Int64Index: 5854 entries, 0 to 5853\n",
      "Data columns (total 23 columns):\n",
      " #   Column                   Non-Null Count  Dtype         \n",
      "---  ------                   --------------  -----         \n",
      " 0   PRODUCT NAME             5854 non-null   object        \n",
      " 1   NAFDAC                   5854 non-null   object        \n",
      " 2   BRAND                    5854 non-null   object        \n",
      " 3   GENERICS                 5854 non-null   object        \n",
      " 4   PRODUCT CATEGORY         5854 non-null   object        \n",
      " 5   PHARM CLASS              5854 non-null   object        \n",
      " 6   ROUTE OF ADMINISTRATION  5854 non-null   object        \n",
      " 7   GROUP                    5854 non-null   object        \n",
      " 8   ACTIVE ING               5854 non-null   object        \n",
      " 9   STRENGTH                 5758 non-null   object        \n",
      " 10  PRESENTATION             5854 non-null   object        \n",
      " 11  DOSAGE FORM              5854 non-null   object        \n",
      " 12  PACK SIZE                5854 non-null   object        \n",
      " 13  MARKETING CATEGORY       5854 non-null   object        \n",
      " 14  APPROVED INDICATION      5853 non-null   object        \n",
      " 15  NAME OF APPLICANT        5852 non-null   object        \n",
      " 16  APPLICANT ADDRESS        5854 non-null   object        \n",
      " 17  COUNTRY OF APPLICANT     5854 non-null   object        \n",
      " 18  NAME OF MANUFACTURER     5854 non-null   object        \n",
      " 19  MANUFACTURER ADDRESS     5854 non-null   object        \n",
      " 20  COUNTRY OF MANUFACTURE   5854 non-null   object        \n",
      " 21  APPROVAL DATE            5854 non-null   datetime64[ns]\n",
      " 22  EXPIRY DATE              5854 non-null   datetime64[ns]\n",
      "dtypes: datetime64[ns](2), object(21)\n",
      "memory usage: 1.1+ MB\n"
     ]
    }
   ],
   "source": [
    "drug.info()"
   ]
  },
  {
   "cell_type": "code",
   "execution_count": 72,
   "metadata": {},
   "outputs": [],
   "source": [
    "drugList = pd.read_excel('drug-data-list-v2.xlsx', sheet_name=None, index_col=0)"
   ]
  },
  {
   "cell_type": "code",
   "execution_count": 73,
   "metadata": {},
   "outputs": [
    {
     "data": {
      "text/plain": [
       "dict_keys(['pharm-class', 'dosage-form'])"
      ]
     },
     "execution_count": 73,
     "metadata": {},
     "output_type": "execute_result"
    }
   ],
   "source": [
    "drugList.keys()"
   ]
  },
  {
   "cell_type": "code",
   "execution_count": 74,
   "metadata": {},
   "outputs": [],
   "source": [
    "pharmclass = drugList['pharm-class']"
   ]
  },
  {
   "cell_type": "code",
   "execution_count": 75,
   "metadata": {},
   "outputs": [
    {
     "name": "stdout",
     "output_type": "stream",
     "text": [
      "<class 'pandas.core.frame.DataFrame'>\n",
      "Int64Index: 786 entries, 0 to 785\n",
      "Data columns (total 2 columns):\n",
      " #   Column         Non-Null Count  Dtype \n",
      "---  ------         --------------  ----- \n",
      " 0   PHARM CLASS    786 non-null    object\n",
      " 1   PHARM CLASSes  763 non-null    object\n",
      "dtypes: object(2)\n",
      "memory usage: 18.4+ KB\n"
     ]
    }
   ],
   "source": [
    "pharmclass.info()"
   ]
  },
  {
   "cell_type": "code",
   "execution_count": 76,
   "metadata": {},
   "outputs": [],
   "source": [
    "dosage = drugList['dosage-form']"
   ]
  },
  {
   "cell_type": "code",
   "execution_count": 77,
   "metadata": {},
   "outputs": [
    {
     "name": "stdout",
     "output_type": "stream",
     "text": [
      "<class 'pandas.core.frame.DataFrame'>\n",
      "Int64Index: 145 entries, 0 to 144\n",
      "Data columns (total 2 columns):\n",
      " #   Column        Non-Null Count  Dtype \n",
      "---  ------        --------------  ----- \n",
      " 0   DOSAGE FORM   145 non-null    object\n",
      " 1   DOSAGE FORMs  140 non-null    object\n",
      "dtypes: object(2)\n",
      "memory usage: 3.4+ KB\n"
     ]
    }
   ],
   "source": [
    "dosage.info()"
   ]
  },
  {
   "cell_type": "code",
   "execution_count": 78,
   "metadata": {},
   "outputs": [],
   "source": [
    "dose_dictionary = dict(dosage.values)"
   ]
  },
  {
   "cell_type": "code",
   "execution_count": 79,
   "metadata": {},
   "outputs": [],
   "source": [
    "pharma_dictionary = dict(pharmclass.values)"
   ]
  },
  {
   "cell_type": "code",
   "execution_count": 80,
   "metadata": {},
   "outputs": [],
   "source": [
    "#pharma_dictionary"
   ]
  },
  {
   "cell_type": "code",
   "execution_count": 81,
   "metadata": {},
   "outputs": [],
   "source": [
    "drug['PHARM CLASS'].replace(pharma_dictionary, inplace=True)"
   ]
  },
  {
   "cell_type": "code",
   "execution_count": 82,
   "metadata": {},
   "outputs": [],
   "source": [
    "drug['DOSAGE FORM'].replace(dose_dictionary, inplace=True)"
   ]
  },
  {
   "cell_type": "code",
   "execution_count": 83,
   "metadata": {},
   "outputs": [],
   "source": [
    "%run null_values.py"
   ]
  },
  {
   "cell_type": "code",
   "execution_count": 84,
   "metadata": {},
   "outputs": [
    {
     "data": {
      "text/plain": [
       "PHARM CLASS            31\n",
       "STRENGTH               96\n",
       "DOSAGE FORM             4\n",
       "APPROVED INDICATION     1\n",
       "NAME OF APPLICANT       2\n",
       "dtype: int64"
      ]
     },
     "execution_count": 84,
     "metadata": {},
     "output_type": "execute_result"
    }
   ],
   "source": [
    "nullcols(drug)"
   ]
  },
  {
   "cell_type": "code",
   "execution_count": null,
   "metadata": {},
   "outputs": [],
   "source": []
  }
 ],
 "metadata": {
  "kernelspec": {
   "display_name": "Python 3",
   "language": "python",
   "name": "python3"
  },
  "language_info": {
   "codemirror_mode": {
    "name": "ipython",
    "version": 3
   },
   "file_extension": ".py",
   "mimetype": "text/x-python",
   "name": "python",
   "nbconvert_exporter": "python",
   "pygments_lexer": "ipython3",
   "version": "3.8.3"
  }
 },
 "nbformat": 4,
 "nbformat_minor": 4
}
